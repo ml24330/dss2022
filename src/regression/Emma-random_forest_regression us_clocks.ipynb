{
 "cells": [
  {
   "cell_type": "code",
   "execution_count": 1,
   "id": "f87387c0",
   "metadata": {},
   "outputs": [],
   "source": [
    "import pandas as pd"
   ]
  },
  {
   "cell_type": "code",
   "execution_count": 3,
   "id": "056b96f7",
   "metadata": {},
   "outputs": [],
   "source": [
    "data=pd.read_csv(\"us_clocks.csv\")"
   ]
  },
  {
   "cell_type": "code",
   "execution_count": 4,
   "id": "c82188d1",
   "metadata": {},
   "outputs": [
    {
     "data": {
      "text/html": [
       "<div>\n",
       "<style scoped>\n",
       "    .dataframe tbody tr th:only-of-type {\n",
       "        vertical-align: middle;\n",
       "    }\n",
       "\n",
       "    .dataframe tbody tr th {\n",
       "        vertical-align: top;\n",
       "    }\n",
       "\n",
       "    .dataframe thead th {\n",
       "        text-align: right;\n",
       "    }\n",
       "</style>\n",
       "<table border=\"1\" class=\"dataframe\">\n",
       "  <thead>\n",
       "    <tr style=\"text-align: right;\">\n",
       "      <th></th>\n",
       "      <th>id</th>\n",
       "      <th>listingIsTopRated</th>\n",
       "      <th>sellerFeedbackScore</th>\n",
       "      <th>sellerPositivePercent</th>\n",
       "      <th>sellerIsTopRated</th>\n",
       "      <th>price</th>\n",
       "      <th>endAtWeekend</th>\n",
       "      <th>endAtEvening</th>\n",
       "      <th>length</th>\n",
       "      <th>isBroken</th>\n",
       "      <th>isUsed</th>\n",
       "      <th>isLarge</th>\n",
       "      <th>freeShipping</th>\n",
       "      <th>isSold</th>\n",
       "    </tr>\n",
       "  </thead>\n",
       "  <tbody>\n",
       "    <tr>\n",
       "      <th>0</th>\n",
       "      <td>394315382477</td>\n",
       "      <td>0</td>\n",
       "      <td>7481</td>\n",
       "      <td>99.0</td>\n",
       "      <td>1</td>\n",
       "      <td>10.0800</td>\n",
       "      <td>0</td>\n",
       "      <td>0</td>\n",
       "      <td>7</td>\n",
       "      <td>0</td>\n",
       "      <td>1</td>\n",
       "      <td>0</td>\n",
       "      <td>0</td>\n",
       "      <td>1</td>\n",
       "    </tr>\n",
       "    <tr>\n",
       "      <th>1</th>\n",
       "      <td>125590964279</td>\n",
       "      <td>0</td>\n",
       "      <td>819</td>\n",
       "      <td>100.0</td>\n",
       "      <td>1</td>\n",
       "      <td>13.0200</td>\n",
       "      <td>1</td>\n",
       "      <td>0</td>\n",
       "      <td>10</td>\n",
       "      <td>0</td>\n",
       "      <td>1</td>\n",
       "      <td>0</td>\n",
       "      <td>0</td>\n",
       "      <td>1</td>\n",
       "    </tr>\n",
       "    <tr>\n",
       "      <th>2</th>\n",
       "      <td>394316778590</td>\n",
       "      <td>0</td>\n",
       "      <td>7491</td>\n",
       "      <td>99.0</td>\n",
       "      <td>1</td>\n",
       "      <td>13.0200</td>\n",
       "      <td>0</td>\n",
       "      <td>0</td>\n",
       "      <td>7</td>\n",
       "      <td>0</td>\n",
       "      <td>1</td>\n",
       "      <td>0</td>\n",
       "      <td>0</td>\n",
       "      <td>1</td>\n",
       "    </tr>\n",
       "    <tr>\n",
       "      <th>3</th>\n",
       "      <td>334610113969</td>\n",
       "      <td>0</td>\n",
       "      <td>1080</td>\n",
       "      <td>100.0</td>\n",
       "      <td>0</td>\n",
       "      <td>25.2000</td>\n",
       "      <td>0</td>\n",
       "      <td>1</td>\n",
       "      <td>7</td>\n",
       "      <td>0</td>\n",
       "      <td>1</td>\n",
       "      <td>0</td>\n",
       "      <td>1</td>\n",
       "      <td>1</td>\n",
       "    </tr>\n",
       "    <tr>\n",
       "      <th>4</th>\n",
       "      <td>385206939845</td>\n",
       "      <td>0</td>\n",
       "      <td>283</td>\n",
       "      <td>100.0</td>\n",
       "      <td>1</td>\n",
       "      <td>72.2400</td>\n",
       "      <td>0</td>\n",
       "      <td>1</td>\n",
       "      <td>7</td>\n",
       "      <td>0</td>\n",
       "      <td>1</td>\n",
       "      <td>0</td>\n",
       "      <td>0</td>\n",
       "      <td>1</td>\n",
       "    </tr>\n",
       "    <tr>\n",
       "      <th>...</th>\n",
       "      <td>...</td>\n",
       "      <td>...</td>\n",
       "      <td>...</td>\n",
       "      <td>...</td>\n",
       "      <td>...</td>\n",
       "      <td>...</td>\n",
       "      <td>...</td>\n",
       "      <td>...</td>\n",
       "      <td>...</td>\n",
       "      <td>...</td>\n",
       "      <td>...</td>\n",
       "      <td>...</td>\n",
       "      <td>...</td>\n",
       "      <td>...</td>\n",
       "    </tr>\n",
       "    <tr>\n",
       "      <th>409</th>\n",
       "      <td>234767934788</td>\n",
       "      <td>0</td>\n",
       "      <td>497</td>\n",
       "      <td>100.0</td>\n",
       "      <td>1</td>\n",
       "      <td>12.5916</td>\n",
       "      <td>0</td>\n",
       "      <td>1</td>\n",
       "      <td>7</td>\n",
       "      <td>0</td>\n",
       "      <td>1</td>\n",
       "      <td>0</td>\n",
       "      <td>0</td>\n",
       "      <td>1</td>\n",
       "    </tr>\n",
       "    <tr>\n",
       "      <th>410</th>\n",
       "      <td>234767936234</td>\n",
       "      <td>0</td>\n",
       "      <td>497</td>\n",
       "      <td>100.0</td>\n",
       "      <td>1</td>\n",
       "      <td>12.5916</td>\n",
       "      <td>0</td>\n",
       "      <td>1</td>\n",
       "      <td>7</td>\n",
       "      <td>0</td>\n",
       "      <td>1</td>\n",
       "      <td>0</td>\n",
       "      <td>0</td>\n",
       "      <td>1</td>\n",
       "    </tr>\n",
       "    <tr>\n",
       "      <th>411</th>\n",
       "      <td>234767935783</td>\n",
       "      <td>0</td>\n",
       "      <td>497</td>\n",
       "      <td>100.0</td>\n",
       "      <td>1</td>\n",
       "      <td>12.5916</td>\n",
       "      <td>0</td>\n",
       "      <td>1</td>\n",
       "      <td>7</td>\n",
       "      <td>0</td>\n",
       "      <td>1</td>\n",
       "      <td>0</td>\n",
       "      <td>0</td>\n",
       "      <td>1</td>\n",
       "    </tr>\n",
       "    <tr>\n",
       "      <th>412</th>\n",
       "      <td>275529511005</td>\n",
       "      <td>0</td>\n",
       "      <td>987</td>\n",
       "      <td>98.7</td>\n",
       "      <td>1</td>\n",
       "      <td>10.5000</td>\n",
       "      <td>1</td>\n",
       "      <td>0</td>\n",
       "      <td>7</td>\n",
       "      <td>0</td>\n",
       "      <td>1</td>\n",
       "      <td>0</td>\n",
       "      <td>0</td>\n",
       "      <td>1</td>\n",
       "    </tr>\n",
       "    <tr>\n",
       "      <th>413</th>\n",
       "      <td>234767935090</td>\n",
       "      <td>0</td>\n",
       "      <td>497</td>\n",
       "      <td>100.0</td>\n",
       "      <td>1</td>\n",
       "      <td>12.5916</td>\n",
       "      <td>0</td>\n",
       "      <td>1</td>\n",
       "      <td>7</td>\n",
       "      <td>0</td>\n",
       "      <td>1</td>\n",
       "      <td>0</td>\n",
       "      <td>0</td>\n",
       "      <td>1</td>\n",
       "    </tr>\n",
       "  </tbody>\n",
       "</table>\n",
       "<p>414 rows × 14 columns</p>\n",
       "</div>"
      ],
      "text/plain": [
       "               id  listingIsTopRated  sellerFeedbackScore  \\\n",
       "0    394315382477                  0                 7481   \n",
       "1    125590964279                  0                  819   \n",
       "2    394316778590                  0                 7491   \n",
       "3    334610113969                  0                 1080   \n",
       "4    385206939845                  0                  283   \n",
       "..            ...                ...                  ...   \n",
       "409  234767934788                  0                  497   \n",
       "410  234767936234                  0                  497   \n",
       "411  234767935783                  0                  497   \n",
       "412  275529511005                  0                  987   \n",
       "413  234767935090                  0                  497   \n",
       "\n",
       "     sellerPositivePercent  sellerIsTopRated    price  endAtWeekend  \\\n",
       "0                     99.0                 1  10.0800             0   \n",
       "1                    100.0                 1  13.0200             1   \n",
       "2                     99.0                 1  13.0200             0   \n",
       "3                    100.0                 0  25.2000             0   \n",
       "4                    100.0                 1  72.2400             0   \n",
       "..                     ...               ...      ...           ...   \n",
       "409                  100.0                 1  12.5916             0   \n",
       "410                  100.0                 1  12.5916             0   \n",
       "411                  100.0                 1  12.5916             0   \n",
       "412                   98.7                 1  10.5000             1   \n",
       "413                  100.0                 1  12.5916             0   \n",
       "\n",
       "     endAtEvening  length  isBroken  isUsed  isLarge  freeShipping  isSold  \n",
       "0               0       7         0       1        0             0       1  \n",
       "1               0      10         0       1        0             0       1  \n",
       "2               0       7         0       1        0             0       1  \n",
       "3               1       7         0       1        0             1       1  \n",
       "4               1       7         0       1        0             0       1  \n",
       "..            ...     ...       ...     ...      ...           ...     ...  \n",
       "409             1       7         0       1        0             0       1  \n",
       "410             1       7         0       1        0             0       1  \n",
       "411             1       7         0       1        0             0       1  \n",
       "412             0       7         0       1        0             0       1  \n",
       "413             1       7         0       1        0             0       1  \n",
       "\n",
       "[414 rows x 14 columns]"
      ]
     },
     "execution_count": 4,
     "metadata": {},
     "output_type": "execute_result"
    }
   ],
   "source": [
    "data"
   ]
  },
  {
   "cell_type": "code",
   "execution_count": 5,
   "id": "b0ca047b",
   "metadata": {},
   "outputs": [],
   "source": [
    "from sklearn.ensemble import RandomForestRegressor\n",
    "from sklearn.model_selection import train_test_split"
   ]
  },
  {
   "cell_type": "code",
   "execution_count": 7,
   "id": "da77bac1",
   "metadata": {},
   "outputs": [],
   "source": [
    "independentvariables = ['listingIsTopRated', 'sellerFeedbackScore', 'sellerPositivePercent', 'sellerIsTopRated','endAtWeekend','endAtEvening','length','isBroken','isUsed','isLarge','freeShipping']\n",
    "X = data[independentvariables] \n",
    "y = data.price\n",
    "X_train, X_test, y_train, y_test = train_test_split(X, y, test_size=0.3)"
   ]
  },
  {
   "cell_type": "code",
   "execution_count": 8,
   "id": "2e8853e4",
   "metadata": {},
   "outputs": [],
   "source": [
    "from sklearn.model_selection import GridSearchCV"
   ]
  },
  {
   "cell_type": "code",
   "execution_count": 11,
   "id": "aeb8b7eb",
   "metadata": {},
   "outputs": [
    {
     "name": "stdout",
     "output_type": "stream",
     "text": [
      "Best parameter (CV score=nan):\n",
      "{'max_depth': 1, 'min_samples_leaf': 1, 'min_samples_split': 1}\n"
     ]
    }
   ],
   "source": [
    "print(\"Best parameter (CV score=%0.3f):\"% search.best_score_)\n",
    "print(search.best_params_)"
   ]
  },
  {
   "cell_type": "code",
   "execution_count": 12,
   "id": "a1792600",
   "metadata": {},
   "outputs": [
    {
     "name": "stdout",
     "output_type": "stream",
     "text": [
      "Feature importance by sklearn: {'listingIsTopRated': 0.0, 'sellerFeedbackScore': 0.0, 'sellerPositivePercent': 0.0, 'sellerIsTopRated': 0.0, 'endAtWeekend': 0.0, 'endAtEvening': 0.0, 'length': 0.0, 'isBroken': 0.0, 'isUsed': 0.0, 'isLarge': 0.0, 'freeShipping': 0.0}\n"
     ]
    }
   ],
   "source": [
    "regressor=RandomForestRegressor(max_depth=1, min_samples_leaf=1, min_samples_split=1.0)\n",
    "regressor.fit(X_train,y_train)\n",
    "\n",
    "features = X.columns.tolist()\n",
    "\n",
    "importances_sk=regressor.feature_importances_\n",
    "\n",
    "\n",
    "feature_importance_sk = {}\n",
    "for i, feature in enumerate(features):\n",
    "    feature_importance_sk[feature] = round(importances_sk[i], 3)\n",
    "\n",
    "print(f\"Feature importance by sklearn: {feature_importance_sk}\")\n",
    "\n"
   ]
  },
  {
   "cell_type": "code",
   "execution_count": 13,
   "id": "7b65377c",
   "metadata": {},
   "outputs": [
    {
     "data": {
      "text/plain": [
       "4514.2086654625755"
      ]
     },
     "execution_count": 13,
     "metadata": {},
     "output_type": "execute_result"
    }
   ],
   "source": [
    "y_predict=regressor.predict(X_test)\n",
    "from sklearn.metrics import mean_squared_error\n",
    "\n",
    "mean_squared_error(y_test, y_predict)"
   ]
  },
  {
   "cell_type": "code",
   "execution_count": 14,
   "id": "5993d6c8",
   "metadata": {},
   "outputs": [
    {
     "data": {
      "text/plain": [
       "7841.57451033602"
      ]
     },
     "execution_count": 14,
     "metadata": {},
     "output_type": "execute_result"
    }
   ],
   "source": [
    "y.var()"
   ]
  },
  {
   "cell_type": "code",
   "execution_count": null,
   "id": "6c22f1d7",
   "metadata": {},
   "outputs": [],
   "source": [
    "max_depth=list(range(1,10))\n",
    "min_samples_split=list(range(1,10))\n",
    "min_samples_leaf=list(range(1,10))\n",
    "param_grid=dict(max_depth=max_depth,min_samples_split=min_samples_split,min_samples_leaf=min_samples_leaf)\n",
    "model=RandomForestRegressor()\n",
    "search=GridSearchCV(model,param_grid,scoring=\"balanced_accuracy\",n_jobs=-1)\n",
    "search.fit(X_train,y_train)"
   ]
  }
 ],
 "metadata": {
  "kernelspec": {
   "display_name": "Python 3 (ipykernel)",
   "language": "python",
   "name": "python3"
  },
  "language_info": {
   "codemirror_mode": {
    "name": "ipython",
    "version": 3
   },
   "file_extension": ".py",
   "mimetype": "text/x-python",
   "name": "python",
   "nbconvert_exporter": "python",
   "pygments_lexer": "ipython3",
   "version": "3.9.7"
  }
 },
 "nbformat": 4,
 "nbformat_minor": 5
}
