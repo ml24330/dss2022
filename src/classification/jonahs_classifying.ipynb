{
 "cells": [
  {
   "cell_type": "code",
   "execution_count": 8,
   "id": "44c4a984",
   "metadata": {},
   "outputs": [],
   "source": [
    "##All my imports\n",
    "\n",
    "import pandas as pd\n",
    "from sklearn.ensemble import GradientBoostingRegressor\n",
    "import numpy as np\n",
    "from sklearn.model_selection import train_test_split\n",
    "from sklearn.metrics import mean_squared_error\n",
    "from sklearn.datasets import load_boston\n",
    "from sklearn.metrics import mean_absolute_error\n",
    "from sklearn.metrics import r2_score\n",
    "from sklearn.metrics import mean_squared_error\n",
    "\n",
    "from sklearn.neighbors import KNeighborsClassifier\n",
    "from sklearn import metrics\n",
    "from sklearn.metrics import confusion_matrix\n",
    "from sklearn.metrics import ConfusionMatrixDisplay\n",
    "from sklearn.model_selection import train_test_split\n",
    "\n",
    "\n",
    "from sklearn.svm import SVC\n",
    "from sklearn.metrics import accuracy_score\n",
    "from sklearn.pipeline import Pipeline\n",
    "\n",
    "from sklearn.model_selection import train_test_split\n",
    "from sklearn.model_selection import RepeatedStratifiedKFold\n",
    "\n",
    "\n",
    "from sklearn.model_selection import GridSearchCV"
   ]
  },
  {
   "cell_type": "code",
   "execution_count": 9,
   "id": "9cf5b3e6",
   "metadata": {},
   "outputs": [],
   "source": [
    "##Initialisation\n",
    "df = pd.read_csv('./uk_books.csv')\n",
    "\n",
    "x = df[names]\n",
    "y = new_df['isSold']\n",
    "names = ['listingIsTopRated','sellerFeedbackScore','sellerPositivePercent','sellerIsTopRated','price','endAtWeekend','endAtEvening','length','isBroken','isUsed','isSet','freeShipping']\n"
   ]
  },
  {
   "cell_type": "code",
   "execution_count": 10,
   "id": "3e1fc364",
   "metadata": {},
   "outputs": [],
   "source": [
    "##Test and Train split\n",
    "# Split dataset into training set and test set\n",
    "x_train, X_test, y_train, y_test = train_test_split(x, y, test_size=0.3) # 70% training and 30% test\n"
   ]
  },
  {
   "cell_type": "code",
   "execution_count": 20,
   "id": "2f1e74ae",
   "metadata": {},
   "outputs": [
    {
     "data": {
      "text/plain": [
       "<sklearn.metrics._plot.confusion_matrix.ConfusionMatrixDisplay at 0x7ff96774df40>"
      ]
     },
     "execution_count": 20,
     "metadata": {},
     "output_type": "execute_result"
    },
    {
     "data": {
      "image/png": "[encoded data removed]",
      "text/plain": [
       "<Figure size 432x288 with 2 Axes>"
      ]
     },
     "metadata": {
      "needs_background": "light"
     },
     "output_type": "display_data"
    }
   ],
   "source": [
    "#Create KNN Classifier\n",
    "knn = KNeighborsClassifier(n_neighbors=35)\n",
    "\n",
    "#Train the model using the training sets\n",
    "knn.fit(X_train, y_train)\n",
    "\n",
    "#Predict the response for test dataset\n",
    "\n",
    "y_pred_one = knn.predict(X_test)\n",
    "\n",
    "acc_one = accuracy_score(y_test, y_pred_one)\n",
    "\n",
    "print(f\"The acc is {acc_one}\")\n",
    "\n",
    "cm = confusion_matrix(y_test, y_pred_one, labels=knn.classes_)\n",
    "disp = ConfusionMatrixDisplay(confusion_matrix=cm, display_labels=knn.classes_)\n",
    "\n",
    "disp.plot()\n"
   ]
  },
  {
   "cell_type": "code",
   "execution_count": 30,
   "id": "007b788a",
   "metadata": {},
   "outputs": [
    {
     "ename": "AttributeError",
     "evalue": "'GridSearchCV' object has no attribute 'best_score'",
     "output_type": "error",
     "traceback": [
      "\u001b[0;31m---------------------------------------------------------------------------\u001b[0m",
      "\u001b[0;31mAttributeError\u001b[0m                            Traceback (most recent call last)",
      "Input \u001b[0;32mIn [30]\u001b[0m, in \u001b[0;36m<cell line: 21>\u001b[0;34m()\u001b[0m\n\u001b[1;32m     18\u001b[0m search \u001b[38;5;241m=\u001b[39m GridSearchCV(pipeline, param_grid, scoring\u001b[38;5;241m=\u001b[39m\u001b[38;5;124m'\u001b[39m\u001b[38;5;124mbalanced_accuracy\u001b[39m\u001b[38;5;124m'\u001b[39m, cv\u001b[38;5;241m=\u001b[39mcv, n_jobs\u001b[38;5;241m=\u001b[39m\u001b[38;5;241m-\u001b[39m\u001b[38;5;241m1\u001b[39m)\n\u001b[1;32m     19\u001b[0m search\u001b[38;5;241m.\u001b[39mfit(new_df[names],new_df[\u001b[38;5;124m'\u001b[39m\u001b[38;5;124misSold\u001b[39m\u001b[38;5;124m'\u001b[39m])\n\u001b[0;32m---> 21\u001b[0m \u001b[38;5;28mprint\u001b[39m(\u001b[38;5;124mf\u001b[39m\u001b[38;5;124m'\u001b[39m\u001b[38;5;124mBest score is \u001b[39m\u001b[38;5;132;01m{\u001b[39;00msearch\u001b[38;5;241m.\u001b[39mbest_score\u001b[38;5;132;01m}\u001b[39;00m\u001b[38;5;124m'\u001b[39m)\n\u001b[1;32m     22\u001b[0m \u001b[38;5;28mprint\u001b[39m(\u001b[38;5;124mf\u001b[39m\u001b[38;5;124m'\u001b[39m\u001b[38;5;124mBest Params are \u001b[39m\u001b[38;5;132;01m{\u001b[39;00msearch\u001b[38;5;241m.\u001b[39mbest_params\u001b[38;5;132;01m}\u001b[39;00m\u001b[38;5;124m'\u001b[39m)\n",
      "\u001b[0;31mAttributeError\u001b[0m: 'GridSearchCV' object has no attribute 'best_score'"
     ]
    }
   ],
   "source": [
    "##Optimising the parameters for the SVM model\n",
    "\n",
    "param_grid = {\n",
    "    #'model__gamma':[0.0001, 0.001, 0.0025, 0.005, 0.01, 0.1],\n",
    "    'model__gamma':[0.0001, 0.1],\n",
    "    #'model__C':[0.1, 0.25, 1, 2.5, 5],\n",
    "    'model__C': [5],\n",
    "    #'model__kernel': ['linear', 'rbf', 'poly']\n",
    "    'model__kernel': ['rbf']\n",
    "}\n",
    "\n",
    "model = SVC()\n",
    "steps = [('model', model)]\n",
    "\n",
    "pipeline = Pipeline(steps)\n",
    "\n",
    "cv = RepeatedStratifiedKFold(n_splits=10, n_repeats=3, random_state=1)\n",
    "search = GridSearchCV(pipeline, param_grid, scoring='balanced_accuracy', cv=cv, n_jobs=-1)\n",
    "search.fit(new_df[names],new_df['isSold'])\n",
    "\n",
    "print(f'Best score is {search.best_score}')\n",
    "print(f'Best Params are {search.best_params}')\n"
   ]
  },
  {
   "cell_type": "code",
   "execution_count": null,
   "id": "8e88c2cd",
   "metadata": {},
   "outputs": [],
   "source": [
    "#A single attmept of SVM model. Should have the idea results plugged in here.\n",
    "\n",
    "clf = SVC(kernel='linear', C=1, gamma=10)\n",
    "clf.fit(x_train,y_train)\n",
    "y_pred = clf.predict(X_test)\n",
    "two_acc = accuracy_score(Y_test,y_pred)\n",
    "\n",
    "print(f'The accuracy is {two_acc}')\n",
    "\n",
    "cm = confusion_matrix(Y_test, y_pred, labels=knn.classes_)\n",
    "disp = ConfusionMatrixDisplay(confusion_matrix=cm, display_labels=knn.classes_)\n",
    "\n",
    "disp.plot()\n"
   ]
  },
  {
   "cell_type": "code",
   "execution_count": 36,
   "id": "e179d4a9",
   "metadata": {},
   "outputs": [
    {
     "data": {
      "text/plain": [
       "-0.03527025835464248"
      ]
     },
     "execution_count": 36,
     "metadata": {},
     "output_type": "execute_result"
    }
   ],
   "source": [
    "from sklearn.metrics import cohen_kappa_score\n",
    "\n",
    "cohen_kappa_score(y_pred_one, y_pred)"
   ]
  },
  {
   "cell_type": "code",
   "execution_count": 37,
   "id": "bd1335fe",
   "metadata": {},
   "outputs": [
    {
     "name": "stdout",
     "output_type": "stream",
     "text": [
      "Accuracy of kNN is 0.8140703517587939. Accuracy of SVG is 0.8140703517587939\n"
     ]
    }
   ],
   "source": [
    "print(f'Accuracy of kNN is {acc_one}. Accuracy of SVG is {two_acc}')"
   ]
  },
  {
   "cell_type": "markdown",
   "id": "de047d7e",
   "metadata": {},
   "source": [
    "Below should be an implementation of stratafied K fold for the k nearest neighbours. I mah have done my SVG wrong, but it takes forever to run, so was worried about doing the k fold for it."
   ]
  },
  {
   "cell_type": "code",
   "execution_count": 40,
   "id": "f4bb178f",
   "metadata": {},
   "outputs": [
    {
     "name": "stdout",
     "output_type": "stream",
     "text": [
      "List of possible accuracy: [0.8646616541353384, 0.849624060150376, 0.8796992481203008, 0.8721804511278195, 0.8646616541353384, 0.8636363636363636, 0.8712121212121212, 0.8712121212121212, 0.8712121212121212, 0.8787878787878788]\n",
      "\n",
      "Maximum Accuracy That can be obtained from this model is: 87.96992481203007 %\n",
      "\n",
      "Minimum Accuracy: 84.9624060150376 %\n",
      "\n",
      "Overall Accuracy: 86.8688767372978 %\n",
      "\n",
      "Standard Deviation is: 0.008666292709579259\n"
     ]
    }
   ],
   "source": [
    "\n",
    "from statistics import mean, stdev\n",
    "from sklearn import preprocessing\n",
    "from sklearn.model_selection import StratifiedKFold\n",
    "from sklearn import linear_model\n",
    "from sklearn import datasets\n",
    "  \n",
    "\n",
    "# Input_x_Features.\n",
    "x = new_df[names]                       \n",
    " \n",
    "# Input_ y_Target_Variable.\n",
    "y = new_df['isSold']                      \n",
    "   \n",
    "  \n",
    "# Feature Scaling for input features.\n",
    "scaler = preprocessing.MinMaxScaler()\n",
    "x_scaled = scaler.fit_transform(x)\n",
    "  \n",
    "# Create  classifier object.\n",
    "lr = linear_model.LogisticRegression()\n",
    "  \n",
    "# Create StratifiedKFold object.\n",
    "skf = StratifiedKFold(n_splits=10, shuffle=True, random_state=1)\n",
    "lst_accu_stratified = []\n",
    "  \n",
    "for train_index, test_index in skf.split(x, y):\n",
    "    x_train_fold, x_test_fold = x_scaled[train_index], x_scaled[test_index]\n",
    "    y_train_fold, y_test_fold = y[train_index], y[test_index]\n",
    "    lr.fit(x_train_fold, y_train_fold)\n",
    "    lst_accu_stratified.append(lr.score(x_test_fold, y_test_fold))\n",
    "  \n",
    "# Print the output.\n",
    "print('List of possible accuracy:', lst_accu_stratified)\n",
    "print('\\nMaximum Accuracy That can be obtained from this model is:',\n",
    "      max(lst_accu_stratified)*100, '%')\n",
    "print('\\nMinimum Accuracy:',\n",
    "      min(lst_accu_stratified)*100, '%')\n",
    "print('\\nOverall Accuracy:',\n",
    "      mean(lst_accu_stratified)*100, '%')\n",
    "print('\\nStandard Deviation is:', stdev(lst_accu_stratified))"
   ]
  },
  {
   "cell_type": "code",
   "execution_count": null,
   "id": "eb0e73ff",
   "metadata": {},
   "outputs": [],
   "source": []
  }
 ],
 "metadata": {
  "kernelspec": {
   "display_name": "Python 3 (ipykernel)",
   "language": "python",
   "name": "python3"
  },
  "language_info": {
   "codemirror_mode": {
    "name": "ipython",
    "version": 3
   },
   "file_extension": ".py",
   "mimetype": "text/x-python",
   "name": "python",
   "nbconvert_exporter": "python",
   "pygments_lexer": "ipython3",
   "version": "3.9.12"
  }
 },
 "nbformat": 4,
 "nbformat_minor": 5
}
