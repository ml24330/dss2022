{
 "cells": [
  {
   "cell_type": "code",
   "execution_count": 4,
   "id": "3a5652ed",
   "metadata": {},
   "outputs": [],
   "source": [
    "import pandas as pd\n",
    "from sklearn.metrics import r2_score\n",
    "from sklearn.svm import SVR\n",
    "from sklearn.pipeline import make_pipeline\n",
    "from sklearn.preprocessing import StandardScaler\n",
    "import numpy as np\n",
    "from sklearn.model_selection import train_test_split\n",
    "\n",
    "##Initialisation\n",
    "df = pd.read_csv('./us_clocks.csv')\n",
    "names = list(df)\n",
    "names.remove('price')\n",
    "\n",
    "x = df[names]\n",
    "y = df['price']\n"
   ]
  },
  {
   "cell_type": "code",
   "execution_count": 5,
   "id": "2954d91a",
   "metadata": {},
   "outputs": [
    {
     "data": {
      "text/plain": [
       "-0.09217892273376882"
      ]
     },
     "execution_count": 5,
     "metadata": {},
     "output_type": "execute_result"
    }
   ],
   "source": [
    "##Using https://scikit-learn.org/stable/modules/generated/sklearn.svm.SVR.html\n",
    "# But there is no training and test split...\n",
    "\n",
    "n_samples, n_features = len(y), len(x)\n",
    "\n",
    "regr = make_pipeline(StandardScaler(), SVR(C=2.5, epsilon=0.2))\n",
    "regr.fit(x, y)\n",
    "regr.score(x,y)"
   ]
  },
  {
   "cell_type": "code",
   "execution_count": 6,
   "id": "50f04b2f",
   "metadata": {},
   "outputs": [],
   "source": [
    "##Trying my own way with training and testing\n",
    "\n",
    "x_train, x_test, y_train, y_test = train_test_split(x, y, test_size=0.3) # 70% training and 30% test\n",
    "n_samples, n_features = len(y), len(x)\n",
    "\n",
    "regr = make_pipeline(StandardScaler(), SVR(C=1.0, epsilon=0.2))\n",
    "regr.fit(x_train, y_train)\n",
    "regr.score(x,y)\n",
    "\n",
    "y_pred = regr.predict(x_test)"
   ]
  },
  {
   "cell_type": "code",
   "execution_count": 7,
   "id": "07bec82a",
   "metadata": {},
   "outputs": [
    {
     "data": {
      "text/plain": [
       "-532.7394440236997"
      ]
     },
     "execution_count": 7,
     "metadata": {},
     "output_type": "execute_result"
    }
   ],
   "source": [
    "r2_score(y_pred, y_test)"
   ]
  },
  {
   "cell_type": "code",
   "execution_count": null,
   "id": "587a1e7f",
   "metadata": {},
   "outputs": [],
   "source": []
  }
 ],
 "metadata": {
  "kernelspec": {
   "display_name": "Python 3 (ipykernel)",
   "language": "python",
   "name": "python3"
  },
  "language_info": {
   "codemirror_mode": {
    "name": "ipython",
    "version": 3
   },
   "file_extension": ".py",
   "mimetype": "text/x-python",
   "name": "python",
   "nbconvert_exporter": "python",
   "pygments_lexer": "ipython3",
   "version": "3.9.12"
  }
 },
 "nbformat": 4,
 "nbformat_minor": 5
}
