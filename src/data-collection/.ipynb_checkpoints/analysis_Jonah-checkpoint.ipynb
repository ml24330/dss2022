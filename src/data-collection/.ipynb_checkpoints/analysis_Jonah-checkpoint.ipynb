{
 "cells": [
  {
   "cell_type": "code",
   "execution_count": 3,
   "metadata": {},
   "outputs": [],
   "source": [
    "from sklearn.ensemble import GradientBoostingRegressor\n",
    "import numpy as np\n",
    "from sklearn.model_selection import train_test_split\n",
    "from sklearn.metrics import mean_squared_error\n",
    "from sklearn.datasets import load_boston\n",
    "from sklearn.metrics import mean_absolute_error\n",
    "from sklearn.metrics import r2_score\n",
    "from sklearn.metrics import mean_squared_error\n",
    "\n",
    "import pandas as pd\n",
    "from db_utils import Query, QueryAll\n",
    "\n",
    "data = QueryAll()\n",
    "cols = [\"id\", \"title\", \"globalId\", \"categoryId\", \"categoryName\", \"url\", \"location\", \"shippingType\", \"shippingLocations\",\n",
    "                \"shippingTime\", \"startTime\", \"endTime\", \"returnsAccepted\", \"conditionId\", \"listingIsTopRated\", \n",
    "                \"sellerFeedbackScore\", \"sellerPositivePercent\", \"sellerName\", \"sellerIsTopRated\", \"price\", \"currency\", \"bids\"]"
   ]
  },
  {
   "cell_type": "code",
   "execution_count": 4,
   "metadata": {},
   "outputs": [],
   "source": [
    "df = pd.DataFrame(data, columns=cols)\n",
    "names = ['sellerFeedbackScore', 'conditionId', 'sellerPositivePercent', 'categoryId', 'shippingTime', 'returnsAccepted', 'sellerIsTopRated']\n",
    "new_df = df[names].copy()"
   ]
  },
  {
   "cell_type": "code",
   "execution_count": 5,
   "metadata": {},
   "outputs": [
    {
     "data": {
      "text/html": [
       "<div>\n",
       "<style scoped>\n",
       "    .dataframe tbody tr th:only-of-type {\n",
       "        vertical-align: middle;\n",
       "    }\n",
       "\n",
       "    .dataframe tbody tr th {\n",
       "        vertical-align: top;\n",
       "    }\n",
       "\n",
       "    .dataframe thead th {\n",
       "        text-align: right;\n",
       "    }\n",
       "</style>\n",
       "<table border=\"1\" class=\"dataframe\">\n",
       "  <thead>\n",
       "    <tr style=\"text-align: right;\">\n",
       "      <th></th>\n",
       "      <th>sellerFeedbackScore</th>\n",
       "      <th>conditionId</th>\n",
       "      <th>sellerPositivePercent</th>\n",
       "      <th>categoryId</th>\n",
       "      <th>shippingTime</th>\n",
       "      <th>returnsAccepted</th>\n",
       "      <th>sellerIsTopRated</th>\n",
       "    </tr>\n",
       "  </thead>\n",
       "  <tbody>\n",
       "    <tr>\n",
       "      <th>0</th>\n",
       "      <td>52</td>\n",
       "      <td>3000</td>\n",
       "      <td>100.0</td>\n",
       "      <td>31388</td>\n",
       "      <td>0</td>\n",
       "      <td>0</td>\n",
       "      <td>0</td>\n",
       "    </tr>\n",
       "    <tr>\n",
       "      <th>1</th>\n",
       "      <td>929</td>\n",
       "      <td>3000</td>\n",
       "      <td>99.7</td>\n",
       "      <td>31388</td>\n",
       "      <td>3</td>\n",
       "      <td>0</td>\n",
       "      <td>1</td>\n",
       "    </tr>\n",
       "    <tr>\n",
       "      <th>2</th>\n",
       "      <td>736</td>\n",
       "      <td>3000</td>\n",
       "      <td>100.0</td>\n",
       "      <td>31388</td>\n",
       "      <td>3</td>\n",
       "      <td>0</td>\n",
       "      <td>0</td>\n",
       "    </tr>\n",
       "    <tr>\n",
       "      <th>3</th>\n",
       "      <td>1028</td>\n",
       "      <td>3000</td>\n",
       "      <td>100.0</td>\n",
       "      <td>31388</td>\n",
       "      <td>2</td>\n",
       "      <td>0</td>\n",
       "      <td>1</td>\n",
       "    </tr>\n",
       "    <tr>\n",
       "      <th>4</th>\n",
       "      <td>268</td>\n",
       "      <td>1000</td>\n",
       "      <td>96.6</td>\n",
       "      <td>48638</td>\n",
       "      <td>0</td>\n",
       "      <td>0</td>\n",
       "      <td>0</td>\n",
       "    </tr>\n",
       "    <tr>\n",
       "      <th>...</th>\n",
       "      <td>...</td>\n",
       "      <td>...</td>\n",
       "      <td>...</td>\n",
       "      <td>...</td>\n",
       "      <td>...</td>\n",
       "      <td>...</td>\n",
       "      <td>...</td>\n",
       "    </tr>\n",
       "    <tr>\n",
       "      <th>10968</th>\n",
       "      <td>4184</td>\n",
       "      <td>3000</td>\n",
       "      <td>99.4</td>\n",
       "      <td>48515</td>\n",
       "      <td>2</td>\n",
       "      <td>1</td>\n",
       "      <td>0</td>\n",
       "    </tr>\n",
       "    <tr>\n",
       "      <th>10969</th>\n",
       "      <td>25381</td>\n",
       "      <td>-1</td>\n",
       "      <td>100.0</td>\n",
       "      <td>11718</td>\n",
       "      <td>3</td>\n",
       "      <td>0</td>\n",
       "      <td>1</td>\n",
       "    </tr>\n",
       "    <tr>\n",
       "      <th>10970</th>\n",
       "      <td>508</td>\n",
       "      <td>3000</td>\n",
       "      <td>97.9</td>\n",
       "      <td>185053</td>\n",
       "      <td>3</td>\n",
       "      <td>0</td>\n",
       "      <td>1</td>\n",
       "    </tr>\n",
       "    <tr>\n",
       "      <th>10971</th>\n",
       "      <td>39175</td>\n",
       "      <td>1500</td>\n",
       "      <td>97.4</td>\n",
       "      <td>171485</td>\n",
       "      <td>1</td>\n",
       "      <td>0</td>\n",
       "      <td>1</td>\n",
       "    </tr>\n",
       "    <tr>\n",
       "      <th>10972</th>\n",
       "      <td>598</td>\n",
       "      <td>-1</td>\n",
       "      <td>100.0</td>\n",
       "      <td>11716</td>\n",
       "      <td>2</td>\n",
       "      <td>0</td>\n",
       "      <td>0</td>\n",
       "    </tr>\n",
       "  </tbody>\n",
       "</table>\n",
       "<p>10973 rows × 7 columns</p>\n",
       "</div>"
      ],
      "text/plain": [
       "       sellerFeedbackScore  conditionId  sellerPositivePercent  categoryId  \\\n",
       "0                       52         3000                  100.0       31388   \n",
       "1                      929         3000                   99.7       31388   \n",
       "2                      736         3000                  100.0       31388   \n",
       "3                     1028         3000                  100.0       31388   \n",
       "4                      268         1000                   96.6       48638   \n",
       "...                    ...          ...                    ...         ...   \n",
       "10968                 4184         3000                   99.4       48515   \n",
       "10969                25381           -1                  100.0       11718   \n",
       "10970                  508         3000                   97.9      185053   \n",
       "10971                39175         1500                   97.4      171485   \n",
       "10972                  598           -1                  100.0       11716   \n",
       "\n",
       "       shippingTime  returnsAccepted  sellerIsTopRated  \n",
       "0                 0                0                 0  \n",
       "1                 3                0                 1  \n",
       "2                 3                0                 0  \n",
       "3                 2                0                 1  \n",
       "4                 0                0                 0  \n",
       "...             ...              ...               ...  \n",
       "10968             2                1                 0  \n",
       "10969             3                0                 1  \n",
       "10970             3                0                 1  \n",
       "10971             1                0                 1  \n",
       "10972             2                0                 0  \n",
       "\n",
       "[10973 rows x 7 columns]"
      ]
     },
     "execution_count": 5,
     "metadata": {},
     "output_type": "execute_result"
    }
   ],
   "source": [
    "new_df"
   ]
  },
  {
   "cell_type": "code",
   "execution_count": 6,
   "metadata": {},
   "outputs": [],
   "source": [
    "y = df.price"
   ]
  },
  {
   "cell_type": "code",
   "execution_count": 7,
   "metadata": {},
   "outputs": [],
   "source": [
    "x_train, x_test, y_train, y_test = train_test_split(new_df, y, test_size=0.2)\n"
   ]
  },
  {
   "cell_type": "code",
   "execution_count": 8,
   "metadata": {},
   "outputs": [],
   "source": [
    "gradient_regressor = GradientBoostingRegressor(max_depth = 2,n_estimators=3, learning_rate=1.0)"
   ]
  },
  {
   "cell_type": "code",
   "execution_count": 9,
   "metadata": {},
   "outputs": [],
   "source": [
    "model = gradient_regressor.fit(x_train, y_train)\n",
    "y_pred = model.predict(x_test)"
   ]
  },
  {
   "cell_type": "code",
   "execution_count": 10,
   "metadata": {},
   "outputs": [
    {
     "data": {
      "text/plain": [
       "-92.2456545207762"
      ]
     },
     "execution_count": 10,
     "metadata": {},
     "output_type": "execute_result"
    }
   ],
   "source": [
    "r2_score(y_pred, y_test)"
   ]
  },
  {
   "cell_type": "code",
   "execution_count": 11,
   "metadata": {},
   "outputs": [
    {
     "data": {
      "image/png": "[encoded data removed]",
      "text/plain": [
       "<Figure size 432x288 with 1 Axes>"
      ]
     },
     "metadata": {
      "needs_background": "light"
     },
     "output_type": "display_data"
    }
   ],
   "source": [
    "import matplotlib.pyplot as plt\n",
    "%matplotlib inline\n",
    "\n",
    "feature_importance = model.feature_importances_\n",
    "\n",
    "##Making importance reletive to max importance\n",
    "feature_importance = 100.0*(feature_importance/feature_importance.max())\n",
    "sorted_idx = np.argsort(feature_importance)\n",
    "pos = np.arange(sorted_idx.shape[0]) + 0.5\n",
    "plt.barh(pos, feature_importance[sorted_idx], align='center')\n",
    "plt.yticks(pos, names)\n",
    "plt.xlabel(\"reletive freq\")\n",
    "plt.title(\"Varible importance\")\n",
    "plt.show()"
   ]
  },
  {
   "cell_type": "markdown",
   "metadata": {},
   "source": [
    "\n",
    "\n",
    "from sklearn .model_selection import GridSearchCV\n",
    "LR = {'lea"
   ]
  },
  {
   "cell_type": "code",
   "execution_count": null,
   "metadata": {},
   "outputs": [],
   "source": [
    "from sklearn .model_selection import GridSearchCV\n",
    "LR = {'learning_rate':[0.15,0.1,0.10, 0.05], 'n_estimators':[100, 150,200,250]}\n",
    "\n",
    "tuning = GridSearchCV(estimator = GradientBoostingRegressor(), param_grid=LR, scoring='r2')\n",
    "tuning.fit(x_train, y_train)\n",
    "tuning.best_params_\n",
    "tuning.best_score_"
   ]
  },
  {
   "cell_type": "code",
   "execution_count": null,
   "metadata": {},
   "outputs": [],
   "source": [
    "print(mean_squared_error(y_test, y_pred))\n",
    "print(\"Yes\")"
   ]
  },
  {
   "cell_type": "code",
   "execution_count": null,
   "metadata": {},
   "outputs": [],
   "source": [
    "print(\"a\")"
   ]
  },
  {
   "cell_type": "code",
   "execution_count": null,
   "metadata": {},
   "outputs": [],
   "source": []
  },
  {
   "cell_type": "code",
   "execution_count": null,
   "metadata": {},
   "outputs": [],
   "source": []
  },
  {
   "cell_type": "code",
   "execution_count": null,
   "metadata": {},
   "outputs": [],
   "source": []
  }
 ],
 "metadata": {
  "kernelspec": {
   "display_name": "Python 3 (ipykernel)",
   "language": "python",
   "name": "python3"
  },
  "language_info": {
   "codemirror_mode": {
    "name": "ipython",
    "version": 3
   },
   "file_extension": ".py",
   "mimetype": "text/x-python",
   "name": "python",
   "nbconvert_exporter": "python",
   "pygments_lexer": "ipython3",
   "version": "3.9.12"
  }
 },
 "nbformat": 4,
 "nbformat_minor": 4
}
