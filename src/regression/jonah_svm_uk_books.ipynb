{
 "cells": [
  {
   "cell_type": "code",
   "execution_count": 12,
   "id": "b62af42b",
   "metadata": {},
   "outputs": [],
   "source": [
    "import pandas as pd\n",
    "from sklearn.metrics import r2_score\n",
    "from sklearn.svm import SVR\n",
    "from sklearn.pipeline import make_pipeline\n",
    "from sklearn.preprocessing import StandardScaler\n",
    "import numpy as np\n",
    "from sklearn.model_selection import train_test_split\n",
    "\n",
    "##Initialisation\n",
    "df = pd.read_csv('./uk_books.csv')\n",
    "names = ['isSold', 'listingIsTopRated','sellerFeedbackScore','sellerPositivePercent','sellerIsTopRated','endAtWeekend','endAtEvening','length','isBroken','isUsed','isSet','freeShipping']\n",
    "\n",
    "x = df[names]\n",
    "y = df['price']\n"
   ]
  },
  {
   "cell_type": "code",
   "execution_count": 13,
   "id": "06cf449e",
   "metadata": {},
   "outputs": [
    {
     "data": {
      "text/plain": [
       "-0.04576278998487404"
      ]
     },
     "execution_count": 13,
     "metadata": {},
     "output_type": "execute_result"
    }
   ],
   "source": [
    "##Using https://scikit-learn.org/stable/modules/generated/sklearn.svm.SVR.html\n",
    "# But there is no training and test split...\n",
    "\n",
    "n_samples, n_features = len(y), len(x)\n",
    "\n",
    "regr = make_pipeline(StandardScaler(), SVR(C=2.5, epsilon=0.2))\n",
    "regr.fit(x, y)\n",
    "regr.score(x,y)"
   ]
  },
  {
   "cell_type": "code",
   "execution_count": 14,
   "id": "43fec2c1",
   "metadata": {},
   "outputs": [],
   "source": [
    "##Trying my own way with training and testing\n",
    "\n",
    "x_train, x_test, y_train, y_test = train_test_split(x, y, test_size=0.3) # 70% training and 30% test\n",
    "n_samples, n_features = len(y), len(x)\n",
    "\n",
    "regr = make_pipeline(StandardScaler(), SVR(C=1.0, epsilon=0.2))\n",
    "regr.fit(x_train, y_train)\n",
    "regr.score(x,y)\n",
    "\n",
    "y_pred = regr.predict(x_test)"
   ]
  },
  {
   "cell_type": "code",
   "execution_count": 15,
   "id": "e20d09f5",
   "metadata": {},
   "outputs": [
    {
     "data": {
      "text/plain": [
       "-114.39608161696954"
      ]
     },
     "execution_count": 15,
     "metadata": {},
     "output_type": "execute_result"
    }
   ],
   "source": [
    "r2_score(y_pred, y_test)"
   ]
  }
 ],
 "metadata": {
  "kernelspec": {
   "display_name": "Python 3 (ipykernel)",
   "language": "python",
   "name": "python3"
  },
  "language_info": {
   "codemirror_mode": {
    "name": "ipython",
    "version": 3
   },
   "file_extension": ".py",
   "mimetype": "text/x-python",
   "name": "python",
   "nbconvert_exporter": "python",
   "pygments_lexer": "ipython3",
   "version": "3.9.12"
  }
 },
 "nbformat": 4,
 "nbformat_minor": 5
}
