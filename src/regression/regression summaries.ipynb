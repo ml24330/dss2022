{
 "cells": [
  {
   "cell_type": "code",
   "execution_count": 1,
   "metadata": {},
   "outputs": [],
   "source": [
    "import matplotlib.pyplot as plt\n",
    "\n",
    "plt.style.use('seaborn-pastel')\n",
    "plt.rcParams['figure.figsize'] = (8,5)\n",
    "plt.rcParams['figure.dpi'] = 500\n",
    "plt.rcParams['text.color'] = 'black'\n",
    "plt.rcParams['axes.labelcolor'] = 'black'\n",
    "plt.rcParams['xtick.color'] = 'black'\n",
    "plt.rcParams['ytick.color'] = 'black'\n",
    "plt.rcParams['axes.titlepad'] = 10\n",
    "plt.rcParams['axes.titleweight'] = 1000\n",
    "plt.rcParams['axes.labelpad'] = 5\n",
    "plt.rcParams['font.family'] = 'serif'\n",
    "plt.rcParams['axes.facecolor'] = 'white'"
   ]
  },
  {
   "cell_type": "code",
   "execution_count": 2,
   "metadata": {},
   "outputs": [],
   "source": [
    "import pandas as pd\n",
    "from sklearn.ensemble import RandomForestRegressor\n",
    "from sklearn.neighbors import KNeighborsRegressor\n",
    "from sklearn.linear_model import LinearRegression\n",
    "from sklearn.svm import SVR\n",
    "from sklearn.model_selection import train_test_split\n",
    "from sklearn.pipeline import make_pipeline\n",
    "from sklearn.preprocessing import StandardScaler\n",
    "\n",
    "us = pd.read_csv(\"us_clocks.csv\")\n",
    "uk = pd.read_csv(\"uk_clocks.csv\")\n",
    "\n",
    "independentvariables = ['listingIsTopRated', 'sellerFeedbackScore', 'sellerPositivePercent', 'sellerIsTopRated',\n",
    "                        'endAtWeekend','endAtEvening','length','isBroken','isUsed','isLarge','freeShipping']\n",
    "\n",
    "X_uk = uk[independentvariables] \n",
    "y_uk = uk.price\n",
    "X_train, X_test, y_train, y_test = train_test_split(X_uk, y_uk, test_size=0.3)\n",
    "\n",
    "X_us = us[independentvariables] \n",
    "y_us = us.price\n",
    "X_train_us, X_test_us, y_train_us, y_test_us = train_test_split(X_us, y_us, test_size=0.3)"
   ]
  },
  {
   "cell_type": "code",
   "execution_count": 3,
   "metadata": {},
   "outputs": [],
   "source": [
    "random_forest_us = RandomForestRegressor(max_depth=1, min_samples_leaf=1, min_samples_split=1.0)\n",
    "model = random_forest_us.fit(X_train_us,y_train_us)\n",
    "y_pred = model.predict(X_test_us)\n",
    "\n",
    "AE2_us = abs(y_test_us-y_pred)*100/y_test_us"
   ]
  },
  {
   "cell_type": "code",
   "execution_count": 4,
   "metadata": {},
   "outputs": [],
   "source": [
    "random_forest_uk = RandomForestRegressor(max_depth=1, min_samples_leaf=1, min_samples_split=1.0)\n",
    "model = random_forest_uk.fit(X_train,y_train)\n",
    "y_pred = model.predict(X_test)\n",
    "\n",
    "AE2_uk = abs(y_test-y_pred)*100/y_test"
   ]
  },
  {
   "cell_type": "code",
   "execution_count": 5,
   "metadata": {},
   "outputs": [],
   "source": [
    "svm_us = make_pipeline(StandardScaler(), SVR(C=1.0, epsilon=0.2))\n",
    "model = svm_us.fit(X_train_us, y_train_us)\n",
    "y_pred = model.predict(X_test_us)\n",
    "\n",
    "AE3_us = abs(y_test_us-y_pred)*100/y_test_us"
   ]
  },
  {
   "cell_type": "code",
   "execution_count": 6,
   "metadata": {},
   "outputs": [],
   "source": [
    "svm_uk = make_pipeline(StandardScaler(), SVR(C=1.0, epsilon=0.2))\n",
    "model = svm_us.fit(X_train, y_train)\n",
    "y_pred = model.predict(X_test)\n",
    "\n",
    "AE3_uk = abs(y_test-y_pred)*100/y_test"
   ]
  },
  {
   "cell_type": "code",
   "execution_count": 7,
   "metadata": {},
   "outputs": [],
   "source": [
    "knn_us = KNeighborsRegressor(n_neighbors=5)\n",
    "model = knn_us.fit(X_train_us, y_train_us)\n",
    "y_pred = model.predict(X_test_us)\n",
    "\n",
    "AE1_us = abs(y_test_us-y_pred)*100/y_test_us"
   ]
  },
  {
   "cell_type": "code",
   "execution_count": 8,
   "metadata": {},
   "outputs": [],
   "source": [
    "knn_uk = KNeighborsRegressor(n_neighbors=5)\n",
    "model = knn_us.fit(X_train, y_train)\n",
    "y_pred = model.predict(X_test)\n",
    "\n",
    "AE1_uk = abs(y_test-y_pred)*100/y_test"
   ]
  },
  {
   "cell_type": "code",
   "execution_count": 9,
   "metadata": {},
   "outputs": [],
   "source": [
    "lin_us = LinearRegression()\n",
    "model = lin_us.fit(X_train_us, y_train_us)\n",
    "y_pred = model.predict(X_test_us)\n",
    "\n",
    "AE0_us = abs(y_test_us-y_pred)*100/y_test_us"
   ]
  },
  {
   "cell_type": "code",
   "execution_count": 10,
   "metadata": {},
   "outputs": [],
   "source": [
    "lin_uk = LinearRegression()\n",
    "model = lin_uk.fit(X_train, y_train)\n",
    "y_pred = model.predict(X_test)\n",
    "\n",
    "AE0_uk = abs(y_test-y_pred)*100/y_test"
   ]
  },
  {
   "cell_type": "code",
   "execution_count": 11,
   "metadata": {},
   "outputs": [],
   "source": [
    "AE4_uk = abs(y_test-y_test.median())*100/y_test.median()"
   ]
  },
  {
   "cell_type": "code",
   "execution_count": 12,
   "metadata": {},
   "outputs": [],
   "source": [
    "AE4_us = abs(y_test_us-y_test_us.median())*100/y_test_us.median()"
   ]
  },
  {
   "cell_type": "code",
   "execution_count": 17,
   "metadata": {},
   "outputs": [],
   "source": [
    "fig, ax = plt.subplots()\n",
    "\n",
    "ax.boxplot([AE0_uk,AE1_uk,AE2_uk,AE3_uk,AE4_uk], whis=(5, 95), patch_artist=True, flierprops={'markersize':3},\n",
    "           boxprops={'facecolor':'lightgreen'}, medianprops={'color':'black'})\n",
    "ax.set_xticklabels(['Linear \\n regression', 'KNN \\n regression', 'Random forest \\n regression', 'SVM \\n regression', 'Baseline \\n (Median)'])\n",
    "ax.set_ylabel('Absolute error (%)')\n",
    "ax.set_title('Distribution of absolute errors on testing set (UK Clocks)')\n",
    "ax.set_ylim(0,200)\n",
    "\n",
    "plt.tight_layout()\n",
    "fig.savefig('AE-uk.png', dpi=fig.dpi, bbox_inches='tight')\n",
    "plt.close(fig)"
   ]
  },
  {
   "cell_type": "code",
   "execution_count": 16,
   "metadata": {
    "scrolled": true
   },
   "outputs": [],
   "source": [
    "fig, ax = plt.subplots()\n",
    "\n",
    "ax.boxplot([AE0_us,AE1_us,AE2_us,AE3_us,AE4_us], whis=(5, 95), patch_artist=True, flierprops={'markersize':3},\n",
    "           boxprops={'facecolor':'lightgreen'}, medianprops={'color':'black'})\n",
    "ax.set_xticklabels(['Linear \\n regression', 'KNN \\n regression', 'Random forest \\n regression', 'SVM \\n regression', 'Baseline \\n (Median)'])\n",
    "ax.set_ylabel('Absolute error (%)')\n",
    "ax.set_title('Distribution of absolute errors on testing set (US Clocks)')\n",
    "ax.set_ylim(0,200)\n",
    "\n",
    "plt.tight_layout()\n",
    "fig.savefig('AE-us.png', dpi=fig.dpi, bbox_inches='tight')\n",
    "plt.close(fig)"
   ]
  },
  {
   "cell_type": "code",
   "execution_count": 19,
   "metadata": {},
   "outputs": [
    {
     "data": {
      "text/plain": [
       "count     132.000000\n",
       "mean      316.182402\n",
       "std       616.162009\n",
       "min         0.687344\n",
       "25%        54.342809\n",
       "50%       126.036472\n",
       "75%       316.761520\n",
       "max      5000.578609\n",
       "Name: price, dtype: float64"
      ]
     },
     "execution_count": 19,
     "metadata": {},
     "output_type": "execute_result"
    }
   ],
   "source": [
    "AE0_uk.describe()"
   ]
  },
  {
   "cell_type": "code",
   "execution_count": 20,
   "metadata": {},
   "outputs": [
    {
     "data": {
      "text/plain": [
       "count      132.000000\n",
       "mean       420.228030\n",
       "std       1499.273983\n",
       "min          0.360000\n",
       "25%         35.656755\n",
       "50%         85.915618\n",
       "75%        295.061158\n",
       "max      16090.600000\n",
       "Name: price, dtype: float64"
      ]
     },
     "execution_count": 20,
     "metadata": {},
     "output_type": "execute_result"
    }
   ],
   "source": [
    "AE1_uk.describe()"
   ]
  },
  {
   "cell_type": "code",
   "execution_count": 21,
   "metadata": {},
   "outputs": [
    {
     "data": {
      "text/plain": [
       "count     132.000000\n",
       "mean      328.900024\n",
       "std       602.528642\n",
       "min         0.500428\n",
       "25%        49.552746\n",
       "50%       121.733793\n",
       "75%       303.433022\n",
       "max      3919.179685\n",
       "Name: price, dtype: float64"
      ]
     },
     "execution_count": 21,
     "metadata": {},
     "output_type": "execute_result"
    }
   ],
   "source": [
    "AE2_uk.describe()"
   ]
  },
  {
   "cell_type": "code",
   "execution_count": 22,
   "metadata": {},
   "outputs": [
    {
     "data": {
      "text/plain": [
       "count     132.000000\n",
       "mean      133.107825\n",
       "std       248.888852\n",
       "min         0.827683\n",
       "25%        29.399107\n",
       "50%        58.758339\n",
       "75%        95.849483\n",
       "max      1853.799411\n",
       "Name: price, dtype: float64"
      ]
     },
     "execution_count": 22,
     "metadata": {},
     "output_type": "execute_result"
    }
   ],
   "source": [
    "AE3_uk.describe()"
   ]
  },
  {
   "cell_type": "code",
   "execution_count": 23,
   "metadata": {},
   "outputs": [
    {
     "data": {
      "text/plain": [
       "count     132.000000\n",
       "mean      135.913237\n",
       "std       274.086421\n",
       "min         0.250766\n",
       "25%        33.098217\n",
       "50%        63.782669\n",
       "75%       111.186960\n",
       "max      2673.140150\n",
       "Name: price, dtype: float64"
      ]
     },
     "execution_count": 23,
     "metadata": {},
     "output_type": "execute_result"
    }
   ],
   "source": [
    "AE4_uk.describe()"
   ]
  },
  {
   "cell_type": "code",
   "execution_count": 24,
   "metadata": {},
   "outputs": [
    {
     "data": {
      "text/plain": [
       "count      125.000000\n",
       "mean       583.626287\n",
       "std       1826.890949\n",
       "min          1.279678\n",
       "25%         49.009147\n",
       "50%         99.246179\n",
       "75%        385.272594\n",
       "max      15781.372867\n",
       "Name: price, dtype: float64"
      ]
     },
     "execution_count": 24,
     "metadata": {},
     "output_type": "execute_result"
    }
   ],
   "source": [
    "AE0_us.describe()"
   ]
  },
  {
   "cell_type": "code",
   "execution_count": 25,
   "metadata": {},
   "outputs": [
    {
     "data": {
      "text/plain": [
       "count     125.000000\n",
       "mean      391.643009\n",
       "std      1117.824888\n",
       "min         1.785714\n",
       "25%        34.718491\n",
       "50%        75.990977\n",
       "75%       235.952000\n",
       "max      9364.646465\n",
       "Name: price, dtype: float64"
      ]
     },
     "execution_count": 25,
     "metadata": {},
     "output_type": "execute_result"
    }
   ],
   "source": [
    "AE1_us.describe()"
   ]
  },
  {
   "cell_type": "code",
   "execution_count": 26,
   "metadata": {},
   "outputs": [
    {
     "data": {
      "text/plain": [
       "count      125.000000\n",
       "mean       616.767445\n",
       "std       1731.910117\n",
       "min          2.368643\n",
       "25%         53.729214\n",
       "50%        109.269843\n",
       "75%        424.899771\n",
       "max      14544.703622\n",
       "Name: price, dtype: float64"
      ]
     },
     "execution_count": 26,
     "metadata": {},
     "output_type": "execute_result"
    }
   ],
   "source": [
    "AE2_us.describe()"
   ]
  },
  {
   "cell_type": "code",
   "execution_count": 27,
   "metadata": {},
   "outputs": [
    {
     "data": {
      "text/plain": [
       "count     125.000000\n",
       "mean      273.059859\n",
       "std       823.715621\n",
       "min         0.250192\n",
       "25%        32.765437\n",
       "50%        71.117092\n",
       "75%       147.310920\n",
       "max      6907.779790\n",
       "Name: price, dtype: float64"
      ]
     },
     "execution_count": 27,
     "metadata": {},
     "output_type": "execute_result"
    }
   ],
   "source": [
    "AE3_us.describe()"
   ]
  },
  {
   "cell_type": "code",
   "execution_count": 28,
   "metadata": {},
   "outputs": [
    {
     "data": {
      "text/plain": [
       "count     125.000000\n",
       "mean      162.812461\n",
       "std       284.016501\n",
       "min         0.000000\n",
       "25%        37.182052\n",
       "50%        67.133467\n",
       "75%       114.346956\n",
       "max      1703.372392\n",
       "Name: price, dtype: float64"
      ]
     },
     "execution_count": 28,
     "metadata": {},
     "output_type": "execute_result"
    }
   ],
   "source": [
    "AE4_us.describe()"
   ]
  }
 ],
 "metadata": {
  "kernelspec": {
   "display_name": "Python 3",
   "language": "python",
   "name": "python3"
  },
  "language_info": {
   "codemirror_mode": {
    "name": "ipython",
    "version": 3
   },
   "file_extension": ".py",
   "mimetype": "text/x-python",
   "name": "python",
   "nbconvert_exporter": "python",
   "pygments_lexer": "ipython3",
   "version": "3.8.5"
  }
 },
 "nbformat": 4,
 "nbformat_minor": 4
}
