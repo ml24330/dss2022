{
 "cells": [
  {
   "cell_type": "code",
   "execution_count": 12,
   "metadata": {
    "scrolled": false
   },
   "outputs": [],
   "source": [
    "import pandas as pd\n",
    "from db_utils import QueryAll\n",
    "\n",
    "# Wall clock data\n",
    "data_clocks = QueryAll(\"clock_uk\")\n",
    "\n",
    "# Harry Potter book data\n",
    "data_books = QueryAll(\"book_uk\")\n",
    "\n",
    "cols = [\"id\", \"title\", \"globalId\", \"categoryId\", \"categoryName\", \"url\", \"location\", \"shippingType\", \"shippingLocations\",\n",
    "                \"shippingTime\", \"startTime\", \"endTime\", \"returnsAccepted\", \"conditionId\", \"listingIsTopRated\", \n",
    "                \"sellerFeedbackScore\", \"sellerPositivePercent\", \"sellerName\", \"sellerIsTopRated\", \"price\", \"currency\", \"bids\"]\n",
    "\n",
    "clocks = pd.DataFrame(data_clocks, columns=cols)\n",
    "books = pd.DataFrame(data_books, columns=cols)\n",
    "\n",
    "df_clocks = clocks[(clocks.bids != -1) & (clocks.bids != -2)].reset_index()\n",
    "df_books = books[(books.bids != -1) & (books.bids != -2)].reset_index()"
   ]
  },
  {
   "cell_type": "code",
   "execution_count": 15,
   "metadata": {},
   "outputs": [],
   "source": [
    "import matplotlib.pyplot as plt\n",
    "\n",
    "# Visualise here..."
   ]
  }
 ],
 "metadata": {
  "kernelspec": {
   "display_name": "Python 3",
   "language": "python",
   "name": "python3"
  },
  "language_info": {
   "codemirror_mode": {
    "name": "ipython",
    "version": 3
   },
   "file_extension": ".py",
   "mimetype": "text/x-python",
   "name": "python",
   "nbconvert_exporter": "python",
   "pygments_lexer": "ipython3",
   "version": "3.8.5"
  }
 },
 "nbformat": 4,
 "nbformat_minor": 4
}
