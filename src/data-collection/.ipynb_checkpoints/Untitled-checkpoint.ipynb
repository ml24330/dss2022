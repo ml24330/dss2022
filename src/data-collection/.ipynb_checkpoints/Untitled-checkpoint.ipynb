{
 "cells": [
  {
   "cell_type": "code",
   "execution_count": 41,
   "metadata": {},
   "outputs": [
    {
     "name": "stdout",
     "output_type": "stream",
     "text": [
      "555/100 regressions with sample size 100 produced larger standard error under homoskedastic estimator\n",
      "445/100 regressions with sample size 100 produced larger standard error under heteroskedastic estimator\n",
      "541/100 regressions with sample size 1000 produced larger standard error under homoskedastic estimator\n",
      "459/100 regressions with sample size 1000 produced larger standard error under heteroskedastic estimator\n",
      "482/100 regressions with sample size 10000 produced larger standard error under homoskedastic estimator\n",
      "518/100 regressions with sample size 10000 produced larger standard error under heteroskedastic estimator\n",
      "517/100 regressions with sample size 100000 produced larger standard error under homoskedastic estimator\n",
      "483/100 regressions with sample size 100000 produced larger standard error under heteroskedastic estimator\n"
     ]
    }
   ],
   "source": [
    "import numpy as np\n",
    "import statsmodels.api as sm\n",
    "import pandas as pd\n",
    "\n",
    "for k in range(2,6):\n",
    "    n = 10**k\n",
    "\n",
    "    se1 = []\n",
    "    se2 = []\n",
    "\n",
    "    for idx in range(1000):\n",
    "        x = np.random.uniform(0,1000,size=n)\n",
    "        b = np.random.uniform(0,10)\n",
    "        e = np.random.normal(0,1,size=n)\n",
    "        Y = x*b+e\n",
    "\n",
    "        results1 = sm.OLS(Y,x).fit()\n",
    "        results2 = sm.OLS(Y,x).fit(cov_type='hc1')\n",
    "\n",
    "        se1.append(results1.bse[0])\n",
    "        se2.append(results2.bse[0])\n",
    "\n",
    "    df = pd.DataFrame()\n",
    "    df['homo'] = pd.Series(se1)\n",
    "    df['hc1'] = pd.Series(se2)\n",
    "    \n",
    "    d1 = df[df.homo - df.hc1 > 0].shape[0]\n",
    "    d2 = df[df.homo - df.hc1 < 0].shape[0]\n",
    "    \n",
    "    print(f'{d1}/1000 regressions with sample size {n} produced larger standard error under homoskedastic estimator')\n",
    "    print(f'{d2}/1000 regressions with sample size {n} produced larger standard error under heteroskedastic estimator')\n",
    "    \n",
    "    "
   ]
  },
  {
   "cell_type": "code",
   "execution_count": null,
   "metadata": {},
   "outputs": [],
   "source": []
  }
 ],
 "metadata": {
  "kernelspec": {
   "display_name": "Python 3",
   "language": "python",
   "name": "python3"
  },
  "language_info": {
   "codemirror_mode": {
    "name": "ipython",
    "version": 3
   },
   "file_extension": ".py",
   "mimetype": "text/x-python",
   "name": "python",
   "nbconvert_exporter": "python",
   "pygments_lexer": "ipython3",
   "version": "3.8.5"
  }
 },
 "nbformat": 4,
 "nbformat_minor": 4
}
