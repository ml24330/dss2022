{
 "cells": [
  {
   "cell_type": "code",
   "execution_count": 16,
   "id": "daf69921",
   "metadata": {},
   "outputs": [],
   "source": [
    "import pandas as pd"
   ]
  },
  {
   "cell_type": "code",
   "execution_count": 17,
   "id": "3a065bbd",
   "metadata": {},
   "outputs": [],
   "source": [
    "data=pd.read_csv(\"uk_books.csv\")"
   ]
  },
  {
   "cell_type": "code",
   "execution_count": 18,
   "id": "db98f469",
   "metadata": {},
   "outputs": [
    {
     "data": {
      "text/html": [
       "<div>\n",
       "<style scoped>\n",
       "    .dataframe tbody tr th:only-of-type {\n",
       "        vertical-align: middle;\n",
       "    }\n",
       "\n",
       "    .dataframe tbody tr th {\n",
       "        vertical-align: top;\n",
       "    }\n",
       "\n",
       "    .dataframe thead th {\n",
       "        text-align: right;\n",
       "    }\n",
       "</style>\n",
       "<table border=\"1\" class=\"dataframe\">\n",
       "  <thead>\n",
       "    <tr style=\"text-align: right;\">\n",
       "      <th></th>\n",
       "      <th>id</th>\n",
       "      <th>listingIsTopRated</th>\n",
       "      <th>sellerFeedbackScore</th>\n",
       "      <th>sellerPositivePercent</th>\n",
       "      <th>sellerIsTopRated</th>\n",
       "      <th>price</th>\n",
       "      <th>endAtWeekend</th>\n",
       "      <th>endAtEvening</th>\n",
       "      <th>length</th>\n",
       "      <th>isBroken</th>\n",
       "      <th>isUsed</th>\n",
       "      <th>isSet</th>\n",
       "      <th>freeShipping</th>\n",
       "      <th>isSold</th>\n",
       "    </tr>\n",
       "  </thead>\n",
       "  <tbody>\n",
       "    <tr>\n",
       "      <th>0</th>\n",
       "      <td>155231441853</td>\n",
       "      <td>0</td>\n",
       "      <td>4</td>\n",
       "      <td>100.0</td>\n",
       "      <td>0</td>\n",
       "      <td>80.00</td>\n",
       "      <td>1</td>\n",
       "      <td>1</td>\n",
       "      <td>6</td>\n",
       "      <td>0</td>\n",
       "      <td>0</td>\n",
       "      <td>0</td>\n",
       "      <td>0</td>\n",
       "      <td>1</td>\n",
       "    </tr>\n",
       "    <tr>\n",
       "      <th>1</th>\n",
       "      <td>374332149207</td>\n",
       "      <td>0</td>\n",
       "      <td>427</td>\n",
       "      <td>100.0</td>\n",
       "      <td>0</td>\n",
       "      <td>8.50</td>\n",
       "      <td>1</td>\n",
       "      <td>1</td>\n",
       "      <td>5</td>\n",
       "      <td>0</td>\n",
       "      <td>1</td>\n",
       "      <td>1</td>\n",
       "      <td>0</td>\n",
       "      <td>1</td>\n",
       "    </tr>\n",
       "    <tr>\n",
       "      <th>2</th>\n",
       "      <td>204134034335</td>\n",
       "      <td>0</td>\n",
       "      <td>8880</td>\n",
       "      <td>100.0</td>\n",
       "      <td>0</td>\n",
       "      <td>10.02</td>\n",
       "      <td>1</td>\n",
       "      <td>1</td>\n",
       "      <td>10</td>\n",
       "      <td>0</td>\n",
       "      <td>1</td>\n",
       "      <td>0</td>\n",
       "      <td>0</td>\n",
       "      <td>1</td>\n",
       "    </tr>\n",
       "    <tr>\n",
       "      <th>3</th>\n",
       "      <td>374332118703</td>\n",
       "      <td>0</td>\n",
       "      <td>427</td>\n",
       "      <td>100.0</td>\n",
       "      <td>0</td>\n",
       "      <td>46.00</td>\n",
       "      <td>1</td>\n",
       "      <td>1</td>\n",
       "      <td>5</td>\n",
       "      <td>0</td>\n",
       "      <td>1</td>\n",
       "      <td>0</td>\n",
       "      <td>0</td>\n",
       "      <td>1</td>\n",
       "    </tr>\n",
       "    <tr>\n",
       "      <th>4</th>\n",
       "      <td>225230024645</td>\n",
       "      <td>1</td>\n",
       "      <td>1574</td>\n",
       "      <td>100.0</td>\n",
       "      <td>1</td>\n",
       "      <td>12.50</td>\n",
       "      <td>1</td>\n",
       "      <td>1</td>\n",
       "      <td>7</td>\n",
       "      <td>0</td>\n",
       "      <td>1</td>\n",
       "      <td>1</td>\n",
       "      <td>0</td>\n",
       "      <td>1</td>\n",
       "    </tr>\n",
       "    <tr>\n",
       "      <th>...</th>\n",
       "      <td>...</td>\n",
       "      <td>...</td>\n",
       "      <td>...</td>\n",
       "      <td>...</td>\n",
       "      <td>...</td>\n",
       "      <td>...</td>\n",
       "      <td>...</td>\n",
       "      <td>...</td>\n",
       "      <td>...</td>\n",
       "      <td>...</td>\n",
       "      <td>...</td>\n",
       "      <td>...</td>\n",
       "      <td>...</td>\n",
       "      <td>...</td>\n",
       "    </tr>\n",
       "    <tr>\n",
       "      <th>172</th>\n",
       "      <td>225239799887</td>\n",
       "      <td>0</td>\n",
       "      <td>749</td>\n",
       "      <td>100.0</td>\n",
       "      <td>0</td>\n",
       "      <td>49.99</td>\n",
       "      <td>1</td>\n",
       "      <td>1</td>\n",
       "      <td>5</td>\n",
       "      <td>0</td>\n",
       "      <td>0</td>\n",
       "      <td>0</td>\n",
       "      <td>0</td>\n",
       "      <td>1</td>\n",
       "    </tr>\n",
       "    <tr>\n",
       "      <th>173</th>\n",
       "      <td>374340331109</td>\n",
       "      <td>0</td>\n",
       "      <td>17</td>\n",
       "      <td>100.0</td>\n",
       "      <td>0</td>\n",
       "      <td>5.00</td>\n",
       "      <td>1</td>\n",
       "      <td>0</td>\n",
       "      <td>6</td>\n",
       "      <td>0</td>\n",
       "      <td>0</td>\n",
       "      <td>0</td>\n",
       "      <td>0</td>\n",
       "      <td>1</td>\n",
       "    </tr>\n",
       "    <tr>\n",
       "      <th>174</th>\n",
       "      <td>225239787931</td>\n",
       "      <td>0</td>\n",
       "      <td>328</td>\n",
       "      <td>100.0</td>\n",
       "      <td>0</td>\n",
       "      <td>4.00</td>\n",
       "      <td>1</td>\n",
       "      <td>1</td>\n",
       "      <td>7</td>\n",
       "      <td>0</td>\n",
       "      <td>0</td>\n",
       "      <td>1</td>\n",
       "      <td>0</td>\n",
       "      <td>1</td>\n",
       "    </tr>\n",
       "    <tr>\n",
       "      <th>175</th>\n",
       "      <td>155242851862</td>\n",
       "      <td>0</td>\n",
       "      <td>951</td>\n",
       "      <td>99.6</td>\n",
       "      <td>0</td>\n",
       "      <td>4.95</td>\n",
       "      <td>1</td>\n",
       "      <td>1</td>\n",
       "      <td>7</td>\n",
       "      <td>0</td>\n",
       "      <td>0</td>\n",
       "      <td>0</td>\n",
       "      <td>0</td>\n",
       "      <td>1</td>\n",
       "    </tr>\n",
       "    <tr>\n",
       "      <th>176</th>\n",
       "      <td>204144520896</td>\n",
       "      <td>0</td>\n",
       "      <td>247</td>\n",
       "      <td>99.0</td>\n",
       "      <td>0</td>\n",
       "      <td>15.99</td>\n",
       "      <td>1</td>\n",
       "      <td>1</td>\n",
       "      <td>7</td>\n",
       "      <td>0</td>\n",
       "      <td>0</td>\n",
       "      <td>1</td>\n",
       "      <td>0</td>\n",
       "      <td>1</td>\n",
       "    </tr>\n",
       "  </tbody>\n",
       "</table>\n",
       "<p>177 rows × 14 columns</p>\n",
       "</div>"
      ],
      "text/plain": [
       "               id  listingIsTopRated  sellerFeedbackScore  \\\n",
       "0    155231441853                  0                    4   \n",
       "1    374332149207                  0                  427   \n",
       "2    204134034335                  0                 8880   \n",
       "3    374332118703                  0                  427   \n",
       "4    225230024645                  1                 1574   \n",
       "..            ...                ...                  ...   \n",
       "172  225239799887                  0                  749   \n",
       "173  374340331109                  0                   17   \n",
       "174  225239787931                  0                  328   \n",
       "175  155242851862                  0                  951   \n",
       "176  204144520896                  0                  247   \n",
       "\n",
       "     sellerPositivePercent  sellerIsTopRated  price  endAtWeekend  \\\n",
       "0                    100.0                 0  80.00             1   \n",
       "1                    100.0                 0   8.50             1   \n",
       "2                    100.0                 0  10.02             1   \n",
       "3                    100.0                 0  46.00             1   \n",
       "4                    100.0                 1  12.50             1   \n",
       "..                     ...               ...    ...           ...   \n",
       "172                  100.0                 0  49.99             1   \n",
       "173                  100.0                 0   5.00             1   \n",
       "174                  100.0                 0   4.00             1   \n",
       "175                   99.6                 0   4.95             1   \n",
       "176                   99.0                 0  15.99             1   \n",
       "\n",
       "     endAtEvening  length  isBroken  isUsed  isSet  freeShipping  isSold  \n",
       "0               1       6         0       0      0             0       1  \n",
       "1               1       5         0       1      1             0       1  \n",
       "2               1      10         0       1      0             0       1  \n",
       "3               1       5         0       1      0             0       1  \n",
       "4               1       7         0       1      1             0       1  \n",
       "..            ...     ...       ...     ...    ...           ...     ...  \n",
       "172             1       5         0       0      0             0       1  \n",
       "173             0       6         0       0      0             0       1  \n",
       "174             1       7         0       0      1             0       1  \n",
       "175             1       7         0       0      0             0       1  \n",
       "176             1       7         0       0      1             0       1  \n",
       "\n",
       "[177 rows x 14 columns]"
      ]
     },
     "execution_count": 18,
     "metadata": {},
     "output_type": "execute_result"
    }
   ],
   "source": [
    "data"
   ]
  },
  {
   "cell_type": "code",
   "execution_count": 19,
   "id": "36d79e03",
   "metadata": {},
   "outputs": [],
   "source": [
    "from sklearn.ensemble import RandomForestRegressor\n",
    "from sklearn.model_selection import train_test_split"
   ]
  },
  {
   "cell_type": "code",
   "execution_count": 20,
   "id": "8aa9768d",
   "metadata": {},
   "outputs": [],
   "source": [
    "independentvariables = ['listingIsTopRated', 'sellerFeedbackScore', 'sellerPositivePercent', 'sellerIsTopRated','endAtWeekend','endAtEvening','length','isBroken','isUsed','isSet','freeShipping']\n",
    "X = data[independentvariables] \n",
    "y = data.price\n",
    "X_train, X_test, y_train, y_test = train_test_split(X, y, test_size=0.3)"
   ]
  },
  {
   "cell_type": "code",
   "execution_count": 21,
   "id": "0d1e7b12",
   "metadata": {},
   "outputs": [],
   "source": [
    "from sklearn.model_selection import GridSearchCV"
   ]
  },
  {
   "cell_type": "code",
   "execution_count": 23,
   "id": "353839ef",
   "metadata": {},
   "outputs": [
    {
     "name": "stdout",
     "output_type": "stream",
     "text": [
      "Best parameter (CV score=nan):\n",
      "{'max_depth': 1, 'min_samples_leaf': 1, 'min_samples_split': 1}\n"
     ]
    }
   ],
   "source": [
    "print(\"Best parameter (CV score=%0.3f):\"% search.best_score_)\n",
    "print(search.best_params_)"
   ]
  },
  {
   "cell_type": "code",
   "execution_count": 24,
   "id": "3d8c085a",
   "metadata": {},
   "outputs": [
    {
     "name": "stdout",
     "output_type": "stream",
     "text": [
      "Feature importance by sklearn: {'listingIsTopRated': 0.0, 'sellerFeedbackScore': 0.0, 'sellerPositivePercent': 0.0, 'sellerIsTopRated': 0.0, 'endAtWeekend': 0.0, 'endAtEvening': 0.0, 'length': 0.0, 'isBroken': 0.0, 'isUsed': 0.0, 'isSet': 0.0, 'freeShipping': 0.0}\n"
     ]
    }
   ],
   "source": [
    "regressor=RandomForestRegressor(max_depth=1, min_samples_leaf=1, min_samples_split=1.0)\n",
    "regressor.fit(X_train,y_train)\n",
    "\n",
    "features = X.columns.tolist()\n",
    "\n",
    "importances_sk=regressor.feature_importances_\n",
    "\n",
    "\n",
    "feature_importance_sk = {}\n",
    "for i, feature in enumerate(features):\n",
    "    feature_importance_sk[feature] = round(importances_sk[i], 3)\n",
    "\n",
    "print(f\"Feature importance by sklearn: {feature_importance_sk}\")\n",
    "\n"
   ]
  },
  {
   "cell_type": "code",
   "execution_count": 25,
   "id": "1b15d998",
   "metadata": {},
   "outputs": [
    {
     "data": {
      "text/plain": [
       "2368.404024492275"
      ]
     },
     "execution_count": 25,
     "metadata": {},
     "output_type": "execute_result"
    }
   ],
   "source": [
    "y_predict=regressor.predict(X_test)\n",
    "from sklearn.metrics import mean_squared_error\n",
    "\n",
    "mean_squared_error(y_test, y_predict)"
   ]
  },
  {
   "cell_type": "code",
   "execution_count": 26,
   "id": "f1612396",
   "metadata": {},
   "outputs": [
    {
     "data": {
      "text/plain": [
       "1154.0287648176688"
      ]
     },
     "execution_count": 26,
     "metadata": {},
     "output_type": "execute_result"
    }
   ],
   "source": [
    "y.var()"
   ]
  },
  {
   "cell_type": "code",
   "execution_count": null,
   "id": "6559df72",
   "metadata": {},
   "outputs": [],
   "source": [
    "max_depth=list(range(1,10))\n",
    "min_samples_split=list(range(1,10))\n",
    "min_samples_leaf=list(range(1,10))\n",
    "param_grid=dict(max_depth=max_depth,min_samples_split=min_samples_split,min_samples_leaf=min_samples_leaf)\n",
    "model=RandomForestRegressor()\n",
    "search=GridSearchCV(model,param_grid,scoring=\"balanced_accuracy\",n_jobs=-1)\n",
    "search.fit(X_train,y_train)"
   ]
  }
 ],
 "metadata": {
  "kernelspec": {
   "display_name": "Python 3 (ipykernel)",
   "language": "python",
   "name": "python3"
  },
  "language_info": {
   "codemirror_mode": {
    "name": "ipython",
    "version": 3
   },
   "file_extension": ".py",
   "mimetype": "text/x-python",
   "name": "python",
   "nbconvert_exporter": "python",
   "pygments_lexer": "ipython3",
   "version": "3.9.12"
  }
 },
 "nbformat": 4,
 "nbformat_minor": 5
}
