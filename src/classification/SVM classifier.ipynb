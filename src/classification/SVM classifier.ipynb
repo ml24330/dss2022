{
 "cells": [
  {
   "cell_type": "code",
   "execution_count": 4,
   "metadata": {},
   "outputs": [],
   "source": [
    "import pandas as pd\n",
    "from sklearn.model_selection import KFold \n",
    "from sklearn.metrics import confusion_matrix\n",
    "from sklearn import svm\n",
    "\n",
    "uk_clocks = pd.read_csv('uk_clocks.csv')"
   ]
  },
  {
   "cell_type": "code",
   "execution_count": 30,
   "metadata": {},
   "outputs": [],
   "source": [
    "predictors = ['listingIsTopRated', 'sellerFeedbackScore', 'sellerPositivePercent', 'sellerIsTopRated', 'endAtWeekend', 'endAtEvening', 'length', 'isBroken', 'isUsed', 'isLarge', 'freeShipping']\n",
    "\n",
    "X = uk_clocks.loc[:,predictors]\n",
    "y = uk_clocks.loc[:,'isSold']\n",
    "\n",
    "kf = KFold(n_splits=5, shuffle=True)\n",
    "model = svm.SVC(kernel='linear')\n"
   ]
  },
  {
   "cell_type": "code",
   "execution_count": 27,
   "metadata": {},
   "outputs": [
    {
     "data": {
      "text/plain": [
       "0    2423\n",
       "1     440\n",
       "Name: isSold, dtype: int64"
      ]
     },
     "execution_count": 27,
     "metadata": {},
     "output_type": "execute_result"
    }
   ],
   "source": [
    "y.value_counts()"
   ]
  },
  {
   "cell_type": "code",
   "execution_count": 31,
   "metadata": {
    "scrolled": false
   },
   "outputs": [
    {
     "name": "stdout",
     "output_type": "stream",
     "text": [
      "0    489\n",
      "1     84\n",
      "Name: isSold, dtype: int64\n",
      "[[452  37]\n",
      " [ 65  19]]\n",
      "0    481\n",
      "1     92\n",
      "Name: isSold, dtype: int64\n",
      "[[459  22]\n",
      " [ 80  12]]\n",
      "0    477\n",
      "1     96\n",
      "Name: isSold, dtype: int64\n",
      "[[452  25]\n",
      " [ 84  12]]\n",
      "0    487\n",
      "1     85\n",
      "Name: isSold, dtype: int64\n",
      "[[487   0]\n",
      " [ 83   2]]\n",
      "0    489\n",
      "1     83\n",
      "Name: isSold, dtype: int64\n",
      "[[488   1]\n",
      " [ 83   0]]\n"
     ]
    }
   ],
   "source": [
    "for train_index , test_index in kf.split(X):\n",
    "    X_train , X_test = X.iloc[train_index,:],X.iloc[test_index,:]\n",
    "    y_train , y_test = y[train_index] , y[test_index]\n",
    "    \n",
    "    model.fit(X_train,y_train)\n",
    "    y_pred = model.predict(X_test)\n",
    "    print(y_test.value_counts())\n",
    "    \n",
    "    print(confusion_matrix(y_test, y_pred))"
   ]
  },
  {
   "cell_type": "code",
   "execution_count": 168,
   "metadata": {},
   "outputs": [
    {
     "name": "stdout",
     "output_type": "stream",
     "text": [
      "0.18274672187715657\n",
      "[[421  62]\n",
      " [ 62  28]]\n",
      "0.19862215430835772\n",
      "[[441  53]\n",
      " [ 55  24]]\n",
      "0.17929865603590267\n",
      "[[427  57]\n",
      " [ 63  26]]\n",
      "0.19612947817071769\n",
      "[[421  66]\n",
      " [ 56  29]]\n",
      "0.23943085735066827\n",
      "[[422  53]\n",
      " [ 64  33]]\n"
     ]
    }
   ],
   "source": [
    "from sklearn.ensemble import GradientBoostingClassifier\n",
    "from sklearn.linear_model import LogisticRegression\n",
    "from sklearn.tree import DecisionTreeClassifier\n",
    "from sklearn.metrics import cohen_kappa_score\n",
    "import xgboost as xgb\n",
    "from sklearn.utils import resample, shuffle\n",
    "\n",
    "model2 = DecisionTreeClassifier(random_state=0)\n",
    "# model2 = GradientBoostingClassifier(n_estimators=200, random_state=0, max_depth=20)\n",
    "# model2 = LogisticRegression(random_state=0, class_weight='balanced')\n",
    "# model2 = GaussianNB()\n",
    "# model2 = xgb.XGBClassifier(objective=\"binary:logistic\", eval_metric='error', use_label_encoder=False)\n",
    "\n",
    "for train_index , test_index in kf.split(X):\n",
    "    \n",
    "    X_train , X_test = X.iloc[train_index,:],X.iloc[test_index,:]\n",
    "    y_train , y_test = y[train_index] , y[test_index]\n",
    "    \n",
    "    maj_class = X_train[y_train == 0]\n",
    "    min_class = X_train[y_train == 1]\n",
    "    count = y_train.value_counts()[0]\n",
    "    \n",
    "    min_class_upsampled = resample(min_class, random_state=0, n_samples=count, replace=True)\n",
    "    X_upsampled = pd.concat([maj_class,min_class_upsampled])\n",
    "    y_upsampled = pd.Series([0]*count+[1]*count)\n",
    "    \n",
    "    model2.fit(X_train, y_train)\n",
    "#     model2.fit(X_upsampled,y_upsampled)\n",
    "    y_pred = model2.predict(X_test)\n",
    "#     print(y_test.value_counts())\n",
    "#     print(model2.score(X,y))\n",
    "    \n",
    "    print(cohen_kappa_score(y_test, y_pred))\n",
    "    print(confusion_matrix(y_test, y_pred))"
   ]
  }
 ],
 "metadata": {
  "kernelspec": {
   "display_name": "Python 3",
   "language": "python",
   "name": "python3"
  },
  "language_info": {
   "codemirror_mode": {
    "name": "ipython",
    "version": 3
   },
   "file_extension": ".py",
   "mimetype": "text/x-python",
   "name": "python",
   "nbconvert_exporter": "python",
   "pygments_lexer": "ipython3",
   "version": "3.8.5"
  }
 },
 "nbformat": 4,
 "nbformat_minor": 4
}
