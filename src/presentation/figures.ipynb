{
 "cells": [
  {
   "cell_type": "code",
   "execution_count": 91,
   "metadata": {
    "scrolled": false
   },
   "outputs": [],
   "source": [
    "import matplotlib.pyplot as plt\n",
    "\n",
    "plt.style.use('seaborn-pastel')\n",
    "plt.rcParams['figure.figsize'] = (8,5)\n",
    "plt.rcParams['figure.dpi'] = 500\n",
    "plt.rcParams['text.color'] = 'black'\n",
    "plt.rcParams['axes.labelcolor'] = 'black'\n",
    "plt.rcParams['xtick.color'] = 'black'\n",
    "plt.rcParams['ytick.color'] = 'black'\n",
    "plt.rcParams['axes.titlepad'] = 10\n",
    "plt.rcParams['axes.titleweight'] = 1000\n",
    "plt.rcParams['axes.labelpad'] = 5\n",
    "plt.rcParams['font.family'] = 'serif'\n",
    "plt.rcParams['axes.facecolor'] = 'white'"
   ]
  },
  {
   "cell_type": "code",
   "execution_count": 92,
   "metadata": {},
   "outputs": [],
   "source": [
    "import pandas as pd\n",
    "import numpy as np\n",
    "from db_utils import QueryAll\n",
    "\n",
    "cols = [\"id\", \"title\", \"globalId\", \"categoryId\", \"categoryName\", \"url\", \"location\", \"shippingType\",\n",
    "                \"shippingLocations\", \"shippingTime\", \"startTime\", \"endTime\", \"returnsAccepted\", \n",
    "                \"conditionId\", \"listingIsTopRated\", \"sellerFeedbackScore\", \"sellerPositivePercent\",\n",
    "                \"sellerName\", \"sellerIsTopRated\", \"price\", \"currency\", \"bids\"]\n",
    "\n",
    "uk_clocks = pd.DataFrame(QueryAll('clock_uk'), columns=cols)\n",
    "uk_books = pd.DataFrame(QueryAll('book_uk'), columns=cols)\n",
    "us_clocks = pd.DataFrame(QueryAll('clock_us'), columns=cols)\n",
    "us_books = pd.DataFrame(QueryAll('book_us'), columns=cols)\n",
    "\n",
    "uk_clocks = uk_clocks[uk_clocks.bids >= 0]\n",
    "uk_books = uk_books[uk_books.bids >= 0]\n",
    "us_clocks = us_clocks[us_clocks.bids >= 0]\n",
    "us_books = us_books[us_books.bids >= 0]"
   ]
  },
  {
   "cell_type": "code",
   "execution_count": 93,
   "metadata": {},
   "outputs": [],
   "source": [
    "import matplotlib.ticker as mticker\n",
    "\n",
    "X0 = uk_clocks.drop_duplicates(subset=['sellerName'])['sellerFeedbackScore']\n",
    "X1 = uk_books.drop_duplicates(subset=['sellerName'])['sellerFeedbackScore']\n",
    "X2 = us_clocks.drop_duplicates(subset=['sellerName'])['sellerFeedbackScore']\n",
    "X3 = us_books.drop_duplicates(subset=['sellerName'])['sellerFeedbackScore']"
   ]
  },
  {
   "cell_type": "code",
   "execution_count": 94,
   "metadata": {},
   "outputs": [],
   "source": [
    "fig, (axs1, axs2) = plt.subplots(2,2)\n",
    "\n",
    "axs1[0].hist(np.log(X0+1), bins=25, edgecolor='black')\n",
    "axs1[0].xaxis.set_major_formatter(mticker.FuncFormatter(lambda x, _: round(np.exp(x))-1))\n",
    "axs1[0].set_xlim(0,11)\n",
    "axs1[0].set_xlabel('Net positive feedback (log scale)')\n",
    "axs1[0].set_ylabel('Number of sellers')\n",
    "axs1[0].set_title('Seller feedback distribution (UK clocks)')\n",
    "\n",
    "axs1[1].hist(np.log(X1+1), bins=25, edgecolor='black')\n",
    "axs1[1].xaxis.set_major_formatter(mticker.FuncFormatter(lambda x, _: round(np.exp(x))-1))\n",
    "axs1[1].set_xlim(0,11)\n",
    "axs1[1].set_xlabel('Net positive feedback (log scale)')\n",
    "axs1[1].set_ylabel('Number of sellers')\n",
    "axs1[1].set_title('Seller feedback distribution (UK books)')\n",
    "\n",
    "axs2[0].hist(np.log(X2+1), bins=25, edgecolor='black')\n",
    "axs2[0].xaxis.set_major_formatter(mticker.FuncFormatter(lambda x, _: round(np.exp(x))-1))\n",
    "axs2[0].set_xlim(0,11)\n",
    "axs2[0].set_xlabel('Net positive feedback (log scale)')\n",
    "axs2[0].set_ylabel('Number of sellers')\n",
    "axs2[0].set_title('Seller feedback distribution (US clocks)')\n",
    "\n",
    "axs2[1].hist(np.log(X3+1), bins=25, edgecolor='black')\n",
    "axs2[1].xaxis.set_major_formatter(mticker.FuncFormatter(lambda x, _: round(np.exp(x))-1))\n",
    "axs2[1].set_xlim(0,11)\n",
    "axs2[1].set_xlabel('Net positive feedback (log scale)')\n",
    "axs2[1].set_ylabel('Number of sellers')\n",
    "axs2[1].set_title('Seller feedback distribution (US books)')\n",
    "\n",
    "plt.tight_layout()\n",
    "fig.savefig('feedback1.png', dpi=fig.dpi, bbox_inches='tight')\n",
    "plt.close(fig)"
   ]
  },
  {
   "cell_type": "code",
   "execution_count": 95,
   "metadata": {
    "scrolled": false
   },
   "outputs": [],
   "source": [
    "fig, ax = plt.subplots()\n",
    "\n",
    "ax.boxplot([np.log(X+1) for X in [X0,X1,X2,X3]], whis=(5, 95), patch_artist=True, flierprops={'markersize':3},\n",
    "           boxprops={'facecolor':(146/255,198/255,1)}, medianprops={'color':'black'})\n",
    "ax.yaxis.set_major_formatter(mticker.FuncFormatter(lambda x, _: round(np.exp(x))-1))\n",
    "ax.set_xticklabels(['UK Clocks', 'UK Books', 'US Clocks', 'US Books'])\n",
    "ax.set_ylabel('Seller feedback score (log scale)')\n",
    "ax.set_title('Seller feedback distributions')\n",
    "\n",
    "plt.tight_layout()\n",
    "fig.savefig('feedback2.png', dpi=fig.dpi, bbox_inches='tight')\n",
    "plt.close(fig)"
   ]
  },
  {
   "cell_type": "code",
   "execution_count": 96,
   "metadata": {},
   "outputs": [],
   "source": [
    "ET0 = uk_clocks['endTime'].str.slice(10,13).astype(int)\n",
    "ET1 = uk_books['endTime'].str.slice(10,13).astype(int)\n",
    "ET2 = us_clocks['endTime'].str.slice(10,13).astype(int)\n",
    "ET3 = us_books['endTime'].str.slice(10,13).astype(int)\n",
    "\n",
    "fig, (axs1, axs2) = plt.subplots(2,2)\n",
    "\n",
    "axs1[0].hist(ET0, bins=range(25), edgecolor='black', color='orange')\n",
    "axs1[0].set_xticks([0,4,8,12,16,20,24])\n",
    "axs1[0].set_xticklabels(['12AM', '4AM', '8AM', '12PM', '4PM', '8PM', '12AM'])\n",
    "axs1[0].set_xlim(0,24)\n",
    "axs1[0].set_xlabel('Time (GMT)')\n",
    "axs1[0].set_ylabel('Number of listings')\n",
    "axs1[0].set_title('Distribution of end times (UK Clocks)')\n",
    "\n",
    "axs1[1].hist(ET1, bins=range(25), edgecolor='black', color='orange')\n",
    "axs1[1].set_xticks([0,4,8,12,16,20,24])\n",
    "axs1[1].set_xticklabels(['12AM', '4AM', '8AM', '12PM', '4PM', '8PM', '12AM'])\n",
    "axs1[1].set_xlim(0,24)\n",
    "axs1[1].set_xlabel('Time (GMT)')\n",
    "axs1[1].set_ylabel('Number of listings')\n",
    "axs1[1].set_title('Distribution of end times (UK Books)')\n",
    "\n",
    "axs2[0].hist(ET2-8, bins=range(-8,17), edgecolor='black', color='orange')\n",
    "axs2[0].set_xticks([-8,-4,0,4,8,12,16])\n",
    "axs2[0].set_xticklabels(['12AM', '4AM', '8AM', '12PM', '4PM', '8PM', '12AM'])\n",
    "axs2[0].set_xlim(-8,16)\n",
    "axs2[0].set_xlabel('Time (PST)')\n",
    "axs2[0].set_ylabel('Number of listings')\n",
    "axs2[0].set_title('Distribution of end times (US Clocks)')\n",
    "\n",
    "axs2[1].hist(ET3-8, bins=range(-8,17), edgecolor='black', color='orange')\n",
    "axs2[1].set_xticks([-8,-4,0,4,8,12,16])\n",
    "axs2[1].set_xticklabels(['12AM', '4AM', '8AM', '12PM', '4PM', '8PM', '12AM'])\n",
    "axs2[1].set_xlim(-8,16)\n",
    "axs2[1].set_xlabel('Time (PST)')\n",
    "axs2[1].set_ylabel('Number of listings')\n",
    "axs2[1].set_title('Distribution of end times (US Books)')\n",
    "\n",
    "plt.tight_layout()\n",
    "fig.savefig('endtime.png', dpi=fig.dpi, bbox_inches='tight')\n",
    "plt.close(fig)"
   ]
  },
  {
   "cell_type": "code",
   "execution_count": 97,
   "metadata": {
    "scrolled": false
   },
   "outputs": [],
   "source": [
    "CI0 = dict(uk_clocks[uk_clocks.conditionId != -1].conditionId.value_counts())\n",
    "CI1 = dict(us_clocks[us_clocks.conditionId != -1].conditionId.value_counts())\n",
    "CI2 = dict(uk_books[uk_books.conditionId != -1].conditionId.value_counts())\n",
    "CI3 = dict(us_books[us_books.conditionId != -1].conditionId.value_counts())\n",
    "\n",
    "labels = set(list(CI0.keys())) | set(list(CI1.keys())) | set(list(CI2.keys())) | set(list(CI3.keys()))\n",
    "labels = sorted([int(l) for l in list(labels)])\n",
    "C0 = [CI0.get(label,0) for label in labels]\n",
    "C1 = [CI1.get(label,0) for label in labels]\n",
    "C2 = [CI2.get(label,0) for label in labels]\n",
    "C3 = [CI3.get(label,0) for label in labels]\n",
    "legend = ['UK Clocks', 'US Clocks','UK Books', 'US Books']\n",
    "colors = ['blue', 'green', 'lightblue', 'lightgreen']\n",
    "\n",
    "fig, ax = plt.subplots()\n",
    "\n",
    "for i, value in enumerate([C0,C1,C2,C3]):\n",
    "    position = np.arange(0,9) -0.3 + i*0.2\n",
    "    ax.bar(position, value, width=0.2, label=legend[i], color=colors[i])\n",
    "\n",
    "\n",
    "ax.xaxis.set_ticks(range(9))\n",
    "ax.set_xticklabels(['New', 'New \\n others', 'Seller \\n refurbished', 'Like \\n new', 'Used', \n",
    "                    'Very \\n good', 'Good', 'Acceptable', 'Parts \\n not working'])\n",
    "ax.xaxis.set_tick_params(labelsize=8)\n",
    "ax.legend()\n",
    "ax.set_xlabel('Listing condition')\n",
    "ax.set_ylabel('Number of listings')\n",
    "ax.set_title('Distribution of listing conditions')\n",
    "\n",
    "plt.tight_layout()\n",
    "fig.savefig('condition.png', dpi=fig.dpi, bbox_inches='tight')\n",
    "plt.close(fig)"
   ]
  },
  {
   "cell_type": "code",
   "execution_count": 98,
   "metadata": {
    "scrolled": true
   },
   "outputs": [
    {
     "data": {
      "text/plain": [
       "<wordcloud.wordcloud.WordCloud at 0x7fc6841ccd00>"
      ]
     },
     "execution_count": 98,
     "metadata": {},
     "output_type": "execute_result"
    }
   ],
   "source": [
    "from wordcloud import WordCloud, STOPWORDS \n",
    "\n",
    "uk_words = ' '.join(str(x) for x in list(uk_clocks[\"title\"]))\n",
    "us_words = ' '.join(str(x) for x in list(us_clocks[\"title\"]))\n",
    "\n",
    "stop_words = STOPWORDS.update([\"clock\", \"wall\"])\n",
    "wordcloud = WordCloud(width=1600, height=800, stopwords = stop_words).generate(' '.join([uk_words, us_words]))\n",
    "\n",
    "wordcloud.to_file('cloud-clock.png')"
   ]
  },
  {
   "cell_type": "code",
   "execution_count": 99,
   "metadata": {
    "scrolled": true
   },
   "outputs": [
    {
     "data": {
      "text/plain": [
       "<wordcloud.wordcloud.WordCloud at 0x7fc6829fd910>"
      ]
     },
     "execution_count": 99,
     "metadata": {},
     "output_type": "execute_result"
    }
   ],
   "source": [
    "uk_words = ' '.join(str(x) for x in list(uk_books[\"title\"]))\n",
    "us_words = ' '.join(str(x) for x in list(us_books[\"title\"]))\n",
    "\n",
    "stop_words = STOPWORDS.update([\"harry\", \"potter\", \"book\", \"J\", \"rowling\", \"books\"])\n",
    "wordcloud = WordCloud(width=1600, height=800, stopwords = stop_words).generate(' '.join([uk_words, us_words]))\n",
    "\n",
    "wordcloud.to_file('cloud-book.png')"
   ]
  },
  {
   "cell_type": "code",
   "execution_count": 127,
   "metadata": {},
   "outputs": [],
   "source": [
    "B0 = dict(uk_clocks.bids.value_counts())\n",
    "B1 = dict(uk_books.bids.value_counts())\n",
    "B2 = dict(us_clocks.bids.value_counts())\n",
    "B3 = dict(us_books.bids.value_counts())\n",
    "\n",
    "fig, (axs1, axs2) = plt.subplots(2,2)\n",
    "\n",
    "axs1[0].bar(list(range(0,max(list(B0.keys())))),np.log([B0.get(i, 0)+1 for i in range(0,max(list(B0.keys())))]),color='green')\n",
    "axs1[0].set_xlabel('Number of bids')\n",
    "axs1[0].set_ylabel('Number of listings \\n (log scale)')\n",
    "axs1[0].set_title('Bid distribution (UK clocks)')\n",
    "axs1[0].yaxis.set_major_formatter(mticker.FuncFormatter(lambda x, _: round(np.exp(x))-1))\n",
    "axs1[0].set_xlim(-1,46)\n",
    "\n",
    "axs1[1].bar(list(range(0,max(list(B1.keys())))),np.log([B1.get(i, 0)+1 for i in range(0,max(list(B1.keys())))]),color='green')\n",
    "axs1[1].set_xlabel('Number of bids')\n",
    "axs1[1].set_ylabel('Number of listings \\n (log scale)')\n",
    "axs1[1].set_title('Bid distribution (UK books)')\n",
    "axs1[1].yaxis.set_major_formatter(mticker.FuncFormatter(lambda x, _: round(np.exp(x))-1))\n",
    "axs1[1].set_xlim(-1,46)\n",
    "\n",
    "axs2[0].bar(list(range(0,max(list(B2.keys())))),np.log([B2.get(i, 0)+1 for i in range(0,max(list(B2.keys())))]),color='green')\n",
    "axs2[0].set_xlabel('Number of bids')\n",
    "axs2[0].set_ylabel('Number of listings \\n (log scale)')\n",
    "axs2[0].set_title('Bid distribution (US clocks)')\n",
    "axs2[0].yaxis.set_major_formatter(mticker.FuncFormatter(lambda x, _: round(np.exp(x))-1))\n",
    "axs2[0].set_xlim(-1,46)\n",
    "\n",
    "axs2[1].bar(list(range(0,max(list(B3.keys())))),np.log([B3.get(i, 0)+1 for i in range(0,max(list(B3.keys())))]),color='green')\n",
    "axs2[1].set_xlabel('Number of bids')\n",
    "axs2[1].set_ylabel('Number of listings \\n (log scale)')\n",
    "axs2[1].set_title('Bid distribution (US books)')\n",
    "axs2[1].yaxis.set_major_formatter(mticker.FuncFormatter(lambda x, _: round(np.exp(x))-1))\n",
    "axs2[1].set_xlim(-1,46)\n",
    "\n",
    "plt.tight_layout()\n",
    "fig.savefig('bid.png', dpi=fig.dpi, bbox_inches='tight')\n",
    "plt.close(fig)"
   ]
  },
  {
   "cell_type": "code",
   "execution_count": 101,
   "metadata": {},
   "outputs": [],
   "source": [
    "uk_clocks_ = pd.read_csv('uk_clocks.csv')\n",
    "uk_books_ = pd.read_csv('uk_books.csv')\n",
    "us_clocks_ = pd.read_csv('us_clocks.csv')\n",
    "us_books_ = pd.read_csv('us_books.csv')\n",
    "\n",
    "P0 = uk_clocks_.price\n",
    "P1 = uk_books_.price\n",
    "P2 = us_clocks_.price\n",
    "P3 = us_books_.price"
   ]
  },
  {
   "cell_type": "code",
   "execution_count": 120,
   "metadata": {
    "scrolled": false
   },
   "outputs": [],
   "source": [
    "fig, (axs1, axs2) = plt.subplots(2,2)\n",
    "\n",
    "axs1[0].hist(np.log(P0+1), bins=25, edgecolor='black', color='coral')\n",
    "axs1[0].xaxis.set_major_formatter(mticker.FuncFormatter(lambda x, _: round(np.exp(x))-1))\n",
    "axs1[0].set_xlim(0,6.5)\n",
    "axs1[0].set_xlabel('Price of sold listing (log scale)')\n",
    "axs1[0].set_ylabel('Number of listings')\n",
    "axs1[0].set_title('Price distribution (UK clocks)')\n",
    "\n",
    "axs1[1].hist(np.log(P1+1), bins=25, edgecolor='black', color='coral')\n",
    "axs1[1].xaxis.set_major_formatter(mticker.FuncFormatter(lambda x, _: round(np.exp(x))-1))\n",
    "axs1[1].set_xlim(0,6.5)\n",
    "axs1[1].set_xlabel('Price of sold listing (log scale)')\n",
    "axs1[1].set_ylabel('Number of listings')\n",
    "axs1[1].set_title('Price distribution (UK books)')\n",
    "\n",
    "axs2[0].hist(np.log(P2+1), bins=25, edgecolor='black', color='coral')\n",
    "axs2[0].xaxis.set_major_formatter(mticker.FuncFormatter(lambda x, _: round(np.exp(x))-1))\n",
    "axs2[0].set_xlim(0,6.5)\n",
    "axs2[0].set_xlabel('Price of sold listing (log scale)')\n",
    "axs2[0].set_ylabel('Number of listings')\n",
    "axs2[0].set_title('Price distribution (US clocks)')\n",
    "\n",
    "axs2[1].hist(np.log(P3+1), bins=25, edgecolor='black', color='coral')\n",
    "axs2[1].xaxis.set_major_formatter(mticker.FuncFormatter(lambda x, _: round(np.exp(x))-1))\n",
    "axs2[1].set_xlim(0,6.5)\n",
    "axs2[1].set_xlabel('Price of sold listing (log scale)')\n",
    "axs2[1].set_ylabel('Number of listings')\n",
    "axs2[1].set_title('Price distribution (US books)')\n",
    "\n",
    "plt.tight_layout()\n",
    "fig.savefig('price.png', dpi=fig.dpi, bbox_inches='tight')\n",
    "plt.close(fig)"
   ]
  },
  {
   "cell_type": "code",
   "execution_count": 135,
   "metadata": {},
   "outputs": [
    {
     "data": {
      "text/html": [
       "<div>\n",
       "<style scoped>\n",
       "    .dataframe tbody tr th:only-of-type {\n",
       "        vertical-align: middle;\n",
       "    }\n",
       "\n",
       "    .dataframe tbody tr th {\n",
       "        vertical-align: top;\n",
       "    }\n",
       "\n",
       "    .dataframe thead th {\n",
       "        text-align: right;\n",
       "    }\n",
       "</style>\n",
       "<table border=\"1\" class=\"dataframe\">\n",
       "  <thead>\n",
       "    <tr style=\"text-align: right;\">\n",
       "      <th></th>\n",
       "      <th>id</th>\n",
       "      <th>categoryId</th>\n",
       "      <th>shippingTime</th>\n",
       "      <th>returnsAccepted</th>\n",
       "      <th>conditionId</th>\n",
       "      <th>listingIsTopRated</th>\n",
       "      <th>sellerFeedbackScore</th>\n",
       "      <th>sellerPositivePercent</th>\n",
       "      <th>sellerIsTopRated</th>\n",
       "      <th>bids</th>\n",
       "    </tr>\n",
       "  </thead>\n",
       "  <tbody>\n",
       "    <tr>\n",
       "      <th>count</th>\n",
       "      <td>2.888000e+03</td>\n",
       "      <td>2888.000000</td>\n",
       "      <td>2888.0</td>\n",
       "      <td>2888.0</td>\n",
       "      <td>2888.000000</td>\n",
       "      <td>2888.000000</td>\n",
       "      <td>2888.000000</td>\n",
       "      <td>2888.000000</td>\n",
       "      <td>2888.000000</td>\n",
       "      <td>2888.000000</td>\n",
       "    </tr>\n",
       "    <tr>\n",
       "      <th>mean</th>\n",
       "      <td>2.464134e+11</td>\n",
       "      <td>112733.061288</td>\n",
       "      <td>-1.0</td>\n",
       "      <td>-1.0</td>\n",
       "      <td>2495.018352</td>\n",
       "      <td>0.036704</td>\n",
       "      <td>3066.761080</td>\n",
       "      <td>98.444252</td>\n",
       "      <td>0.036704</td>\n",
       "      <td>0.760734</td>\n",
       "    </tr>\n",
       "    <tr>\n",
       "      <th>std</th>\n",
       "      <td>8.121412e+10</td>\n",
       "      <td>113193.449713</td>\n",
       "      <td>0.0</td>\n",
       "      <td>0.0</td>\n",
       "      <td>1440.834771</td>\n",
       "      <td>0.188066</td>\n",
       "      <td>18552.584533</td>\n",
       "      <td>9.407591</td>\n",
       "      <td>0.188066</td>\n",
       "      <td>2.939858</td>\n",
       "    </tr>\n",
       "    <tr>\n",
       "      <th>min</th>\n",
       "      <td>1.155823e+11</td>\n",
       "      <td>12.000000</td>\n",
       "      <td>-1.0</td>\n",
       "      <td>-1.0</td>\n",
       "      <td>-1.000000</td>\n",
       "      <td>0.000000</td>\n",
       "      <td>0.000000</td>\n",
       "      <td>0.000000</td>\n",
       "      <td>0.000000</td>\n",
       "      <td>0.000000</td>\n",
       "    </tr>\n",
       "    <tr>\n",
       "      <th>25%</th>\n",
       "      <td>1.754794e+11</td>\n",
       "      <td>20561.000000</td>\n",
       "      <td>-1.0</td>\n",
       "      <td>-1.0</td>\n",
       "      <td>1000.000000</td>\n",
       "      <td>0.000000</td>\n",
       "      <td>316.000000</td>\n",
       "      <td>99.500000</td>\n",
       "      <td>0.000000</td>\n",
       "      <td>0.000000</td>\n",
       "    </tr>\n",
       "    <tr>\n",
       "      <th>50%</th>\n",
       "      <td>2.558023e+11</td>\n",
       "      <td>20561.000000</td>\n",
       "      <td>-1.0</td>\n",
       "      <td>-1.0</td>\n",
       "      <td>3000.000000</td>\n",
       "      <td>0.000000</td>\n",
       "      <td>754.000000</td>\n",
       "      <td>100.000000</td>\n",
       "      <td>0.000000</td>\n",
       "      <td>0.000000</td>\n",
       "    </tr>\n",
       "    <tr>\n",
       "      <th>75%</th>\n",
       "      <td>3.142067e+11</td>\n",
       "      <td>261608.000000</td>\n",
       "      <td>-1.0</td>\n",
       "      <td>-1.0</td>\n",
       "      <td>3000.000000</td>\n",
       "      <td>0.000000</td>\n",
       "      <td>1634.250000</td>\n",
       "      <td>100.000000</td>\n",
       "      <td>0.000000</td>\n",
       "      <td>0.000000</td>\n",
       "    </tr>\n",
       "    <tr>\n",
       "      <th>max</th>\n",
       "      <td>4.039804e+11</td>\n",
       "      <td>262408.000000</td>\n",
       "      <td>-1.0</td>\n",
       "      <td>-1.0</td>\n",
       "      <td>7000.000000</td>\n",
       "      <td>1.000000</td>\n",
       "      <td>470260.000000</td>\n",
       "      <td>100.000000</td>\n",
       "      <td>1.000000</td>\n",
       "      <td>39.000000</td>\n",
       "    </tr>\n",
       "  </tbody>\n",
       "</table>\n",
       "</div>"
      ],
      "text/plain": [
       "                 id     categoryId  shippingTime  returnsAccepted  \\\n",
       "count  2.888000e+03    2888.000000        2888.0           2888.0   \n",
       "mean   2.464134e+11  112733.061288          -1.0             -1.0   \n",
       "std    8.121412e+10  113193.449713           0.0              0.0   \n",
       "min    1.155823e+11      12.000000          -1.0             -1.0   \n",
       "25%    1.754794e+11   20561.000000          -1.0             -1.0   \n",
       "50%    2.558023e+11   20561.000000          -1.0             -1.0   \n",
       "75%    3.142067e+11  261608.000000          -1.0             -1.0   \n",
       "max    4.039804e+11  262408.000000          -1.0             -1.0   \n",
       "\n",
       "       conditionId  listingIsTopRated  sellerFeedbackScore  \\\n",
       "count  2888.000000        2888.000000          2888.000000   \n",
       "mean   2495.018352           0.036704          3066.761080   \n",
       "std    1440.834771           0.188066         18552.584533   \n",
       "min      -1.000000           0.000000             0.000000   \n",
       "25%    1000.000000           0.000000           316.000000   \n",
       "50%    3000.000000           0.000000           754.000000   \n",
       "75%    3000.000000           0.000000          1634.250000   \n",
       "max    7000.000000           1.000000        470260.000000   \n",
       "\n",
       "       sellerPositivePercent  sellerIsTopRated         bids  \n",
       "count            2888.000000       2888.000000  2888.000000  \n",
       "mean               98.444252          0.036704     0.760734  \n",
       "std                 9.407591          0.188066     2.939858  \n",
       "min                 0.000000          0.000000     0.000000  \n",
       "25%                99.500000          0.000000     0.000000  \n",
       "50%               100.000000          0.000000     0.000000  \n",
       "75%               100.000000          0.000000     0.000000  \n",
       "max               100.000000          1.000000    39.000000  "
      ]
     },
     "execution_count": 135,
     "metadata": {},
     "output_type": "execute_result"
    }
   ],
   "source": [
    "uk_clocks.describe()"
   ]
  },
  {
   "cell_type": "code",
   "execution_count": 137,
   "metadata": {},
   "outputs": [
    {
     "data": {
      "text/plain": [
       "0.8469529085872576"
      ]
     },
     "execution_count": 137,
     "metadata": {},
     "output_type": "execute_result"
    }
   ],
   "source": [
    "len(uk_clocks[uk_clocks.bids == 0])/len(uk_clocks)"
   ]
  },
  {
   "cell_type": "code",
   "execution_count": 140,
   "metadata": {},
   "outputs": [
    {
     "data": {
      "text/plain": [
       "0.8673163418290855"
      ]
     },
     "execution_count": 140,
     "metadata": {},
     "output_type": "execute_result"
    }
   ],
   "source": [
    "len(uk_books[uk_books.bids == 0])/len(uk_books)"
   ]
  },
  {
   "cell_type": "code",
   "execution_count": 139,
   "metadata": {},
   "outputs": [
    {
     "data": {
      "text/plain": [
       "0.8153787590407309"
      ]
     },
     "execution_count": 139,
     "metadata": {},
     "output_type": "execute_result"
    }
   ],
   "source": [
    "len(us_clocks[us_clocks.bids == 0])/len(us_clocks)"
   ]
  },
  {
   "cell_type": "code",
   "execution_count": 138,
   "metadata": {},
   "outputs": [
    {
     "data": {
      "text/plain": [
       "0.880690737833595"
      ]
     },
     "execution_count": 138,
     "metadata": {},
     "output_type": "execute_result"
    }
   ],
   "source": [
    "len(us_books[us_books.bids == 0])/len(us_books)"
   ]
  }
 ],
 "metadata": {
  "kernelspec": {
   "display_name": "Python 3",
   "language": "python",
   "name": "python3"
  },
  "language_info": {
   "codemirror_mode": {
    "name": "ipython",
    "version": 3
   },
   "file_extension": ".py",
   "mimetype": "text/x-python",
   "name": "python",
   "nbconvert_exporter": "python",
   "pygments_lexer": "ipython3",
   "version": "3.8.5"
  }
 },
 "nbformat": 4,
 "nbformat_minor": 4
}
