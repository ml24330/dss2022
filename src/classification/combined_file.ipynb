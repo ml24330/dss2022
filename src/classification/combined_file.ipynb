{
 "cells": [
  {
   "cell_type": "code",
   "execution_count": 1,
   "id": "cf75a25d",
   "metadata": {},
   "outputs": [],
   "source": [
    "from sklearn.model_selection import train_test_split\n",
    "from sklearn.neighbors import KNeighborsClassifier\n",
    "from sklearn.linear_model import LinearRegression\n",
    "from sklearn.metrics import mean_squared_error\n",
    "\n",
    "from math import sqrt\n",
    "\n",
    "import pandas as pd\n",
    "import numpy as np\n",
    "import matplotlib.pyplot as plt"
   ]
  },
  {
   "cell_type": "code",
   "execution_count": 2,
   "id": "2b60dae5",
   "metadata": {},
   "outputs": [],
   "source": [
    "df_us = pd.read_csv('./us_clocks.csv')\n",
    "df_uk = pd.read_csv('./uk_clocks.csv')\n",
    "\n",
    "names = ['listingIsTopRated', 'sellerFeedbackScore', 'sellerPositivePercent', 'sellerIsTopRated', 'endAtWeekend', 'endAtEvening', 'length', 'isBroken', 'isUsed', 'isLarge', 'freeShipping']\n",
    "\n",
    "X_us = df_us[names]\n",
    "y_us = df_us['price']                      \n",
    "\n",
    "X_us_train, X_us_test, y_us_train, y_us_test = train_test_split(df_us[names], df_us['price'], test_size=0.3)\n",
    "\n",
    "X_uk = df_uk[names]\n",
    "y_uk = df_uk['price']     \n",
    "\n",
    "X_uk_train, X_uk_test, y_uk_train, y_uk_test = train_test_split(df_uk[names], df_uk['price'], test_size=0.3)"
   ]
  },
  {
   "cell_type": "code",
   "execution_count": 3,
   "id": "05516b0e",
   "metadata": {},
   "outputs": [
    {
     "ename": "NameError",
     "evalue": "name 'KNeighborsRegressor' is not defined",
     "output_type": "error",
     "traceback": [
      "\u001b[1;31m---------------------------------------------------------------------------\u001b[0m",
      "\u001b[1;31mNameError\u001b[0m                                 Traceback (most recent call last)",
      "Input \u001b[1;32mIn [3]\u001b[0m, in \u001b[0;36m<cell line: 1>\u001b[1;34m()\u001b[0m\n\u001b[1;32m----> 1\u001b[0m neigh \u001b[38;5;241m=\u001b[39m \u001b[43mKNeighborsRegressor\u001b[49m(n_neighbors\u001b[38;5;241m=\u001b[39m\u001b[38;5;241m5\u001b[39m)\n\u001b[0;32m      2\u001b[0m neigh\u001b[38;5;241m.\u001b[39mfit(X_us_train, y_us_train)\n\u001b[0;32m      3\u001b[0m y_us_preds \u001b[38;5;241m=\u001b[39m neigh\u001b[38;5;241m.\u001b[39mpredict(X_us_test)\n",
      "\u001b[1;31mNameError\u001b[0m: name 'KNeighborsRegressor' is not defined"
     ]
    }
   ],
   "source": [
    "neigh = KNeighborsRegressor(n_neighbors=5)\n",
    "neigh.fit(X_us_train, y_us_train)\n",
    "y_us_preds = neigh.predict(X_us_test)"
   ]
  },
  {
   "cell_type": "code",
   "execution_count": null,
   "id": "bc538765",
   "metadata": {},
   "outputs": [],
   "source": [
    "neigh = KNeighborsRegressor(n_neighbors=5)\n",
    "neigh.fit(X_uk_train, y_uk_train)\n",
    "y_uk_preds = neigh.predict(X_uk_test)"
   ]
  },
  {
   "cell_type": "code",
   "execution_count": null,
   "id": "04a5e0c9",
   "metadata": {},
   "outputs": [],
   "source": [
    "reg = LinearRegression()\n",
    "reg.fit(X_us_train, y_us_train)\n",
    "y_preds = reg.predict(X_us_test)"
   ]
  },
  {
   "cell_type": "code",
   "execution_count": null,
   "id": "0d349910",
   "metadata": {},
   "outputs": [],
   "source": [
    "reg = LinearRegression()\n",
    "reg.fit(X_uk_train, y_uk_train)\n",
    "y_uk_preds = reg.predict(X_uk_test)"
   ]
  }
 ],
 "metadata": {
  "kernelspec": {
   "display_name": "Python 3 (ipykernel)",
   "language": "python",
   "name": "python3"
  },
  "language_info": {
   "codemirror_mode": {
    "name": "ipython",
    "version": 3
   },
   "file_extension": ".py",
   "mimetype": "text/x-python",
   "name": "python",
   "nbconvert_exporter": "python",
   "pygments_lexer": "ipython3",
   "version": "3.9.12"
  }
 },
 "nbformat": 4,
 "nbformat_minor": 5
}
