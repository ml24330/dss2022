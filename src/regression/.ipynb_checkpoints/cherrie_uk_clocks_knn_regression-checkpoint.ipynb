{
 "cells": [
  {
   "cell_type": "code",
   "execution_count": 1,
   "id": "219984c0",
   "metadata": {},
   "outputs": [],
   "source": [
    "from sklearn.model_selection import train_test_split\n",
    "from sklearn.neighbors import KNeighborsClassifier\n",
    "from sklearn.neighbors import KNeighborsRegressor\n",
    "from sklearn.metrics import mean_squared_error\n",
    "from math import sqrt\n",
    "\n",
    "import pandas as pd\n",
    "import numpy as np\n",
    "import matplotlib.pyplot as plt"
   ]
  },
  {
   "cell_type": "code",
   "execution_count": 2,
   "id": "d5e31ee0",
   "metadata": {},
   "outputs": [],
   "source": [
    "df = pd.read_csv('./uk_clocks.csv')\n",
    "\n",
    "names = ['id',\n",
    " 'listingIsTopRated',\n",
    " 'sellerFeedbackScore',\n",
    " 'sellerPositivePercent',\n",
    " 'sellerIsTopRated',\n",
    " 'endAtWeekend',\n",
    " 'endAtEvening',\n",
    " 'length',\n",
    " 'isBroken',\n",
    " 'isUsed',\n",
    " 'freeShipping']\n",
    "\n",
    "X = df[names]\n",
    "y = df['price']                      \n",
    "\n",
    "X_train, X_test, y_train, y_test = train_test_split(df[names], df['price'], test_size=0.3)"
   ]
  },
  {
   "cell_type": "code",
   "execution_count": 3,
   "id": "5ab483d6",
   "metadata": {},
   "outputs": [],
   "source": [
    "neigh = KNeighborsRegressor(n_neighbors=5)\n",
    "neigh.fit(X_train, y_train)\n",
    "y_preds = neigh.predict(X_test)"
   ]
  },
  {
   "cell_type": "code",
   "execution_count": 4,
   "id": "e2373b50",
   "metadata": {},
   "outputs": [
    {
     "data": {
      "text/plain": [
       "'Mean Squared Error: 5913.638991294579'"
      ]
     },
     "execution_count": 4,
     "metadata": {},
     "output_type": "execute_result"
    }
   ],
   "source": [
    "mse = mean_squared_error(y_test, y_preds)\n",
    "f'Mean Squared Error: {mse}'"
   ]
  },
  {
   "cell_type": "code",
   "execution_count": 5,
   "id": "840e4eab",
   "metadata": {},
   "outputs": [
    {
     "data": {
      "text/plain": [
       "'Root Mean Squared Error: 76.90018849973373'"
      ]
     },
     "execution_count": 5,
     "metadata": {},
     "output_type": "execute_result"
    }
   ],
   "source": [
    "rmse = sqrt(mse)\n",
    "f'Root Mean Squared Error: {rmse}'"
   ]
  },
  {
   "cell_type": "code",
   "execution_count": null,
   "id": "cb6b0c4b",
   "metadata": {},
   "outputs": [],
   "source": []
  }
 ],
 "metadata": {
  "kernelspec": {
   "display_name": "Python 3 (ipykernel)",
   "language": "python",
   "name": "python3"
  },
  "language_info": {
   "codemirror_mode": {
    "name": "ipython",
    "version": 3
   },
   "file_extension": ".py",
   "mimetype": "text/x-python",
   "name": "python",
   "nbconvert_exporter": "python",
   "pygments_lexer": "ipython3",
   "version": "3.9.12"
  }
 },
 "nbformat": 4,
 "nbformat_minor": 5
}
