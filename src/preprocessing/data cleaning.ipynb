{
 "cells": [
  {
   "cell_type": "code",
   "execution_count": 2,
   "metadata": {},
   "outputs": [],
   "source": [
    "import pandas as pd\n",
    "from db_utils import Query, QueryAll, QueryAllFinished, UpdateItem\n",
    "\n",
    "pd.options.mode.chained_assignment = None\n",
    "\n",
    "def convert_currency(original):\n",
    "    EUR_TO_GBP = 0.87\n",
    "    USD_TO_GBP = 0.84\n",
    "    AUD_TO_GBP = 0.56\n",
    "    CAD_TO_GBP = 0.63\n",
    "    original = original.replace(',','')\n",
    "    if original.startswith('£'):\n",
    "        return float(original[1:])\n",
    "    elif original.startswith('EUR'):\n",
    "        return float(original[4:])*EUR_TO_GBP\n",
    "    elif original.startswith('US'):\n",
    "        return float(original[4:])*USD_TO_GBP\n",
    "    elif original.startswith('AU'):\n",
    "        return float(original[4:])*AUD_TO_GBP\n",
    "    elif original.startswith('C'):\n",
    "        return float(original[3:])*CAD_TO_GBP\n",
    "    \n",
    "WEEKENDS = ['2022-10-01', '2022-10-02', '2022-10-07', '2022-10-08', '2022-10-09', '2022-10-14', \n",
    "            '2022-10-15', '2022-10-16', '2022-10-21', '2022-10-22', '2022-10-23', '2022-10-28', \n",
    "            '2022-10-29', '2022-10-30', '2022-11-04', '2022-11-05', '2022-11-06', '2022-11-11', \n",
    "            '2022-11-12', '2022-11-13', '2022-11-18', '2022-11-19', '2022-11-20','2022-11-25',\n",
    "            '2022-11-26','2022-11-27']\n",
    "\n",
    "USED = [3000, 6000, 2500, 5000, 2750]\n",
    "NEW = ['1000', '1500']\n",
    "BROKEN = [7000]\n",
    "\n",
    "cols = [\"id\", \"title\", \"globalId\", \"categoryId\", \"categoryName\", \"url\", \"location\", \"shippingType\", \"shippingLocations\",\n",
    "                \"shippingTime\", \"startTime\", \"endTime\", \"returnsAccepted\", \"conditionId\", \"listingIsTopRated\", \n",
    "               \"sellerFeedbackScore\", \"sellerPositivePercent\", \"sellerName\", \"sellerIsTopRated\", \"price\", \"currency\", \"bids\"]"
   ]
  },
  {
   "cell_type": "markdown",
   "metadata": {},
   "source": [
    "## UK Clocks"
   ]
  },
  {
   "cell_type": "code",
   "execution_count": 3,
   "metadata": {},
   "outputs": [],
   "source": [
    "uk_clocks = pd.DataFrame(QueryAll(\"clock_uk\"), columns=cols)"
   ]
  },
  {
   "cell_type": "code",
   "execution_count": 4,
   "metadata": {},
   "outputs": [],
   "source": [
    "uk_clocks = uk_clocks.drop(['currency', 'returnsAccepted','shippingTime'], axis=1)\n",
    "#since all the values in these three colums are negative one, delete all three columns"
   ]
  },
  {
   "cell_type": "code",
   "execution_count": 5,
   "metadata": {},
   "outputs": [],
   "source": [
    "uk_clocks = uk_clocks.drop(uk_clocks[uk_clocks['bids'] == -1].index, axis=0)\n",
    "uk_clocks = uk_clocks.drop(uk_clocks[uk_clocks['bids'] == -2].index, axis=0)"
   ]
  },
  {
   "cell_type": "code",
   "execution_count": 6,
   "metadata": {},
   "outputs": [],
   "source": [
    "uk_clocks['price'] = uk_clocks['price'].apply(convert_currency)"
   ]
  },
  {
   "cell_type": "code",
   "execution_count": 7,
   "metadata": {},
   "outputs": [],
   "source": [
    "zscore = (uk_clocks.price - uk_clocks.price.mean() ) / uk_clocks.price.std()\n",
    "uk_clocks = uk_clocks[zscore < 2.5]"
   ]
  },
  {
   "cell_type": "code",
   "execution_count": 8,
   "metadata": {},
   "outputs": [],
   "source": [
    "uk_clocks['endAtWeekend'] = uk_clocks[\"endTime\"].str.slice(0, 10).isin(WEEKENDS).astype(int)"
   ]
  },
  {
   "cell_type": "code",
   "execution_count": 9,
   "metadata": {},
   "outputs": [],
   "source": [
    "uk_clocks['endAtEvening'] = uk_clocks[\"endTime\"].str.slice(11, 13).astype(int).gt(16).astype(int)"
   ]
  },
  {
   "cell_type": "code",
   "execution_count": 10,
   "metadata": {
    "scrolled": true
   },
   "outputs": [],
   "source": [
    "uk_clocks['length'] = (pd.to_datetime(uk_clocks['endTime'])-pd.to_datetime(uk_clocks['startTime'])).dt.days"
   ]
  },
  {
   "cell_type": "code",
   "execution_count": 11,
   "metadata": {},
   "outputs": [],
   "source": [
    "uk_clocks['isBroken'] = uk_clocks['conditionId'].isin(BROKEN).astype(int)\n",
    "uk_clocks['isUsed'] = uk_clocks['conditionId'].isin(USED).astype(int)"
   ]
  },
  {
   "cell_type": "code",
   "execution_count": 12,
   "metadata": {},
   "outputs": [],
   "source": [
    "uk_clocks['isLarge'] = uk_clocks['title'].str.lower().str.contains('large').astype(int)"
   ]
  },
  {
   "cell_type": "code",
   "execution_count": 13,
   "metadata": {},
   "outputs": [],
   "source": [
    "uk_clocks['freeShipping'] = (uk_clocks['shippingType'] == 'Free').astype(int)"
   ]
  },
  {
   "cell_type": "code",
   "execution_count": 14,
   "metadata": {},
   "outputs": [],
   "source": [
    "uk_clocks['isSold'] = (uk_clocks['bids'] > 0).astype(int)"
   ]
  },
  {
   "cell_type": "code",
   "execution_count": 15,
   "metadata": {},
   "outputs": [],
   "source": [
    "uk_clocks = uk_clocks.drop(['title', 'url', 'globalId', 'categoryId', 'categoryName', 'location', 'shippingType',\n",
    "                     'shippingLocations', 'startTime', 'endTime', 'conditionId', 'sellerName', 'bids'], axis=1)"
   ]
  },
  {
   "cell_type": "code",
   "execution_count": 16,
   "metadata": {},
   "outputs": [],
   "source": [
    "uk_clocks = uk_clocks.reset_index(drop=True)\n",
    "uk_clocks.to_csv('uk_clocks.csv', index=False)"
   ]
  },
  {
   "cell_type": "markdown",
   "metadata": {},
   "source": [
    "## US Clocks"
   ]
  },
  {
   "cell_type": "code",
   "execution_count": 17,
   "metadata": {},
   "outputs": [],
   "source": [
    "us_clocks = pd.DataFrame(QueryAll(\"clock_us\"), columns=cols)"
   ]
  },
  {
   "cell_type": "code",
   "execution_count": 18,
   "metadata": {},
   "outputs": [],
   "source": [
    "us_clocks = us_clocks.drop(['currency', 'returnsAccepted','shippingTime'], axis=1)\n",
    "#since all the values in these three colums are negative one, delete all three columns"
   ]
  },
  {
   "cell_type": "code",
   "execution_count": 19,
   "metadata": {},
   "outputs": [],
   "source": [
    "us_clocks = us_clocks.drop(us_clocks[us_clocks['bids'] == -1].index, axis=0)\n",
    "us_clocks = us_clocks.drop(us_clocks[us_clocks['bids'] == -2].index, axis=0)"
   ]
  },
  {
   "cell_type": "code",
   "execution_count": 20,
   "metadata": {},
   "outputs": [],
   "source": [
    "us_clocks['price'] = us_clocks['price'].apply(convert_currency)"
   ]
  },
  {
   "cell_type": "code",
   "execution_count": 21,
   "metadata": {},
   "outputs": [],
   "source": [
    "zscore = (us_clocks.price - us_clocks.price.mean() ) / us_clocks.price.std()\n",
    "us_clocks = us_clocks[zscore < 2.5]"
   ]
  },
  {
   "cell_type": "code",
   "execution_count": 22,
   "metadata": {},
   "outputs": [],
   "source": [
    "us_clocks['endAtWeekend'] = us_clocks[\"endTime\"].str.slice(0, 10).isin(WEEKENDS).astype(int)"
   ]
  },
  {
   "cell_type": "code",
   "execution_count": 23,
   "metadata": {},
   "outputs": [],
   "source": [
    "us_clocks['endAtEvening'] = us_clocks[\"endTime\"].str.slice(11, 13).astype(int).lt(8).astype(int)"
   ]
  },
  {
   "cell_type": "code",
   "execution_count": 24,
   "metadata": {},
   "outputs": [],
   "source": [
    "us_clocks['length'] = (pd.to_datetime(us_clocks['endTime'])-pd.to_datetime(us_clocks['startTime'])).dt.days"
   ]
  },
  {
   "cell_type": "code",
   "execution_count": 25,
   "metadata": {},
   "outputs": [],
   "source": [
    "us_clocks['isBroken'] = us_clocks['conditionId'].isin(BROKEN).astype(int)\n",
    "us_clocks['isUsed'] = us_clocks['conditionId'].isin(USED).astype(int)"
   ]
  },
  {
   "cell_type": "code",
   "execution_count": 26,
   "metadata": {},
   "outputs": [],
   "source": [
    "us_clocks['isLarge'] = us_clocks['title'].str.lower().str.contains('large').astype(int)"
   ]
  },
  {
   "cell_type": "code",
   "execution_count": 27,
   "metadata": {},
   "outputs": [],
   "source": [
    "us_clocks['freeShipping'] = (us_clocks['shippingType'] == 'Free').astype(int)"
   ]
  },
  {
   "cell_type": "code",
   "execution_count": 28,
   "metadata": {},
   "outputs": [],
   "source": [
    "us_clocks['isSold'] = (us_clocks['bids'] > 0).astype(int)"
   ]
  },
  {
   "cell_type": "code",
   "execution_count": 29,
   "metadata": {},
   "outputs": [],
   "source": [
    "us_clocks = us_clocks.drop(['title', 'url', 'globalId', 'categoryId', 'categoryName', 'location', 'shippingType',\n",
    "                     'shippingLocations', 'startTime', 'endTime', 'conditionId', 'sellerName', 'bids'], axis=1)"
   ]
  },
  {
   "cell_type": "code",
   "execution_count": 30,
   "metadata": {},
   "outputs": [],
   "source": [
    "us_clocks = us_clocks.reset_index(drop=True)\n",
    "us_clocks.to_csv('us_clocks.csv', index=False)"
   ]
  },
  {
   "cell_type": "markdown",
   "metadata": {},
   "source": [
    "## UK Books"
   ]
  },
  {
   "cell_type": "code",
   "execution_count": 31,
   "metadata": {},
   "outputs": [],
   "source": [
    "uk_books = pd.DataFrame(QueryAll(\"book_uk\"), columns=cols)"
   ]
  },
  {
   "cell_type": "code",
   "execution_count": 32,
   "metadata": {},
   "outputs": [],
   "source": [
    "uk_books = uk_books.drop(['currency', 'returnsAccepted','shippingTime'], axis=1)\n",
    "#since all the values in these three colums are negative one, delete all three columns"
   ]
  },
  {
   "cell_type": "code",
   "execution_count": 33,
   "metadata": {},
   "outputs": [],
   "source": [
    "uk_books = uk_books.drop(uk_books[uk_books['bids'] == -1].index, axis=0)\n",
    "uk_books = uk_books.drop(uk_books[uk_books['bids'] == -2].index, axis=0)"
   ]
  },
  {
   "cell_type": "code",
   "execution_count": 34,
   "metadata": {},
   "outputs": [],
   "source": [
    "uk_books['price'] = uk_books['price'].apply(convert_currency)"
   ]
  },
  {
   "cell_type": "code",
   "execution_count": 35,
   "metadata": {},
   "outputs": [],
   "source": [
    "zscore = (uk_books.price - uk_books.price.mean() ) / uk_books.price.std()\n",
    "uk_books = uk_books[zscore < 2.5]"
   ]
  },
  {
   "cell_type": "code",
   "execution_count": 36,
   "metadata": {},
   "outputs": [],
   "source": [
    "uk_books['endAtWeekend'] = uk_books[\"endTime\"].str.slice(0, 10).isin(WEEKENDS).astype(int)"
   ]
  },
  {
   "cell_type": "code",
   "execution_count": 37,
   "metadata": {},
   "outputs": [],
   "source": [
    "uk_books['endAtEvening'] = uk_books[\"endTime\"].str.slice(11, 13).astype(int).gt(16).astype(int)"
   ]
  },
  {
   "cell_type": "code",
   "execution_count": 38,
   "metadata": {},
   "outputs": [],
   "source": [
    "uk_books['length'] = (pd.to_datetime(uk_books['endTime'])-pd.to_datetime(uk_books['startTime'])).dt.days"
   ]
  },
  {
   "cell_type": "code",
   "execution_count": 39,
   "metadata": {},
   "outputs": [],
   "source": [
    "uk_books['isBroken'] = uk_books['conditionId'].isin(BROKEN).astype(int)\n",
    "uk_books['isUsed'] = uk_books['conditionId'].isin(USED).astype(int)"
   ]
  },
  {
   "cell_type": "code",
   "execution_count": 40,
   "metadata": {},
   "outputs": [],
   "source": [
    "uk_books['isSet'] = uk_books['title'].str.lower().str.contains('set').astype(int)"
   ]
  },
  {
   "cell_type": "code",
   "execution_count": 41,
   "metadata": {},
   "outputs": [],
   "source": [
    "uk_books['freeShipping'] = (uk_books['shippingType'] == 'Free').astype(int)"
   ]
  },
  {
   "cell_type": "code",
   "execution_count": 42,
   "metadata": {},
   "outputs": [],
   "source": [
    "uk_books['isSold'] = (uk_books['bids'] > 0).astype(int)"
   ]
  },
  {
   "cell_type": "code",
   "execution_count": 43,
   "metadata": {},
   "outputs": [],
   "source": [
    "uk_books = uk_books.drop(['title', 'url', 'globalId', 'categoryId', 'categoryName', 'location', 'shippingType',\n",
    "                     'shippingLocations', 'startTime', 'endTime', 'conditionId', 'sellerName', 'bids'], axis=1)"
   ]
  },
  {
   "cell_type": "code",
   "execution_count": 44,
   "metadata": {},
   "outputs": [],
   "source": [
    "uk_books = uk_books.reset_index(drop=True)\n",
    "uk_books.to_csv('uk_books.csv', index=False)"
   ]
  },
  {
   "cell_type": "markdown",
   "metadata": {},
   "source": [
    "## US Books"
   ]
  },
  {
   "cell_type": "code",
   "execution_count": 45,
   "metadata": {},
   "outputs": [],
   "source": [
    "us_books = pd.DataFrame(QueryAll(\"book_us\"), columns=cols)"
   ]
  },
  {
   "cell_type": "code",
   "execution_count": 46,
   "metadata": {},
   "outputs": [],
   "source": [
    "us_books = us_books.drop(['currency', 'returnsAccepted','shippingTime'], axis=1)\n",
    "#since all the values in these three colums are negative one, delete all three columns"
   ]
  },
  {
   "cell_type": "code",
   "execution_count": 47,
   "metadata": {},
   "outputs": [],
   "source": [
    "us_books = us_books.drop(us_books[us_books['bids'] == -1].index, axis=0)\n",
    "us_books = us_books.drop(us_books[us_books['bids'] == -2].index, axis=0)"
   ]
  },
  {
   "cell_type": "code",
   "execution_count": 48,
   "metadata": {},
   "outputs": [],
   "source": [
    "us_books['price'] = us_books['price'].apply(convert_currency)"
   ]
  },
  {
   "cell_type": "code",
   "execution_count": 49,
   "metadata": {},
   "outputs": [],
   "source": [
    "zscore = (us_books.price - us_books.price.mean() ) / us_books.price.std()\n",
    "us_books = us_books[zscore < 2.5]"
   ]
  },
  {
   "cell_type": "code",
   "execution_count": 50,
   "metadata": {},
   "outputs": [],
   "source": [
    "us_books['endAtWeekend'] = us_books[\"endTime\"].str.slice(0, 10).isin(WEEKENDS).astype(int)"
   ]
  },
  {
   "cell_type": "code",
   "execution_count": 51,
   "metadata": {},
   "outputs": [],
   "source": [
    "us_books['endAtEvening'] = us_books[\"endTime\"].str.slice(11, 13).astype(int).lt(8).astype(int)"
   ]
  },
  {
   "cell_type": "code",
   "execution_count": 52,
   "metadata": {},
   "outputs": [],
   "source": [
    "us_books['length'] = (pd.to_datetime(us_books['endTime'])-pd.to_datetime(us_books['startTime'])).dt.days"
   ]
  },
  {
   "cell_type": "code",
   "execution_count": 53,
   "metadata": {},
   "outputs": [],
   "source": [
    "us_books['isBroken'] = us_books['conditionId'].isin(BROKEN).astype(int)\n",
    "us_books['isUsed'] = us_books['conditionId'].isin(USED).astype(int)"
   ]
  },
  {
   "cell_type": "code",
   "execution_count": 54,
   "metadata": {},
   "outputs": [],
   "source": [
    "us_books['isSet'] = us_books['title'].str.lower().str.contains('set').astype(int)"
   ]
  },
  {
   "cell_type": "code",
   "execution_count": 55,
   "metadata": {},
   "outputs": [],
   "source": [
    "us_books['freeShipping'] = (us_books['shippingType'] == 'Free').astype(int)"
   ]
  },
  {
   "cell_type": "code",
   "execution_count": 56,
   "metadata": {},
   "outputs": [],
   "source": [
    "us_books['isSold'] = (us_books['bids'] > 0).astype(int)"
   ]
  },
  {
   "cell_type": "code",
   "execution_count": 57,
   "metadata": {},
   "outputs": [],
   "source": [
    "us_books = us_books.drop(['title', 'url', 'globalId', 'categoryId', 'categoryName', 'location', 'shippingType',\n",
    "                     'shippingLocations', 'startTime', 'endTime', 'conditionId', 'sellerName', 'bids'], axis=1)"
   ]
  },
  {
   "cell_type": "code",
   "execution_count": 58,
   "metadata": {},
   "outputs": [],
   "source": [
    "us_books = us_books.reset_index(drop=True)\n",
    "us_books.to_csv('us_books.csv', index=False)"
   ]
  }
 ],
 "metadata": {
  "kernelspec": {
   "display_name": "Python 3",
   "language": "python",
   "name": "python3"
  },
  "language_info": {
   "codemirror_mode": {
    "name": "ipython",
    "version": 3
   },
   "file_extension": ".py",
   "mimetype": "text/x-python",
   "name": "python",
   "nbconvert_exporter": "python",
   "pygments_lexer": "ipython3",
   "version": "3.8.5"
  }
 },
 "nbformat": 4,
 "nbformat_minor": 4
}
