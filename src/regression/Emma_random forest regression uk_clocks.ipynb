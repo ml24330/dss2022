{
 "cells": [
  {
   "cell_type": "code",
   "execution_count": 16,
   "id": "5d4f4353",
   "metadata": {},
   "outputs": [],
   "source": [
    "import pandas as pd"
   ]
  },
  {
   "cell_type": "code",
   "execution_count": 17,
   "id": "45fc07ab",
   "metadata": {},
   "outputs": [],
   "source": [
    "data=pd.read_csv(\"uk_clocks.csv\")\n"
   ]
  },
  {
   "cell_type": "code",
   "execution_count": 18,
   "id": "10a7b93a",
   "metadata": {},
   "outputs": [
    {
     "data": {
      "text/html": [
       "<div>\n",
       "<style scoped>\n",
       "    .dataframe tbody tr th:only-of-type {\n",
       "        vertical-align: middle;\n",
       "    }\n",
       "\n",
       "    .dataframe tbody tr th {\n",
       "        vertical-align: top;\n",
       "    }\n",
       "\n",
       "    .dataframe thead th {\n",
       "        text-align: right;\n",
       "    }\n",
       "</style>\n",
       "<table border=\"1\" class=\"dataframe\">\n",
       "  <thead>\n",
       "    <tr style=\"text-align: right;\">\n",
       "      <th></th>\n",
       "      <th>id</th>\n",
       "      <th>listingIsTopRated</th>\n",
       "      <th>sellerFeedbackScore</th>\n",
       "      <th>sellerPositivePercent</th>\n",
       "      <th>sellerIsTopRated</th>\n",
       "      <th>price</th>\n",
       "      <th>endAtWeekend</th>\n",
       "      <th>endAtEvening</th>\n",
       "      <th>length</th>\n",
       "      <th>isBroken</th>\n",
       "      <th>isUsed</th>\n",
       "      <th>isLarge</th>\n",
       "      <th>freeShipping</th>\n",
       "      <th>isSold</th>\n",
       "    </tr>\n",
       "  </thead>\n",
       "  <tbody>\n",
       "    <tr>\n",
       "      <th>0</th>\n",
       "      <td>204143979657</td>\n",
       "      <td>0</td>\n",
       "      <td>1473</td>\n",
       "      <td>100.0</td>\n",
       "      <td>0</td>\n",
       "      <td>8.500</td>\n",
       "      <td>1</td>\n",
       "      <td>0</td>\n",
       "      <td>7</td>\n",
       "      <td>0</td>\n",
       "      <td>0</td>\n",
       "      <td>0</td>\n",
       "      <td>0</td>\n",
       "      <td>1</td>\n",
       "    </tr>\n",
       "    <tr>\n",
       "      <th>1</th>\n",
       "      <td>325413562414</td>\n",
       "      <td>0</td>\n",
       "      <td>1465</td>\n",
       "      <td>100.0</td>\n",
       "      <td>0</td>\n",
       "      <td>2.390</td>\n",
       "      <td>1</td>\n",
       "      <td>0</td>\n",
       "      <td>7</td>\n",
       "      <td>0</td>\n",
       "      <td>0</td>\n",
       "      <td>0</td>\n",
       "      <td>0</td>\n",
       "      <td>1</td>\n",
       "    </tr>\n",
       "    <tr>\n",
       "      <th>2</th>\n",
       "      <td>265963174354</td>\n",
       "      <td>0</td>\n",
       "      <td>1466</td>\n",
       "      <td>100.0</td>\n",
       "      <td>0</td>\n",
       "      <td>10.000</td>\n",
       "      <td>1</td>\n",
       "      <td>1</td>\n",
       "      <td>7</td>\n",
       "      <td>0</td>\n",
       "      <td>1</td>\n",
       "      <td>1</td>\n",
       "      <td>0</td>\n",
       "      <td>1</td>\n",
       "    </tr>\n",
       "    <tr>\n",
       "      <th>3</th>\n",
       "      <td>185638233876</td>\n",
       "      <td>0</td>\n",
       "      <td>232</td>\n",
       "      <td>100.0</td>\n",
       "      <td>0</td>\n",
       "      <td>3.200</td>\n",
       "      <td>1</td>\n",
       "      <td>1</td>\n",
       "      <td>7</td>\n",
       "      <td>0</td>\n",
       "      <td>1</td>\n",
       "      <td>0</td>\n",
       "      <td>0</td>\n",
       "      <td>1</td>\n",
       "    </tr>\n",
       "    <tr>\n",
       "      <th>4</th>\n",
       "      <td>204142979084</td>\n",
       "      <td>0</td>\n",
       "      <td>1509</td>\n",
       "      <td>100.0</td>\n",
       "      <td>0</td>\n",
       "      <td>3.000</td>\n",
       "      <td>1</td>\n",
       "      <td>0</td>\n",
       "      <td>7</td>\n",
       "      <td>0</td>\n",
       "      <td>0</td>\n",
       "      <td>0</td>\n",
       "      <td>0</td>\n",
       "      <td>1</td>\n",
       "    </tr>\n",
       "    <tr>\n",
       "      <th>...</th>\n",
       "      <td>...</td>\n",
       "      <td>...</td>\n",
       "      <td>...</td>\n",
       "      <td>...</td>\n",
       "      <td>...</td>\n",
       "      <td>...</td>\n",
       "      <td>...</td>\n",
       "      <td>...</td>\n",
       "      <td>...</td>\n",
       "      <td>...</td>\n",
       "      <td>...</td>\n",
       "      <td>...</td>\n",
       "      <td>...</td>\n",
       "      <td>...</td>\n",
       "    </tr>\n",
       "    <tr>\n",
       "      <th>435</th>\n",
       "      <td>295281986621</td>\n",
       "      <td>1</td>\n",
       "      <td>24893</td>\n",
       "      <td>100.0</td>\n",
       "      <td>1</td>\n",
       "      <td>25.000</td>\n",
       "      <td>1</td>\n",
       "      <td>1</td>\n",
       "      <td>7</td>\n",
       "      <td>0</td>\n",
       "      <td>0</td>\n",
       "      <td>0</td>\n",
       "      <td>0</td>\n",
       "      <td>1</td>\n",
       "    </tr>\n",
       "    <tr>\n",
       "      <th>436</th>\n",
       "      <td>165764075512</td>\n",
       "      <td>0</td>\n",
       "      <td>61</td>\n",
       "      <td>95.0</td>\n",
       "      <td>0</td>\n",
       "      <td>6.990</td>\n",
       "      <td>1</td>\n",
       "      <td>1</td>\n",
       "      <td>7</td>\n",
       "      <td>0</td>\n",
       "      <td>1</td>\n",
       "      <td>0</td>\n",
       "      <td>0</td>\n",
       "      <td>1</td>\n",
       "    </tr>\n",
       "    <tr>\n",
       "      <th>437</th>\n",
       "      <td>125599684567</td>\n",
       "      <td>0</td>\n",
       "      <td>1466</td>\n",
       "      <td>100.0</td>\n",
       "      <td>0</td>\n",
       "      <td>1.600</td>\n",
       "      <td>1</td>\n",
       "      <td>1</td>\n",
       "      <td>7</td>\n",
       "      <td>0</td>\n",
       "      <td>1</td>\n",
       "      <td>0</td>\n",
       "      <td>0</td>\n",
       "      <td>1</td>\n",
       "    </tr>\n",
       "    <tr>\n",
       "      <th>438</th>\n",
       "      <td>334616844608</td>\n",
       "      <td>0</td>\n",
       "      <td>531</td>\n",
       "      <td>100.0</td>\n",
       "      <td>0</td>\n",
       "      <td>42.580</td>\n",
       "      <td>1</td>\n",
       "      <td>1</td>\n",
       "      <td>7</td>\n",
       "      <td>1</td>\n",
       "      <td>0</td>\n",
       "      <td>0</td>\n",
       "      <td>1</td>\n",
       "      <td>1</td>\n",
       "    </tr>\n",
       "    <tr>\n",
       "      <th>439</th>\n",
       "      <td>255814096426</td>\n",
       "      <td>0</td>\n",
       "      <td>8528</td>\n",
       "      <td>98.9</td>\n",
       "      <td>0</td>\n",
       "      <td>41.325</td>\n",
       "      <td>1</td>\n",
       "      <td>1</td>\n",
       "      <td>5</td>\n",
       "      <td>1</td>\n",
       "      <td>0</td>\n",
       "      <td>0</td>\n",
       "      <td>0</td>\n",
       "      <td>1</td>\n",
       "    </tr>\n",
       "  </tbody>\n",
       "</table>\n",
       "<p>440 rows × 14 columns</p>\n",
       "</div>"
      ],
      "text/plain": [
       "               id  listingIsTopRated  sellerFeedbackScore  \\\n",
       "0    204143979657                  0                 1473   \n",
       "1    325413562414                  0                 1465   \n",
       "2    265963174354                  0                 1466   \n",
       "3    185638233876                  0                  232   \n",
       "4    204142979084                  0                 1509   \n",
       "..            ...                ...                  ...   \n",
       "435  295281986621                  1                24893   \n",
       "436  165764075512                  0                   61   \n",
       "437  125599684567                  0                 1466   \n",
       "438  334616844608                  0                  531   \n",
       "439  255814096426                  0                 8528   \n",
       "\n",
       "     sellerPositivePercent  sellerIsTopRated   price  endAtWeekend  \\\n",
       "0                    100.0                 0   8.500             1   \n",
       "1                    100.0                 0   2.390             1   \n",
       "2                    100.0                 0  10.000             1   \n",
       "3                    100.0                 0   3.200             1   \n",
       "4                    100.0                 0   3.000             1   \n",
       "..                     ...               ...     ...           ...   \n",
       "435                  100.0                 1  25.000             1   \n",
       "436                   95.0                 0   6.990             1   \n",
       "437                  100.0                 0   1.600             1   \n",
       "438                  100.0                 0  42.580             1   \n",
       "439                   98.9                 0  41.325             1   \n",
       "\n",
       "     endAtEvening  length  isBroken  isUsed  isLarge  freeShipping  isSold  \n",
       "0               0       7         0       0        0             0       1  \n",
       "1               0       7         0       0        0             0       1  \n",
       "2               1       7         0       1        1             0       1  \n",
       "3               1       7         0       1        0             0       1  \n",
       "4               0       7         0       0        0             0       1  \n",
       "..            ...     ...       ...     ...      ...           ...     ...  \n",
       "435             1       7         0       0        0             0       1  \n",
       "436             1       7         0       1        0             0       1  \n",
       "437             1       7         0       1        0             0       1  \n",
       "438             1       7         1       0        0             1       1  \n",
       "439             1       5         1       0        0             0       1  \n",
       "\n",
       "[440 rows x 14 columns]"
      ]
     },
     "execution_count": 18,
     "metadata": {},
     "output_type": "execute_result"
    }
   ],
   "source": [
    "data"
   ]
  },
  {
   "cell_type": "code",
   "execution_count": 19,
   "id": "6868a3c4",
   "metadata": {},
   "outputs": [],
   "source": [
    "from sklearn.ensemble import RandomForestRegressor\n",
    "from sklearn.model_selection import train_test_split"
   ]
  },
  {
   "cell_type": "code",
   "execution_count": 20,
   "id": "fe8e2c33",
   "metadata": {},
   "outputs": [],
   "source": [
    "independentvariables = ['listingIsTopRated', 'sellerFeedbackScore', 'sellerPositivePercent', 'sellerIsTopRated','endAtWeekend','endAtEvening','length','isBroken','isUsed','isLarge','freeShipping']\n",
    "X = data[independentvariables] \n",
    "y = data.price\n",
    "X_train, X_test, y_train, y_test = train_test_split(X, y, test_size=0.3)"
   ]
  },
  {
   "cell_type": "code",
   "execution_count": 21,
   "id": "9c3589af",
   "metadata": {},
   "outputs": [],
   "source": [
    "from sklearn.model_selection import GridSearchCV\n"
   ]
  },
  {
   "cell_type": "code",
   "execution_count": 24,
   "id": "c74bc6d9",
   "metadata": {},
   "outputs": [
    {
     "name": "stdout",
     "output_type": "stream",
     "text": [
      "Best parameter (CV score=nan):\n",
      "{'max_depth': 1, 'min_samples_leaf': 1, 'min_samples_split': 1}\n"
     ]
    }
   ],
   "source": [
    "print(\"Best parameter (CV score=%0.3f):\"% search.best_score_)\n",
    "print(search.best_params_)\n"
   ]
  },
  {
   "cell_type": "code",
   "execution_count": 25,
   "id": "8a67e4f1",
   "metadata": {},
   "outputs": [
    {
     "name": "stdout",
     "output_type": "stream",
     "text": [
      "Feature importance by sklearn: {'listingIsTopRated': 0.0, 'sellerFeedbackScore': 0.0, 'sellerPositivePercent': 0.0, 'sellerIsTopRated': 0.0, 'endAtWeekend': 0.0, 'endAtEvening': 0.0, 'length': 0.0, 'isBroken': 0.0, 'isUsed': 0.0, 'isLarge': 0.0, 'freeShipping': 0.0}\n"
     ]
    }
   ],
   "source": [
    "regressor=RandomForestRegressor(max_depth=1, min_samples_leaf=1, min_samples_split=1.0)\n",
    "regressor.fit(X_train,y_train)\n",
    "\n",
    "eatures = X.columns.tolist()\n",
    "\n",
    "importances_sk=regressor.feature_importances_\n",
    "\n",
    "\n",
    "feature_importance_sk = {}\n",
    "for i, feature in enumerate(features):\n",
    "    feature_importance_sk[feature] = round(importances_sk[i], 3)\n",
    "\n",
    "print(f\"Feature importance by sklearn: {feature_importance_sk}\")\n",
    "\n"
   ]
  },
  {
   "cell_type": "code",
   "execution_count": 26,
   "id": "38fd6559",
   "metadata": {},
   "outputs": [
    {
     "data": {
      "text/plain": [
       "2158.5805455126383"
      ]
     },
     "execution_count": 26,
     "metadata": {},
     "output_type": "execute_result"
    }
   ],
   "source": [
    "y_predict=regressor.predict(X_test)\n",
    "from sklearn.metrics import mean_squared_error\n",
    "\n",
    "mean_squared_error(y_test, y_predict)"
   ]
  },
  {
   "cell_type": "code",
   "execution_count": 27,
   "id": "ecce69a5",
   "metadata": {},
   "outputs": [
    {
     "data": {
      "text/plain": [
       "3836.456982025579"
      ]
     },
     "execution_count": 27,
     "metadata": {},
     "output_type": "execute_result"
    }
   ],
   "source": [
    "y.var()"
   ]
  },
  {
   "cell_type": "code",
   "execution_count": null,
   "id": "e2acb63f",
   "metadata": {},
   "outputs": [],
   "source": [
    "max_depth=list(range(1,10))\n",
    "min_samples_split=list(range(1,10))\n",
    "min_samples_leaf=list(range(1,10))\n",
    "param_grid=dict(max_depth=max_depth,min_samples_split=min_samples_split,min_samples_leaf=min_samples_leaf)\n",
    "model=RandomForestRegressor()\n",
    "search=GridSearchCV(model,param_grid,scoring=\"balanced_accuracy\",n_jobs=-1)\n",
    "search.fit(X_train,y_train)"
   ]
  },
  {
   "cell_type": "code",
   "execution_count": null,
   "id": "8a0cdb80",
   "metadata": {},
   "outputs": [],
   "source": []
  }
 ],
 "metadata": {
  "kernelspec": {
   "display_name": "Python 3 (ipykernel)",
   "language": "python",
   "name": "python3"
  },
  "language_info": {
   "codemirror_mode": {
    "name": "ipython",
    "version": 3
   },
   "file_extension": ".py",
   "mimetype": "text/x-python",
   "name": "python",
   "nbconvert_exporter": "python",
   "pygments_lexer": "ipython3",
   "version": "3.9.7"
  }
 },
 "nbformat": 4,
 "nbformat_minor": 5
}
