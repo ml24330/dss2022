{
 "cells": [
  {
   "cell_type": "code",
   "execution_count": 1,
   "id": "b10e065e",
   "metadata": {},
   "outputs": [],
   "source": [
    "from sklearn.model_selection import RepeatedStratifiedKFold\n",
    "from sklearn.model_selection import train_test_split\n",
    "from sklearn.model_selection import GridSearchCV\n",
    "\n",
    "from sklearn.metrics import ConfusionMatrixDisplay\n",
    "from sklearn.metrics import confusion_matrix\n",
    "from sklearn.metrics import accuracy_score\n",
    "\n",
    "from sklearn.neighbors import KNeighborsClassifier\n",
    "from sklearn.inspection import permutation_importance\n",
    "\n",
    "import pandas as pd\n",
    "import numpy as np"
   ]
  },
  {
   "cell_type": "code",
   "execution_count": 2,
   "id": "160c6b71",
   "metadata": {},
   "outputs": [],
   "source": [
    "df = pd.read_csv('./us_clocks.csv')\n",
    "\n",
    "names = ['listingIsTopRated',\n",
    " 'sellerFeedbackScore',\n",
    " 'sellerPositivePercent',\n",
    " 'sellerIsTopRated',\n",
    " 'endAtWeekend',\n",
    " 'endAtEvening',\n",
    " 'length',\n",
    " 'isBroken',\n",
    " 'isUsed',\n",
    " 'isLarge',\n",
    " 'freeShipping']\n",
    "\n",
    "x = df[names]\n",
    "y = df['isSold']                      \n",
    "\n",
    "X_train, X_test, y_train, y_test = train_test_split(df[names], df['isSold'], test_size=0.3)"
   ]
  },
  {
   "cell_type": "code",
   "execution_count": 3,
   "id": "d7361761",
   "metadata": {},
   "outputs": [
    {
     "data": {
      "text/plain": [
       "GridSearchCV(cv=RepeatedStratifiedKFold(n_repeats=3, n_splits=5, random_state=1),\n",
       "             estimator=KNeighborsClassifier(),\n",
       "             param_grid={'n_neighbors': [1, 2, 3, 4, 5, 6, 7, 8, 9, 10, 11, 12,\n",
       "                                         13, 14, 15, 16, 17, 18, 19, 20, 21, 22,\n",
       "                                         23, 24, 25, 26, 27, 28, 29, 30],\n",
       "                         'weights': ['uniform', 'distance']},\n",
       "             scoring='balanced_accuracy')"
      ]
     },
     "execution_count": 3,
     "metadata": {},
     "output_type": "execute_result"
    }
   ],
   "source": [
    "k_range = list(range(1, 31))\n",
    "weight_options = ['uniform', 'distance']\n",
    "param_grid = dict(n_neighbors=k_range, weights=weight_options)\n",
    "\n",
    "model = KNeighborsClassifier()\n",
    "cv = RepeatedStratifiedKFold(n_splits=5, n_repeats=3, random_state=1)\n",
    "grid = GridSearchCV(model, param_grid, cv=cv, scoring='balanced_accuracy')\n",
    "grid.fit(X_train, y_train)"
   ]
  },
  {
   "cell_type": "code",
   "execution_count": 4,
   "id": "42f58bc3",
   "metadata": {},
   "outputs": [
    {
     "data": {
      "text/plain": [
       "{'n_neighbors': 8, 'weights': 'distance'}"
      ]
     },
     "execution_count": 4,
     "metadata": {},
     "output_type": "execute_result"
    }
   ],
   "source": [
    "grid.best_params_"
   ]
  },
  {
   "cell_type": "code",
   "execution_count": 5,
   "id": "2057826d",
   "metadata": {},
   "outputs": [
    {
     "data": {
      "text/plain": [
       "0.6728306379701687"
      ]
     },
     "execution_count": 5,
     "metadata": {},
     "output_type": "execute_result"
    }
   ],
   "source": [
    "grid.best_score_"
   ]
  },
  {
   "cell_type": "code",
   "execution_count": 9,
   "id": "73223fbf",
   "metadata": {},
   "outputs": [
    {
     "data": {
      "text/plain": [
       "<sklearn.metrics._plot.confusion_matrix.ConfusionMatrixDisplay at 0x2170f4dadc0>"
      ]
     },
     "execution_count": 9,
     "metadata": {},
     "output_type": "execute_result"
    },
    {
     "data": {
      "image/png": "[encoded data removed]",
      "text/plain": [
       "<Figure size 432x288 with 2 Axes>"
      ]
     },
     "metadata": {
      "needs_background": "light"
     },
     "output_type": "display_data"
    }
   ],
   "source": [
    "knn = KNeighborsClassifier(n_neighbors=8, weights='distance')\n",
    "\n",
    "knn.fit(X_train, y_train)\n",
    "\n",
    "y_pred_one = knn.predict(X_test)\n",
    "\n",
    "acc_one = accuracy_score(y_test, y_pred_one)\n",
    "\n",
    "cm = confusion_matrix(y_test, y_pred_one, labels=knn.classes_)\n",
    "disp = ConfusionMatrixDisplay(confusion_matrix=cm, display_labels=knn.classes_)\n",
    "\n",
    "disp.plot()"
   ]
  },
  {
   "cell_type": "code",
   "execution_count": 10,
   "id": "f402f4b2",
   "metadata": {},
   "outputs": [
    {
     "data": {
      "text/plain": [
       "0.8720588235294118"
      ]
     },
     "execution_count": 10,
     "metadata": {},
     "output_type": "execute_result"
    }
   ],
   "source": [
    "model = knn.fit(X_train, y_train)\n",
    "model.score(X_test, y_test)"
   ]
  },
  {
   "cell_type": "code",
   "execution_count": 14,
   "id": "d6be48cd",
   "metadata": {},
   "outputs": [
    {
     "name": "stdout",
     "output_type": "stream",
     "text": [
      "sellerFeedbackScore0.184 +/- 0.010\n",
      "length  0.014 +/- 0.006\n"
     ]
    }
   ],
   "source": [
    "r = permutation_importance(model, X_test, y_test,\n",
    "                            n_repeats=30,\n",
    "                            random_state=0,scoring='balanced_accuracy')\n",
    "\n",
    "for i in r.importances_mean.argsort()[::-1]:\n",
    "     if r.importances_mean[i] - 2 * r.importances_std[i] > 0:\n",
    "         print(f\"{names[i]:<8}\"\n",
    "               f\"{r.importances_mean[i]:.3f}\"\n",
    "               f\" +/- {r.importances_std[i]:.3f}\")"
   ]
  },
  {
   "cell_type": "code",
   "execution_count": null,
   "id": "197f40f2",
   "metadata": {},
   "outputs": [],
   "source": []
  }
 ],
 "metadata": {
  "kernelspec": {
   "display_name": "Python 3 (ipykernel)",
   "language": "python",
   "name": "python3"
  },
  "language_info": {
   "codemirror_mode": {
    "name": "ipython",
    "version": 3
   },
   "file_extension": ".py",
   "mimetype": "text/x-python",
   "name": "python",
   "nbconvert_exporter": "python",
   "pygments_lexer": "ipython3",
   "version": "3.9.12"
  }
 },
 "nbformat": 4,
 "nbformat_minor": 5
}
