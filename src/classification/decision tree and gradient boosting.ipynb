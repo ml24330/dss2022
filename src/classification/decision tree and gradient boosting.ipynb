{
 "cells": [
  {
   "cell_type": "code",
   "execution_count": 98,
   "id": "116da22d",
   "metadata": {},
   "outputs": [],
   "source": [
    "import pandas as pd"
   ]
  },
  {
   "cell_type": "code",
   "execution_count": 99,
   "id": "e6a1f5e4",
   "metadata": {},
   "outputs": [],
   "source": [
    "data=pd.read_csv(\"uk_clocks.csv\")"
   ]
  },
  {
   "cell_type": "code",
   "execution_count": 100,
   "id": "cc451c46",
   "metadata": {},
   "outputs": [
    {
     "data": {
      "text/html": [
       "<div>\n",
       "<style scoped>\n",
       "    .dataframe tbody tr th:only-of-type {\n",
       "        vertical-align: middle;\n",
       "    }\n",
       "\n",
       "    .dataframe tbody tr th {\n",
       "        vertical-align: top;\n",
       "    }\n",
       "\n",
       "    .dataframe thead th {\n",
       "        text-align: right;\n",
       "    }\n",
       "</style>\n",
       "<table border=\"1\" class=\"dataframe\">\n",
       "  <thead>\n",
       "    <tr style=\"text-align: right;\">\n",
       "      <th></th>\n",
       "      <th>id</th>\n",
       "      <th>listingIsTopRated</th>\n",
       "      <th>sellerFeedbackScore</th>\n",
       "      <th>sellerPositivePercent</th>\n",
       "      <th>sellerIsTopRated</th>\n",
       "      <th>price</th>\n",
       "      <th>endAtWeekend</th>\n",
       "      <th>endAtEvening</th>\n",
       "      <th>length</th>\n",
       "      <th>isBroken</th>\n",
       "      <th>isUsed</th>\n",
       "      <th>isLarge</th>\n",
       "      <th>freeShipping</th>\n",
       "      <th>isSold</th>\n",
       "    </tr>\n",
       "  </thead>\n",
       "  <tbody>\n",
       "    <tr>\n",
       "      <th>0</th>\n",
       "      <td>2.041440e+11</td>\n",
       "      <td>0</td>\n",
       "      <td>1473</td>\n",
       "      <td>100.0</td>\n",
       "      <td>0</td>\n",
       "      <td>8.500</td>\n",
       "      <td>1</td>\n",
       "      <td>0</td>\n",
       "      <td>7</td>\n",
       "      <td>0</td>\n",
       "      <td>0</td>\n",
       "      <td>0</td>\n",
       "      <td>0</td>\n",
       "      <td>1</td>\n",
       "    </tr>\n",
       "    <tr>\n",
       "      <th>1</th>\n",
       "      <td>2.252300e+11</td>\n",
       "      <td>0</td>\n",
       "      <td>255</td>\n",
       "      <td>100.0</td>\n",
       "      <td>0</td>\n",
       "      <td>5.000</td>\n",
       "      <td>1</td>\n",
       "      <td>1</td>\n",
       "      <td>7</td>\n",
       "      <td>0</td>\n",
       "      <td>1</td>\n",
       "      <td>0</td>\n",
       "      <td>0</td>\n",
       "      <td>0</td>\n",
       "    </tr>\n",
       "    <tr>\n",
       "      <th>2</th>\n",
       "      <td>3.254140e+11</td>\n",
       "      <td>0</td>\n",
       "      <td>1465</td>\n",
       "      <td>100.0</td>\n",
       "      <td>0</td>\n",
       "      <td>2.390</td>\n",
       "      <td>1</td>\n",
       "      <td>0</td>\n",
       "      <td>7</td>\n",
       "      <td>0</td>\n",
       "      <td>0</td>\n",
       "      <td>0</td>\n",
       "      <td>0</td>\n",
       "      <td>1</td>\n",
       "    </tr>\n",
       "    <tr>\n",
       "      <th>3</th>\n",
       "      <td>2.659630e+11</td>\n",
       "      <td>0</td>\n",
       "      <td>1466</td>\n",
       "      <td>100.0</td>\n",
       "      <td>0</td>\n",
       "      <td>10.000</td>\n",
       "      <td>1</td>\n",
       "      <td>1</td>\n",
       "      <td>7</td>\n",
       "      <td>0</td>\n",
       "      <td>1</td>\n",
       "      <td>1</td>\n",
       "      <td>0</td>\n",
       "      <td>1</td>\n",
       "    </tr>\n",
       "    <tr>\n",
       "      <th>4</th>\n",
       "      <td>3.254050e+11</td>\n",
       "      <td>0</td>\n",
       "      <td>920</td>\n",
       "      <td>100.0</td>\n",
       "      <td>0</td>\n",
       "      <td>13.990</td>\n",
       "      <td>1</td>\n",
       "      <td>1</td>\n",
       "      <td>7</td>\n",
       "      <td>0</td>\n",
       "      <td>0</td>\n",
       "      <td>0</td>\n",
       "      <td>0</td>\n",
       "      <td>0</td>\n",
       "    </tr>\n",
       "    <tr>\n",
       "      <th>...</th>\n",
       "      <td>...</td>\n",
       "      <td>...</td>\n",
       "      <td>...</td>\n",
       "      <td>...</td>\n",
       "      <td>...</td>\n",
       "      <td>...</td>\n",
       "      <td>...</td>\n",
       "      <td>...</td>\n",
       "      <td>...</td>\n",
       "      <td>...</td>\n",
       "      <td>...</td>\n",
       "      <td>...</td>\n",
       "      <td>...</td>\n",
       "      <td>...</td>\n",
       "    </tr>\n",
       "    <tr>\n",
       "      <th>2858</th>\n",
       "      <td>2.558150e+11</td>\n",
       "      <td>0</td>\n",
       "      <td>684</td>\n",
       "      <td>100.0</td>\n",
       "      <td>0</td>\n",
       "      <td>8.990</td>\n",
       "      <td>0</td>\n",
       "      <td>0</td>\n",
       "      <td>7</td>\n",
       "      <td>0</td>\n",
       "      <td>0</td>\n",
       "      <td>0</td>\n",
       "      <td>0</td>\n",
       "      <td>0</td>\n",
       "    </tr>\n",
       "    <tr>\n",
       "      <th>2859</th>\n",
       "      <td>1.657640e+11</td>\n",
       "      <td>0</td>\n",
       "      <td>464</td>\n",
       "      <td>100.0</td>\n",
       "      <td>0</td>\n",
       "      <td>20.000</td>\n",
       "      <td>1</td>\n",
       "      <td>1</td>\n",
       "      <td>7</td>\n",
       "      <td>0</td>\n",
       "      <td>1</td>\n",
       "      <td>0</td>\n",
       "      <td>0</td>\n",
       "      <td>0</td>\n",
       "    </tr>\n",
       "    <tr>\n",
       "      <th>2860</th>\n",
       "      <td>3.543790e+11</td>\n",
       "      <td>0</td>\n",
       "      <td>3738</td>\n",
       "      <td>100.0</td>\n",
       "      <td>0</td>\n",
       "      <td>10.990</td>\n",
       "      <td>1</td>\n",
       "      <td>1</td>\n",
       "      <td>7</td>\n",
       "      <td>0</td>\n",
       "      <td>1</td>\n",
       "      <td>0</td>\n",
       "      <td>0</td>\n",
       "      <td>0</td>\n",
       "    </tr>\n",
       "    <tr>\n",
       "      <th>2861</th>\n",
       "      <td>2.558140e+11</td>\n",
       "      <td>0</td>\n",
       "      <td>8528</td>\n",
       "      <td>98.9</td>\n",
       "      <td>0</td>\n",
       "      <td>41.325</td>\n",
       "      <td>1</td>\n",
       "      <td>1</td>\n",
       "      <td>5</td>\n",
       "      <td>1</td>\n",
       "      <td>0</td>\n",
       "      <td>0</td>\n",
       "      <td>0</td>\n",
       "      <td>1</td>\n",
       "    </tr>\n",
       "    <tr>\n",
       "      <th>2862</th>\n",
       "      <td>2.558140e+11</td>\n",
       "      <td>0</td>\n",
       "      <td>900</td>\n",
       "      <td>100.0</td>\n",
       "      <td>0</td>\n",
       "      <td>9.000</td>\n",
       "      <td>1</td>\n",
       "      <td>1</td>\n",
       "      <td>7</td>\n",
       "      <td>0</td>\n",
       "      <td>0</td>\n",
       "      <td>0</td>\n",
       "      <td>0</td>\n",
       "      <td>0</td>\n",
       "    </tr>\n",
       "  </tbody>\n",
       "</table>\n",
       "<p>2863 rows × 14 columns</p>\n",
       "</div>"
      ],
      "text/plain": [
       "                id  listingIsTopRated  sellerFeedbackScore  \\\n",
       "0     2.041440e+11                  0                 1473   \n",
       "1     2.252300e+11                  0                  255   \n",
       "2     3.254140e+11                  0                 1465   \n",
       "3     2.659630e+11                  0                 1466   \n",
       "4     3.254050e+11                  0                  920   \n",
       "...            ...                ...                  ...   \n",
       "2858  2.558150e+11                  0                  684   \n",
       "2859  1.657640e+11                  0                  464   \n",
       "2860  3.543790e+11                  0                 3738   \n",
       "2861  2.558140e+11                  0                 8528   \n",
       "2862  2.558140e+11                  0                  900   \n",
       "\n",
       "      sellerPositivePercent  sellerIsTopRated   price  endAtWeekend  \\\n",
       "0                     100.0                 0   8.500             1   \n",
       "1                     100.0                 0   5.000             1   \n",
       "2                     100.0                 0   2.390             1   \n",
       "3                     100.0                 0  10.000             1   \n",
       "4                     100.0                 0  13.990             1   \n",
       "...                     ...               ...     ...           ...   \n",
       "2858                  100.0                 0   8.990             0   \n",
       "2859                  100.0                 0  20.000             1   \n",
       "2860                  100.0                 0  10.990             1   \n",
       "2861                   98.9                 0  41.325             1   \n",
       "2862                  100.0                 0   9.000             1   \n",
       "\n",
       "      endAtEvening  length  isBroken  isUsed  isLarge  freeShipping  isSold  \n",
       "0                0       7         0       0        0             0       1  \n",
       "1                1       7         0       1        0             0       0  \n",
       "2                0       7         0       0        0             0       1  \n",
       "3                1       7         0       1        1             0       1  \n",
       "4                1       7         0       0        0             0       0  \n",
       "...            ...     ...       ...     ...      ...           ...     ...  \n",
       "2858             0       7         0       0        0             0       0  \n",
       "2859             1       7         0       1        0             0       0  \n",
       "2860             1       7         0       1        0             0       0  \n",
       "2861             1       5         1       0        0             0       1  \n",
       "2862             1       7         0       0        0             0       0  \n",
       "\n",
       "[2863 rows x 14 columns]"
      ]
     },
     "execution_count": 100,
     "metadata": {},
     "output_type": "execute_result"
    }
   ],
   "source": [
    "data"
   ]
  },
  {
   "cell_type": "code",
   "execution_count": 102,
   "id": "8a5eca09",
   "metadata": {},
   "outputs": [],
   "source": [
    "from sklearn.tree import DecisionTreeClassifier\n",
    "from sklearn import metrics "
   ]
  },
  {
   "cell_type": "code",
   "execution_count": 103,
   "id": "5be5bf2c",
   "metadata": {},
   "outputs": [],
   "source": [
    "independentvariables = ['listingIsTopRated', 'sellerFeedbackScore', 'sellerPositivePercent', 'sellerIsTopRated','endAtWeekend','endAtEvening','length','isBroken','isUsed']\n",
    "X = data[independentvariables] \n",
    "y = data.isSold"
   ]
  },
  {
   "cell_type": "code",
   "execution_count": 104,
   "id": "4147c43c",
   "metadata": {},
   "outputs": [],
   "source": [
    "import numpy as np\n",
    "from sklearn.model_selection import StratifiedKFold\n",
    "skf = StratifiedKFold(n_splits=4, shuffle=True, random_state=1)\n",
    "for train_index, test_index in skf.split(X, y):\n",
    "    X_train, X_test = X.iloc[train_index], X.iloc[test_index]\n",
    "    y_train, y_test = y.iloc[train_index], y.iloc[test_index]"
   ]
  },
  {
   "cell_type": "code",
   "execution_count": 105,
   "id": "14b7e511",
   "metadata": {},
   "outputs": [],
   "source": [
    "clf = DecisionTreeClassifier()\n",
    "clf = clf.fit(X_train,y_train)\n",
    "y_pred = clf.predict(X_test)\n"
   ]
  },
  {
   "cell_type": "code",
   "execution_count": 106,
   "id": "5ef8a791",
   "metadata": {},
   "outputs": [
    {
     "name": "stdout",
     "output_type": "stream",
     "text": [
      "Accuracy: 0.8055944055944056\n"
     ]
    }
   ],
   "source": [
    "print(\"Accuracy:\",metrics.accuracy_score(y_test, y_pred))"
   ]
  },
  {
   "cell_type": "code",
   "execution_count": 107,
   "id": "667db1a2",
   "metadata": {},
   "outputs": [],
   "source": [
    "from sklearn.metrics import confusion_matrix"
   ]
  },
  {
   "cell_type": "code",
   "execution_count": 108,
   "id": "57931de4",
   "metadata": {},
   "outputs": [
    {
     "data": {
      "text/plain": [
       "array([[552,  53],\n",
       "       [ 86,  24]])"
      ]
     },
     "execution_count": 108,
     "metadata": {},
     "output_type": "execute_result"
    }
   ],
   "source": [
    "confusion_matrix(y_test, y_pred)"
   ]
  },
  {
   "cell_type": "code",
   "execution_count": 109,
   "id": "e8074a5e",
   "metadata": {},
   "outputs": [],
   "source": [
    "import matplotlib.pyplot as plt\n",
    "from sklearn.metrics import plot_confusion_matrix"
   ]
  },
  {
   "cell_type": "code",
   "execution_count": 110,
   "id": "7ce8b9d0",
   "metadata": {},
   "outputs": [
    {
     "data": {
      "image/png": "[encoded data removed]",
      "text/plain": [
       "<Figure size 432x288 with 2 Axes>"
      ]
     },
     "metadata": {
      "needs_background": "light"
     },
     "output_type": "display_data"
    }
   ],
   "source": [
    "color = 'white'\n",
    "plot_confusion_matrix(clf, X_test, y_test, cmap=plt.cm.Blues)\n",
    "plt.xlabel('Predicted isSold', color=color)\n",
    "plt.ylabel('True isSold', color=color)\n",
    "plt.show()\n"
   ]
  },
  {
   "cell_type": "code",
   "execution_count": 112,
   "id": "7cd34035",
   "metadata": {},
   "outputs": [
    {
     "data": {
      "text/plain": [
       "0.14884597268016964"
      ]
     },
     "execution_count": 112,
     "metadata": {},
     "output_type": "execute_result"
    }
   ],
   "source": [
    "from sklearn.metrics import cohen_kappa_score\n",
    "cohen_kappa_score(y_test, y_pred)"
   ]
  },
  {
   "cell_type": "code",
   "execution_count": 114,
   "id": "20d17f65",
   "metadata": {},
   "outputs": [],
   "source": [
    "import pandas as pd\n",
    "from sklearn.preprocessing import MinMaxScaler\n",
    "from sklearn.metrics import classification_report, confusion_matrix\n",
    "from sklearn.ensemble import GradientBoostingClassifier"
   ]
  },
  {
   "cell_type": "code",
   "execution_count": 115,
   "id": "5730acc7",
   "metadata": {},
   "outputs": [],
   "source": [
    "from sklearn.ensemble import GradientBoostingClassifier\n",
    "\n",
    "import numpy as np\n",
    "\n",
    "import pandas as pd\n",
    "\n",
    "from sklearn.metrics import accuracy_score, confusion_matrix\n",
    "\n",
    "from sklearn import preprocessing\n",
    "\n",
    "import warnings\n",
    "warnings.filterwarnings(\"ignore\")"
   ]
  },
  {
   "cell_type": "code",
   "execution_count": 68,
   "id": "a66652a1",
   "metadata": {},
   "outputs": [],
   "source": [
    "independentvariables = ['listingIsTopRated', 'sellerFeedbackScore', 'sellerPositivePercent', 'sellerIsTopRated','endAtWeekend','endAtEvening','length','isBroken','isUsed']\n",
    "X = data[independentvariables] \n",
    "y = data.isSold\n"
   ]
  },
  {
   "cell_type": "code",
   "execution_count": 116,
   "id": "fb5b0b8f",
   "metadata": {},
   "outputs": [],
   "source": [
    "import numpy as np\n",
    "from sklearn.model_selection import StratifiedKFold\n",
    "skf = StratifiedKFold(n_splits=4, shuffle=True, random_state=1)\n",
    "for train_index, test_index in skf.split(X, y):\n",
    "    X_train, X_test = X.iloc[train_index], X.iloc[test_index]\n",
    "    y_train, y_test = y.iloc[train_index], y.iloc[test_index]"
   ]
  },
  {
   "cell_type": "code",
   "execution_count": 117,
   "id": "52d2775b",
   "metadata": {},
   "outputs": [],
   "source": [
    "gbc=GradientBoostingClassifier(n_estimators=500,learning_rate=0.05,random_state=100,max_features=5 )"
   ]
  },
  {
   "cell_type": "code",
   "execution_count": 118,
   "id": "f58b3825",
   "metadata": {},
   "outputs": [
    {
     "data": {
      "text/plain": [
       "GradientBoostingClassifier(learning_rate=0.05, max_features=5, n_estimators=500,\n",
       "                           random_state=100)"
      ]
     },
     "execution_count": 118,
     "metadata": {},
     "output_type": "execute_result"
    }
   ],
   "source": [
    "gbc.fit(X_train,y_train)"
   ]
  },
  {
   "cell_type": "code",
   "execution_count": 119,
   "id": "f04273ad",
   "metadata": {},
   "outputs": [
    {
     "name": "stdout",
     "output_type": "stream",
     "text": [
      "[[590  15]\n",
      " [ 93  17]]\n"
     ]
    }
   ],
   "source": [
    "print(confusion_matrix(y_test, gbc.predict(X_test)))"
   ]
  },
  {
   "cell_type": "code",
   "execution_count": 120,
   "id": "b8ddf07a",
   "metadata": {},
   "outputs": [
    {
     "name": "stdout",
     "output_type": "stream",
     "text": [
      "GBC accuracy is 0.85\n"
     ]
    }
   ],
   "source": [
    "print(\"GBC accuracy is %2.2f\" % accuracy_score( \n",
    "     y_test, gbc.predict(X_test)))"
   ]
  },
  {
   "cell_type": "code",
   "execution_count": 121,
   "id": "43314d08",
   "metadata": {},
   "outputs": [
    {
     "data": {
      "image/png": "[encoded data removed]",
      "text/plain": [
       "<Figure size 432x288 with 2 Axes>"
      ]
     },
     "metadata": {
      "needs_background": "light"
     },
     "output_type": "display_data"
    }
   ],
   "source": [
    "color = 'white'\n",
    "plot_confusion_matrix(gbc, X_test, y_test, cmap=plt.cm.Blues)\n",
    "plt.xlabel('Predicted isSold', color=color)\n",
    "plt.ylabel('True isSold', color=color)\n",
    "plt.show()\n"
   ]
  },
  {
   "cell_type": "code",
   "execution_count": 122,
   "id": "89059132",
   "metadata": {},
   "outputs": [
    {
     "data": {
      "text/plain": [
       "0.14884597268016964"
      ]
     },
     "execution_count": 122,
     "metadata": {},
     "output_type": "execute_result"
    }
   ],
   "source": [
    "from sklearn.metrics import cohen_kappa_score\n",
    "cohen_kappa_score(y_test, y_pred)"
   ]
  },
  {
   "cell_type": "code",
   "execution_count": null,
   "id": "2723af6e",
   "metadata": {},
   "outputs": [],
   "source": []
  }
 ],
 "metadata": {
  "kernelspec": {
   "display_name": "Python 3 (ipykernel)",
   "language": "python",
   "name": "python3"
  },
  "language_info": {
   "codemirror_mode": {
    "name": "ipython",
    "version": 3
   },
   "file_extension": ".py",
   "mimetype": "text/x-python",
   "name": "python",
   "nbconvert_exporter": "python",
   "pygments_lexer": "ipython3",
   "version": "3.9.7"
  }
 },
 "nbformat": 4,
 "nbformat_minor": 5
}
