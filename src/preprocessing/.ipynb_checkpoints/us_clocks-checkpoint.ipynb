{
 "cells": [
  {
   "cell_type": "markdown",
   "metadata": {},
   "source": [
    "## UK Clocks"
   ]
  },
  {
   "cell_type": "code",
   "execution_count": 1,
   "metadata": {},
   "outputs": [],
   "source": [
    "import pandas as pd\n",
    "from db_utils import Query, QueryAll, QueryAllFinished, UpdateItem\n",
    "\n",
    "pd.options.mode.chained_assignment = None\n",
    "\n",
    "data = QueryAll(\"clock_us\")\n",
    "cols = [\"id\", \"title\", \"globalId\", \"categoryId\", \"categoryName\", \"url\", \"location\", \"shippingType\", \"shippingLocations\",\n",
    "                \"shippingTime\", \"startTime\", \"endTime\", \"returnsAccepted\", \"conditionId\", \"listingIsTopRated\", \n",
    "               \"sellerFeedbackScore\", \"sellerPositivePercent\", \"sellerName\", \"sellerIsTopRated\", \"price\", \"currency\", \"bids\"]\n",
    "\n",
    "clocks = pd.DataFrame(data, columns=cols)\n"
   ]
  },
  {
   "cell_type": "code",
   "execution_count": 4,
   "metadata": {},
   "outputs": [
    {
     "data": {
      "text/plain": [
       "array(['US $12.00', 'US $0.99', 'US $15.50', 'US $9.90', 'US $14.99',\n",
       "       'US $30.00', 'US $86.00', 'US $94.99', 'US $5.99', 'US $46.00',\n",
       "       'US $38.00', 'US $12.50', 'US $18.50', 'US $399.00', 'US $5.00',\n",
       "       'US $15.25', 'US $41.00', 'US $6.16', 'US $15.00', 'US $480.00',\n",
       "       'US $40.00', -1.0, 'US $70.00', 'US $22.50', 'US $20.00',\n",
       "       'US $123.50', 'US $9.00', 'US $525.00', 'US $32.01', 'US $81.00',\n",
       "       'US $3.00', 'US $8.99', 'US $56.00', 'US $82.50', 'US $29.00',\n",
       "       'US $9.99', 'US $11.50', 'US $19.50', 'US $49.99', 'US $3.69',\n",
       "       'US $16.00', 'US $37.05', 'US $29.20', 'US $61.00', 'US $55.00',\n",
       "       'AU $45.00', 'US $7.99', 'US $89.00', 'US $37.95', 'US $149.99',\n",
       "       'US $149.95', 'US $39.00', 'US $15.99', 'AU $35.00', 'US $30.20',\n",
       "       'C $80.00', -2.0, 'US $18.99', 'US $32.20', 'US $29.99',\n",
       "       'US $7.30', 'US $65.55', 'US $21.99', 'US $20.70', 'US $79.99',\n",
       "       'US $124.99', 'US $36.00', 'US $17.99', 'US $10.00', 'US $70.75',\n",
       "       'US $23.00', 'US $67.34', 'AU $24.90', 'US $4.99', 'US $13.90',\n",
       "       'US $32.00', 'US $12.90', 'US $17.95', 'US $19.99', 'US $7.95',\n",
       "       'US $56.75', 'US $145.50', 'US $18.40', 'US $99.99', 'US $350.00',\n",
       "       'US $26.84', 'US $19.79', 'US $8.00', 'US $54.15', 'US $12.99',\n",
       "       'US $31.35', 'US $75.75', 'US $89.25', 'US $14.00', 'US $44.90',\n",
       "       'US $7.97', 'US $9.95', 'US $250.00', 'US $54.00', 'US $12.95',\n",
       "       'US $42.25', 'US $50.00', 'US $39.99', 'US $245.00', 'US $29.50',\n",
       "       'US $10.50', 'US $6.00', 'US $1.00', 'US $75.00', 'US $24.99',\n",
       "       'US $7.00', 'US $52.30', 'US $25.00', 'US $25.56', 'US $200.00',\n",
       "       'US $20.95', 'US $53.40', 'US $6.70', 'US $26.99', 'US $19.00',\n",
       "       'US $99.00', 'US $29.40', 'US $44.99', 'US $139.96', 'US $18.48',\n",
       "       'US $68.00', 'US $58.10', 'US $44.95', 'US $29.95', 'US $4.02',\n",
       "       'US $65.30', 'US $11.00', 'US $185.50', 'US $22.98', 'US $34.70',\n",
       "       'US $18.00', 'US $199.00', 'US $13.70', 'US $17.40', 'US $325.00',\n",
       "       'US $13.99', 'US $13.30', 'US $8.90', 'US $49.00', 'US $11.94',\n",
       "       'US $19.95', 'US $17.50', 'US $9.50', 'US $300.00', 'US $4.00',\n",
       "       'US $23.49', 'US $10.90', 'US $22.99', 'US $93.97', 'US $10.75',\n",
       "       'US $11.99', 'AU $29.99', 'US $6.99', 'US $14.60', 'US $5.40',\n",
       "       'US $35.00', 'US $37.49', 'US $59.99', 'US $26.90', 'US $30.75',\n",
       "       'US $139.99', 'US $195.00', 'US $60.00', 'US $2.00', 'US $28.00',\n",
       "       'US $125.00', 'US $282.10', 'US $27.99', 'US $11.90', 'US $20.20',\n",
       "       'US $105.00', 'US $27.75', 'US $13.10', 'US $10.25', 'US $11.25',\n",
       "       'US $2.80', 'US $85.00', 'US $100.00', 'US $280.00', 'US $19.30',\n",
       "       'US $48.88', 'US $50.99', 'US $9.49', 'AU $69.99', 'US $95.00',\n",
       "       'US $6.50', 'US $45.00', 'US $12.70', 'US $12.40', 'US $275.00',\n",
       "       'US $11.30', 'AU $389.00', 'US $6.80', 'US $9.97', 'US $16.95',\n",
       "       'US $31.00', 'US $500.00', 'US $179.99', 'US $59.00', 'C $39.99',\n",
       "       'US $66.00', 'US $90.00', 'US $119.00', 'C $20.00', 'US $22.00',\n",
       "       'US $11.40', 'US $35.99', 'US $8.50', 'GBP 51.00', 'US $94.00',\n",
       "       'US $329.00', 'US $365.00', 'GBP 82.00', 'US $106.25',\n",
       "       'US $155.50', 'US $202.50', 'US $104.50', 'US $20.80',\n",
       "       'GBP 151.00', 'US $550.00', 'US $13.50', 'US $159.99',\n",
       "       'US $229.50', 'US $91.00', 'US $177.50', 'US $232.28',\n",
       "       'US $118.00', 'US $87.00', 'US $128.83', 'US $461.00',\n",
       "       'US $231.50', 'US $29.32', 'US $5.24', 'US $9.55', 'US $4.75',\n",
       "       'US $39.36', 'US $34.99', 'US $49.95', 'US $67.00', 'US $65.00',\n",
       "       'US $240.50', 'US $2,175.00', 'US $84.99', 'US $3.99',\n",
       "       'US $147.50', 'US $261.00', 'US $560.00', 'US $58.00',\n",
       "       'US $244.00', 'GBP 10.00', 'US $10.27', 'US $45.32', 'US $24.50',\n",
       "       'GBP 205.00', 'US $249.99', 'US $650.00', 'GBP 17.80', 'US $39.95',\n",
       "       'US $36.95', 'US $135.00', 'US $99.95', 'US $76.00',\n",
       "       'US $1,387.00', 'US $332.77', 'GBP 51.50', 'GBP 60.00',\n",
       "       'US $69.00', 'US $199.99', 'US $695.00', 'US $24.00',\n",
       "       'US $1,050.00', 'US $1.99', 'GBP 45.00', 'US $200.50', 'US $11.95',\n",
       "       'GBP 58.00', 'GBP 11.55', 'AU $29.00', 'US $50.95', 'US $23.99',\n",
       "       'GBP 14.99', 'US $489.99', 'GBP 41.00', 'US $27.00', 'US $44.00',\n",
       "       'US $150.00', 'US $631.00', 'US $56.55', 'GBP 24.99', 'GBP 7.50',\n",
       "       'US $225.00', 'US $102.50', 'GBP 15.00', 'GBP 147.00',\n",
       "       'US $127.99', 'GBP 100.00', 'GBP 16.00', 'US $295.00',\n",
       "       'US $137.50', 'US $675.00', 'GBP 36.00', 'US $700.00',\n",
       "       'US $317.00', 'US $22.05', 'US $2.99', 'US $51.00', 'US $184.99',\n",
       "       'US $259.00', 'US $190.00', 'US $26.50', 'GBP 190.00',\n",
       "       'US $122.50', 'US $72.36', 'US $120.00', 'US $213.00', 'US $80.00',\n",
       "       'US $140.00', 'US $37.75', 'GBP 220.00', 'US $19.40', 'GBP 166.00',\n",
       "       'GBP 42.00', 'US $305.00', 'US $33.00', 'US $13.00', 'US $64.95',\n",
       "       'US $16.99', 'US $55.36', 'US $24.32', 'US $12.75', 'US $36.51',\n",
       "       'GBP 245.00', 'GBP 6.99', 'GBP 40.00', 'US $2,000.00', 'US $74.00',\n",
       "       'US $1,100.00', 'GBP 3.60', 'US $28.80', 'US $33.32', 'US $10.99',\n",
       "       'US $927.00', 'US $78.00', 'US $1,987.00', 'GBP 19.99', 'US $3.49',\n",
       "       'US $20.75', 'US $66.80', 'US $299.99', 'GBP 103.00', 'GBP 530.00',\n",
       "       'US $19.80', 'US $79.00', 'GBP 30.00', 'US $51.56', 'US $120.50',\n",
       "       'US $43.00', 'US $849.00', 'US $17.26', 'US $39.40',\n",
       "       'US $1,437.00', 'US $663.00', 'US $74.99', 'US $35.50',\n",
       "       'US $26.01', 'US $69.95', 'GBP 75.00', 'US $87.33', 'GBP 1,600.00',\n",
       "       'US $499.00', 'US $587.00', 'US $217.50', 'US $21.00',\n",
       "       'US $887.00', 'GBP 230.00', 'US $49.40', 'US $115.00',\n",
       "       'US $687.00', 'US $22.04', 'US $600.00', 'GBP 49.00', 'US $125.50',\n",
       "       'GBP 50.00', 'US $536.00', 'US $47.00', 'US $14.95', 'US $537.00',\n",
       "       'US $76.40', 'US $32.89', 'US $10.40', 'US $18.90', 'GBP 2.55',\n",
       "       'US $158.25', 'US $595.00', 'US $945.00', 'US $41.99', 'US $69.99',\n",
       "       'GBP 90.00', 'GBP 20.00', 'US $159.95', 'US $699.00', 'US $157.77',\n",
       "       'US $24.95', 'US $1,287.00', 'US $109.00', 'US $95.50',\n",
       "       'US $395.00', 'US $7.50', 'US $182.50', 'GBP 4.99', 'US $89.99',\n",
       "       'US $112.50', 'GBP 395.00', 'US $499.77', 'US $145.00',\n",
       "       'US $48.95', 'US $4.25', 'US $48.00', 'US $375.00', 'US $1,227.00',\n",
       "       'US $285.77', 'GBP 78.00', 'GBP 20.99', 'US $177.77', 'US $299.00',\n",
       "       'US $129.00', 'US $109.95', 'US $1,299.00', 'US $799.00',\n",
       "       'US $54.99', 'GBP 2.99', 'GBP 51.01', 'GBP 59.00', 'US $299.77',\n",
       "       'GBP 57.99', 'US $274.77', 'US $275.77', 'US $110.00',\n",
       "       'US $180.00', 'GBP 14.50', 'GBP 13.99', 'GBP 25.99', 'US $93.00',\n",
       "       'GBP 3.00', 'US $79.90', 'GBP 13.49', 'US $18.60', 'US $87.77',\n",
       "       'US $398.00', 'GBP 162.00', 'US $2,880.00', 'GBP 89.00',\n",
       "       'US $57.50', 'US $170.00', 'US $444.44', 'US $104.75', 'US $30.50',\n",
       "       'AU $124.00', 'US $450.00', 'US $48.10', 'US $114.27',\n",
       "       'US $400.00', 'US $103.20', 'GBP 475.00', 'US $16.60', 'US $16.90',\n",
       "       'AU $195.00', 'US $62.99', 'US $22.95', 'GBP 43.66', 'US $39.79',\n",
       "       'US $449.00', 'GBP 44.99', 'US $205.00', 'GBP 150.00', 'GBP 9.99',\n",
       "       'US $34.33', 'GBP 57.00', 'US $22.72', 'GBP 46.90', 'US $6.48',\n",
       "       'US $37.00', 'AU $235.00', 'US $399.99', 'AU $285.00',\n",
       "       'US $188.50', 'AU $175.00', 'US $165.00', 'GBP 25.00', 'US $42.00',\n",
       "       'US $20.50', 'US $1.29', 'US $88.00', 'US $1,795.00', 'GBP 12.99',\n",
       "       'US $22.25', 'AU $76.00', 'GBP 12.00', 'US $13.55', 'US $1,335.00',\n",
       "       'GBP 0.99', 'AU $365.00', 'GBP 26.99', 'GBP 7.99', 'AU $295.00',\n",
       "       'US $33.99', 'US $147.77', 'GBP 6.00', 'US $14.40', 'US $21.60',\n",
       "       'US $114.50', 'US $17.00', 'US $25.30', 'US $168.00',\n",
       "       'US $1,995.00', 'US $62.49', 'GBP 22.99', 'US $52.00',\n",
       "       'US $139.00', 'US $12.72', 'US $54.30', 'US $39.25', 'GBP 39.00',\n",
       "       'GBP 299.00', 'US $17.30', 'GBP 48.00', 'US $7.77', 'US $38.99',\n",
       "       'AU $39.00', 'GBP 125.00', 'US $24.98', 'US $169.00', 'US $26.09',\n",
       "       'US $42.49', 'US $24.90', 'US $18.95', 'GBP 26.00', 'US $175.00',\n",
       "       'US $28.99', 'US $72.00', 'US $575.00', 'US $10.65', 'AU $139.00',\n",
       "       'US $15.60', 'C $95.00', 'GBP 9.00', 'GBP 145.00', 'US $119.99',\n",
       "       'US $545.00', 'US $5,000.00', 'US $7.79', 'GBP 35.00', 'US $73.00',\n",
       "       'AU $385.00', 'GBP 13.00', 'US $13.95', 'US $62.00', 'AU $129.00',\n",
       "       'US $32.99', 'US $349.99', 'US $24.02', 'US $0.50', 'GBP 175.00',\n",
       "       'GBP 120.00', 'US $535.00', 'US $20.72', 'GBP 250.00',\n",
       "       'US $149.00', 'US $103.73', 'US $4.91', 'GBP 11.00', 'GBP 65.00',\n",
       "       'US $111.00', 'US $9.79', 'GBP 19.50', 'US $75.99', 'US $140.27',\n",
       "       'US $16.50', 'GBP 8.99', 'AU $1.00', 'US $64.56', 'US $62.33',\n",
       "       'US $19.90', 'US $14.50', 'US $12.59', 'US $599.00', 'US $47.99',\n",
       "       'US $4.79', 'US $65.79', 'US $26.00', 'GBP 8.00', 'US $76.99',\n",
       "       'GBP 9.50', 'GBP 4.50', 'GBP 23.99', 'US $22.01', 'US $1.25',\n",
       "       'US $2.76', 'GBP 3.99', 'GBP 149.00', 'US $432.89', 'US $372.00',\n",
       "       'US $64.00', 'GBP 22.00', 'US $201.50', 'US $31.01', 'US $23.50',\n",
       "       'US $220.00', 'US $5.50', 'US $28.95', 'GBP 85.00', 'GBP 1.00',\n",
       "       'US $21.50', 'GBP 149.95', 'US $1,240.00', 'US $14.75',\n",
       "       'US $999.99', 'GBP 5.00', 'US $34.95', 'US $20.59', 'US $23.06',\n",
       "       'C $52.00', 'US $348.88', 'GBP 2.50', 'US $83.00', 'US $9.80',\n",
       "       'US $73.39', 'GBP 14.00', 'GBP 275.00', 'US $25.75', 'US $21.95',\n",
       "       'GBP 21.00', 'GBP 15.60', 'GBP 99.99', 'AU $79.00', 'US $46.99',\n",
       "       'US $12.30', 'US $35.95', 'US $75.95', 'AU $138.00', 'GBP 47.99',\n",
       "       'US $247.77', 'US $5.39', 'US $79.95', 'C $100.00', 'AU $56.00',\n",
       "       'US $26.70', 'US $1,500.00', 'US $29.78', 'US $0.01', 'US $52.75',\n",
       "       'US $128.71', 'US $34.60', 'US $12.49', 'AU $159.00', 'US $185.00',\n",
       "       'US $155.00', 'US $8.49', 'AU $58.00', 'US $24.51', 'GBP 109.75',\n",
       "       'US $27.60', 'US $14.56', 'US $36.36', 'AU $100.00', 'US $20.99',\n",
       "       'AU $68.00', 'US $15.75', 'US $49.50', 'AU $145.00',\n",
       "       'US $2,160.00', 'US $20.55', 'US $84.05', 'GBP 15.99', 'US $8.95',\n",
       "       'GBP 200.00', 'GBP 130.00', 'US $129.99', 'AU $98.00', 'C $34.99',\n",
       "       'US $8,999.00', 'GBP 8.50', 'US $2,250.00', 'US $19.20',\n",
       "       'GBP 700.00', 'AU $169.00', 'AU $118.00', 'US $14.23', 'GBP 20.70',\n",
       "       'US $59.70', 'GBP 59.99', 'US $1,000.00', 'GBP 49.99',\n",
       "       'US $296.00', 'US $19.60', 'GBP 10.95', 'US $9.15', 'C $29.99',\n",
       "       'GBP 5.95', 'AU $1,850.00', 'GBP 2.00', 'GBP 10.99', 'US $169.99',\n",
       "       'AU $20.00', 'US $159.00', 'US $185.99', 'US $50.50', 'US $349.00',\n",
       "       'US $109.99', 'GBP 2.45', 'US $32.40', 'US $97.77', 'C $30.00',\n",
       "       'GBP 21.50', 'GBP 4.00', 'AU $48.00', 'GBP 27.50', 'US $264.00',\n",
       "       'AU $185.00', 'GBP 8.95', 'GBP 11.99', 'GBP 54.00', 'AU $110.00',\n",
       "       'AU $345.00', 'US $18.12', 'GBP 5.50', 'GBP 16.50', 'US $23.90',\n",
       "       'US $0.65', 'US $41.77', 'US $4.20', 'US $31.70', 'US $290.00',\n",
       "       'US $345.00', 'US $12.53', 'US $16.70', 'US $2.98', 'US $8.59',\n",
       "       'US $58.99', 'US $24.30', 'US $64.99', 'US $25.99', 'GBP 101.10',\n",
       "       'US $6.60', 'US $34.98', 'US $184.17', 'US $47.97', 'US $372.50',\n",
       "       'US $265.00', 'US $750.00', 'US $189.99', 'US $285.00', 'US $2.75',\n",
       "       'US $22.70', 'US $1,087.00', 'US $297.00', 'US $34.00',\n",
       "       'GBP 495.00', 'US $94.95', 'US $29.49', 'GBP 32.00', 'US $27.97',\n",
       "       'US $23.70', 'US $65.80', 'US $135.94', 'US $360.00', 'US $52.50',\n",
       "       'US $54.40', 'C $179.99', 'US $227.50', 'US $595.95', 'GBP 18.50',\n",
       "       'US $77.00', 'GBP 300.00', 'GBP 70.00', 'US $19.75', 'US $14.90',\n",
       "       'US $1,929.99', 'US $42.40', 'GBP 34.99', 'GBP 55.00', 'US $2.97',\n",
       "       'US $449.99', 'US $30.40', 'US $23.20', 'GBP 83.00', 'GBP 14.49',\n",
       "       'GBP 37.20', 'GBP 22.50', 'GBP 36.55', 'GBP 12.50', 'GBP 29.00',\n",
       "       'US $402.99', 'US $27.50', 'US $153.50', 'US $37.99', 'US $3.02',\n",
       "       'US $45.60', 'US $42.27', 'US $101.50', 'AU $126.00', 'US $29.75'],\n",
       "      dtype=object)"
      ]
     },
     "execution_count": 4,
     "metadata": {},
     "output_type": "execute_result"
    }
   ],
   "source": [
    "clocks.price.unique()"
   ]
  },
  {
   "cell_type": "code",
   "execution_count": 2,
   "metadata": {},
   "outputs": [],
   "source": [
    "clocks = clocks.drop(['currency', 'returnsAccepted','shippingTime'], axis=1)\n",
    "#since all the values in these three colums are negative one, delete all three columns"
   ]
  },
  {
   "cell_type": "code",
   "execution_count": 3,
   "metadata": {},
   "outputs": [],
   "source": [
    "clocks = clocks.drop(clocks[clocks['bids'] == -1].index, axis=0)\n",
    "clocks = clocks.drop(clocks[clocks['bids'] == -2].index, axis=0)"
   ]
  },
  {
   "cell_type": "code",
   "execution_count": 4,
   "metadata": {},
   "outputs": [],
   "source": [
    "EUR_TO_GBP = 0.87\n",
    "USD_TO_GBP = 0.84\n",
    "\n",
    "def convert_currency(original):\n",
    "    original = original.replace(',','')\n",
    "    if original.startswith('£'):\n",
    "        return float(original[1:])\n",
    "    elif original.startswith('EUR'):\n",
    "        return float(original[4:])*EUR_TO_GBP\n",
    "    elif original.startswith('US'):\n",
    "        return float(original[4:])*USD_TO_GBP\n",
    "    \n",
    "clocks['price'] = clocks['price'].apply(convert_currency)"
   ]
  },
  {
   "cell_type": "code",
   "execution_count": 5,
   "metadata": {},
   "outputs": [],
   "source": [
    "zscore = (clocks.price - clocks.price.mean() ) / clocks.price.std()\n",
    "clocks = clocks[zscore < 2.5]"
   ]
  },
  {
   "cell_type": "code",
   "execution_count": 6,
   "metadata": {},
   "outputs": [],
   "source": [
    "WEEKENDS = ['2022-10-01', '2022-10-02', '2022-10-07', '2022-10-08', '2022-10-09', '2022-10-14', \n",
    "            '2022-10-15', '2022-10-16', '2022-10-21', '2022-10-22', '2022-10-23', '2022-10-28', \n",
    "            '2022-10-29', '2022-10-30', '2022-11-04', '2022-11-05', '2022-11-06', '2022-11-11', \n",
    "            '2022-11-12', '2022-11-13', '2022-11-18', '2022-11-19', '2022-11-20','2022-11-25',\n",
    "            '2022-11-26','2022-11-27']\n",
    "\n",
    "clocks['endAtWeekend'] = clocks[\"endTime\"].str.slice(0, 10).isin(WEEKENDS).astype(int)"
   ]
  },
  {
   "cell_type": "code",
   "execution_count": 7,
   "metadata": {},
   "outputs": [],
   "source": [
    "clocks['endAtEvening'] = clocks[\"endTime\"].str.slice(11, 13).astype(int).gt(16).astype(int)"
   ]
  },
  {
   "cell_type": "code",
   "execution_count": 8,
   "metadata": {
    "scrolled": true
   },
   "outputs": [],
   "source": [
    "clocks['length'] = (pd.to_datetime(clocks['endTime'])-pd.to_datetime(clocks['startTime'])).dt.days"
   ]
  },
  {
   "cell_type": "code",
   "execution_count": 9,
   "metadata": {},
   "outputs": [],
   "source": [
    "USED = [3000, 6000, 2500, 5000, 2750]\n",
    "NEW = ['1000', '1500']\n",
    "BROKEN = [7000]\n",
    "\n",
    "clocks['isBroken'] = clocks['conditionId'].isin(BROKEN).astype(int)\n",
    "clocks['isUsed'] = clocks['conditionId'].isin(USED).astype(int)"
   ]
  },
  {
   "cell_type": "code",
   "execution_count": 10,
   "metadata": {},
   "outputs": [],
   "source": [
    "clocks['isLarge'] = clocks['title'].str.lower().str.contains('large').astype(int)"
   ]
  },
  {
   "cell_type": "code",
   "execution_count": 11,
   "metadata": {},
   "outputs": [],
   "source": [
    "clocks['freeShipping'] = (clocks['shippingType'] == 'Free').astype(int)"
   ]
  },
  {
   "cell_type": "code",
   "execution_count": 12,
   "metadata": {},
   "outputs": [],
   "source": [
    "clocks['isSold'] = (clocks['bids'] > 0).astype(int)"
   ]
  },
  {
   "cell_type": "code",
   "execution_count": 13,
   "metadata": {},
   "outputs": [],
   "source": [
    "clocks = clocks.drop(['title', 'url', 'globalId', 'categoryId', 'categoryName', 'location', 'shippingType',\n",
    "                     'shippingLocations', 'startTime', 'endTime', 'conditionId', 'sellerName', 'bids'], axis=1)"
   ]
  },
  {
   "cell_type": "code",
   "execution_count": 14,
   "metadata": {},
   "outputs": [],
   "source": [
    "clocks = clocks.reset_index(drop=True)\n",
    "clocks.to_csv('uk_clocks.csv')"
   ]
  }
 ],
 "metadata": {
  "kernelspec": {
   "display_name": "Python 3",
   "language": "python",
   "name": "python3"
  },
  "language_info": {
   "codemirror_mode": {
    "name": "ipython",
    "version": 3
   },
   "file_extension": ".py",
   "mimetype": "text/x-python",
   "name": "python",
   "nbconvert_exporter": "python",
   "pygments_lexer": "ipython3",
   "version": "3.8.5"
  }
 },
 "nbformat": 4,
 "nbformat_minor": 4
}
