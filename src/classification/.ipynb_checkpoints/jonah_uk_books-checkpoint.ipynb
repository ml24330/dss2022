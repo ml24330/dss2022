{
 "cells": [
  {
   "cell_type": "code",
   "execution_count": 2,
   "id": "489d670b",
   "metadata": {},
   "outputs": [],
   "source": [
    "##All my imports\n",
    "\n",
    "import pandas as pd\n",
    "from sklearn.ensemble import GradientBoostingRegressor\n",
    "import numpy as np\n",
    "from sklearn.model_selection import train_test_split\n",
    "from sklearn.metrics import mean_squared_error\n",
    "from sklearn.datasets import load_boston\n",
    "from sklearn.metrics import mean_absolute_error\n",
    "from sklearn.metrics import r2_score\n",
    "from sklearn.metrics import mean_squared_error\n",
    "\n",
    "from sklearn.neighbors import KNeighborsClassifier\n",
    "from sklearn import metrics\n",
    "from sklearn.metrics import confusion_matrix\n",
    "from sklearn.metrics import ConfusionMatrixDisplay\n",
    "from sklearn.model_selection import train_test_split\n",
    "\n",
    "\n",
    "from sklearn.svm import SVC\n",
    "from sklearn.metrics import accuracy_score\n",
    "from sklearn.pipeline import Pipeline\n",
    "\n",
    "from sklearn.model_selection import train_test_split\n",
    "from sklearn.model_selection import RepeatedStratifiedKFold\n",
    "\n",
    "\n",
    "from sklearn.model_selection import GridSearchCV"
   ]
  },
  {
   "cell_type": "code",
   "execution_count": 3,
   "id": "0864cf6f",
   "metadata": {},
   "outputs": [],
   "source": [
    "##Initialisation\n",
    "df = pd.read_csv('./uk_books.csv')\n",
    "\n",
    "\n",
    "names = ['listingIsTopRated','sellerFeedbackScore','sellerPositivePercent','sellerIsTopRated','endAtWeekend','endAtEvening','length','isBroken','isUsed','isSet','freeShipping']\n",
    "\n",
    "x = df[names]\n",
    "y = df['isSold']\n"
   ]
  },
  {
   "cell_type": "code",
   "execution_count": 4,
   "id": "de1f5aa5",
   "metadata": {},
   "outputs": [],
   "source": [
    "##Test and Train split\n",
    "# Split dataset into training set and test set\n",
    "x_train, x_test, y_train, y_test = train_test_split(x, y, test_size=0.3) # 70% training and 30% test\n"
   ]
  },
  {
   "cell_type": "code",
   "execution_count": 6,
   "id": "153a1b29",
   "metadata": {},
   "outputs": [],
   "source": [
    "##Optimising the parameters for the SVM model\n",
    "def optimise():\n",
    "    param_grid = {\n",
    "        'model__gamma':[0.001, 0.01, 1],\n",
    "        'model__C':[0.25, 0.75, 2.1],\n",
    "        'model__kernel': ['linear', 'poly', 'linear']\n",
    "    }\n",
    "\n",
    "    model = SVC()\n",
    "    steps = [('model', model)]\n",
    "\n",
    "    pipeline = Pipeline(steps)\n",
    "\n",
    "    cv = RepeatedStratifiedKFold(n_splits=10, n_repeats=3, random_state=1)\n",
    "    search = GridSearchCV(pipeline, param_grid, scoring='balanced_accuracy', cv=cv, n_jobs=-1)\n",
    "    search.fit(x,y)\n",
    "\n",
    "    print(f'Best score is {search.best_score_}')\n",
    "    print(f'Best Params are {search.best_params_}')\n"
   ]
  },
  {
   "cell_type": "code",
   "execution_count": 5,
   "id": "e914391d",
   "metadata": {},
   "outputs": [
    {
     "name": "stdout",
     "output_type": "stream",
     "text": [
      "The accuracy is 0.864321608040201\n"
     ]
    },
    {
     "data": {
      "text/plain": [
       "<sklearn.metrics._plot.confusion_matrix.ConfusionMatrixDisplay at 0x7feb7c94b730>"
      ]
     },
     "execution_count": 5,
     "metadata": {},
     "output_type": "execute_result"
    },
    {
     "data": {
      "image/png": "[encoded data removed]",
      "text/plain": [
       "<Figure size 432x288 with 2 Axes>"
      ]
     },
     "metadata": {
      "needs_background": "light"
     },
     "output_type": "display_data"
    }
   ],
   "source": [
    "#A single attmept of SVM model. Should have the idea results plugged in here.\n",
    "\n",
    "clf = SVC(kernel='rbf', C=2.5, gamma=0.001)\n",
    "model = clf.fit(x_train,y_train)\n",
    "y_pred = clf.predict(x_test)\n",
    "acc = accuracy_score(y_test,y_pred)\n",
    "\n",
    "print(f'The accuracy is {acc}')\n",
    "\n",
    "cm = confusion_matrix(y_test, y_pred, labels=clf.classes_)\n",
    "disp = ConfusionMatrixDisplay(confusion_matrix=cm, display_labels=clf.classes_)\n",
    "\n",
    "disp.plot()\n"
   ]
  },
  {
   "cell_type": "code",
   "execution_count": 6,
   "id": "d58a0226",
   "metadata": {},
   "outputs": [],
   "source": [
    "from sklearn.inspection import permutation_importance\n",
    "r = permutation_importance(model, x_test, y_test, n_repeats=30, random_state=0)\n",
    "\n",
    "for i in r.importances_mean.argsort()[::-1]:\n",
    "    if r.importances_mean[i] - 2 * r.importances_std[i] > 0:\n",
    "        print(f\"{x.columns[i]:<8}\"\n",
    "              f\"{r.importances_mean[i]:.3f}\"\n",
    "              f\" +/- {r.importances_std[i]:.3f}\")"
   ]
  },
  {
   "cell_type": "raw",
   "id": "d393161c",
   "metadata": {},
   "source": [
    "r"
   ]
  }
 ],
 "metadata": {
  "kernelspec": {
   "display_name": "Python 3 (ipykernel)",
   "language": "python",
   "name": "python3"
  },
  "language_info": {
   "codemirror_mode": {
    "name": "ipython",
    "version": 3
   },
   "file_extension": ".py",
   "mimetype": "text/x-python",
   "name": "python",
   "nbconvert_exporter": "python",
   "pygments_lexer": "ipython3",
   "version": "3.9.12"
  }
 },
 "nbformat": 4,
 "nbformat_minor": 5
}
