{
 "cells": [
  {
   "cell_type": "code",
   "execution_count": 1,
   "metadata": {},
   "outputs": [],
   "source": [
    "import pandas as pd\n",
    "from db_utils import Query, QueryAll, QueryAllFinished\n",
    "\n",
    "data = QueryAll()\n",
    "cols = [\"id\", \"title\", \"globalId\", \"categoryId\", \"categoryName\", \"url\", \"location\", \"shippingType\", \"shippingLocations\",\n",
    "                \"shippingTime\", \"startTime\", \"endTime\", \"returnsAccepted\", \"conditionId\", \"listingIsTopRated\", \n",
    "                \"sellerFeedbackScore\", \"sellerPositivePercent\", \"sellerName\", \"sellerIsTopRated\", \"price\", \"currency\", \"bids\"]"
   ]
  },
  {
   "cell_type": "code",
   "execution_count": 25,
   "metadata": {},
   "outputs": [],
   "source": [
    "df = pd.DataFrame(data, columns=cols)"
   ]
  },
  {
   "cell_type": "code",
   "execution_count": 42,
   "metadata": {},
   "outputs": [],
   "source": [
    "df2 = pd.DataFrame(QueryAllFinished(), columns=cols)"
   ]
  },
  {
   "cell_type": "code",
   "execution_count": 3,
   "metadata": {},
   "outputs": [
    {
     "ename": "ValueError",
     "evalue": "invalid literal for int() with base 10: '£15.90'",
     "output_type": "error",
     "traceback": [
      "\u001b[0;31m---------------------------------------------------------------------------\u001b[0m",
      "\u001b[0;31mValueError\u001b[0m                                Traceback (most recent call last)",
      "\u001b[0;32m<ipython-input-3-e265d62631af>\u001b[0m in \u001b[0;36m<module>\u001b[0;34m\u001b[0m\n\u001b[1;32m      2\u001b[0m \u001b[0;34m\u001b[0m\u001b[0m\n\u001b[1;32m      3\u001b[0m \u001b[0mprice\u001b[0m\u001b[0;34m,\u001b[0m \u001b[0mbids\u001b[0m \u001b[0;34m=\u001b[0m \u001b[0mScrapeItem\u001b[0m\u001b[0;34m(\u001b[0m\u001b[0;34m\"https://www.ebay.co.uk/itm/camera-flash-/374323306568\"\u001b[0m\u001b[0;34m)\u001b[0m\u001b[0;34m\u001b[0m\u001b[0;34m\u001b[0m\u001b[0m\n\u001b[0;32m----> 4\u001b[0;31m \u001b[0mprint\u001b[0m\u001b[0;34m(\u001b[0m\u001b[0mint\u001b[0m\u001b[0;34m(\u001b[0m\u001b[0mprice\u001b[0m\u001b[0;34m)\u001b[0m\u001b[0;34m,\u001b[0m \u001b[0mbids\u001b[0m\u001b[0;34m)\u001b[0m\u001b[0;34m\u001b[0m\u001b[0;34m\u001b[0m\u001b[0m\n\u001b[0m",
      "\u001b[0;31mValueError\u001b[0m: invalid literal for int() with base 10: '£15.90'"
     ]
    }
   ],
   "source": [
    "from ScrapeItem import ScrapeItem\n",
    "\n",
    "price, bids = ScrapeItem(\"https://www.ebay.co.uk/itm/camera-flash-/374323306568\")\n",
    "print(price[1:], bids)\n"
   ]
  },
  {
   "cell_type": "code",
   "execution_count": 41,
   "metadata": {},
   "outputs": [
    {
     "name": "stdout",
     "output_type": "stream",
     "text": [
      "                id  \\\n",
      "2025  125581896213   \n",
      "2609  374323306568   \n",
      "8181  125581898334   \n",
      "2410  374323312639   \n",
      "4620  394306597470   \n",
      "3773  165741655512   \n",
      "4937  225222223650   \n",
      "334   225226639825   \n",
      "865   225226808584   \n",
      "8025  403962120144   \n",
      "7138  364029174475   \n",
      "7099  354358547336   \n",
      "8152  364029177096   \n",
      "2910  175466030609   \n",
      "7684  364029197845   \n",
      "1659  314208348517   \n",
      "3897  334606136585   \n",
      "8175  403962138489   \n",
      "2323  125581942385   \n",
      "4695  374313996226   \n",
      "\n",
      "                                                                                                                         url  \\\n",
      "2025            https://www.ebay.co.uk/itm/OnePlus-9-Pro-128GB-Stellar-Black-Unlocked-Dual-SIM-Great-condition-/125581896213   \n",
      "2609                                                                   https://www.ebay.co.uk/itm/camera-flash-/374323306568   \n",
      "8181                                  https://www.ebay.co.uk/itm/Collection-3-Vintage-Cameras-2-Kodak-1-Ilford-/125581898334   \n",
      "2410                                                                  https://www.ebay.co.uk/itm/camera-ribbon-/374323312639   \n",
      "4620                    https://www.ebay.co.uk/itm/Canon-Eos-750-Camera-Body-Only-35mm-SLR-Parts-Only-UNTESTED-/394306597470   \n",
      "3773        https://www.ebay.co.uk/itm/VINTAGE-FUJI-500-POCKET-110-CAMERA-FLASH-UNIT-BATTERY-DEAD-MANUAL-INCLU-/165741655512   \n",
      "4937                             https://www.ebay.co.uk/itm/Sony-MVC-FD81-Mavica-Digital-Still-Camera-Untested-/225222223650   \n",
      "334                      https://www.ebay.co.uk/itm/Sony-A7-ILCE-7K-Digital-Camera-Kit-Empty-Original-Box-Only-/225226639825   \n",
      "865         https://www.ebay.co.uk/itm/Fujifilm-X-T30-26-1MP-Mirrorless-Camera-15-45mm-Original-Empty-Box-Only-/225226808584   \n",
      "8025               https://www.ebay.co.uk/itm/Judy-Garland-VINTAGE-ORIGINAL-4X5-CAMERA-NEGATIVE-PHOTOGRAPH-130-/403962120144   \n",
      "7138    https://www.ebay.co.uk/itm/Judy-Garland-GENE-KELLY-VINTAGE-ORIGINAL-4X5-CAMERA-NEGATIVE-PHOTOGRAPH-204-/364029174475   \n",
      "7099    https://www.ebay.co.uk/itm/Judy-Garland-GENE-KELLY-VINTAGE-ORIGINAL-4X5-CAMERA-NEGATIVE-PHOTOGRAPH-206-/354358547336   \n",
      "8152      https://www.ebay.co.uk/itm/Judy-Garland-VINCENT-MINNELLI-ORIGINAL-4X5-CAMERA-NEGATIVE-PHOTOGRAPH-207-/364029177096   \n",
      "2910                                             https://www.ebay.co.uk/itm/Nintendo-DSi-XL-Console-Dark-Brown-/175466030609   \n",
      "7684         https://www.ebay.co.uk/itm/Joan-Crawford-RARE-VINTAGE-ORIGINAL-4X5-CAMERA-NEGATIVE-PHOTOGRAPH-214-/364029197845   \n",
      "1659   https://www.ebay.co.uk/itm/DSLR-Mirrorless-Camera-Wrist-Strap-Quick-Release-Hand-Strap-Canon-Nikon-Sony-/314208348517   \n",
      "3897           https://www.ebay.co.uk/itm/GoPro-HERO10-Black-Waterproof-Action-Camera-64GB-w-Batteries-Charger-/334606136585   \n",
      "8175         https://www.ebay.co.uk/itm/Deanna-Durbin-RARE-VINTAGE-ORIGINAL-4X5-CAMERA-NEGATIVE-PHOTOGRAPH-217-/403962138489   \n",
      "2323     https://www.ebay.co.uk/itm/AMAZING-IHagee-Dresden-Exakta-VX-35mm-SLR-Camera-4-Lens-Accessories-Bundle-/125581942385   \n",
      "4695  https://www.ebay.co.uk/itm/Bunny-Yeager-1960s-Camera-Negative-Model-Fran-Stacy-Black-Caesars-Forge-Miami-/374313996226   \n",
      "\n",
      "                  endTime  \n",
      "2025  2022-11-03 00:50:28  \n",
      "2609  2022-11-03 00:50:32  \n",
      "8181  2022-11-03 00:53:22  \n",
      "2410  2022-11-03 00:54:06  \n",
      "4620  2022-11-03 00:59:16  \n",
      "3773  2022-11-03 01:00:00  \n",
      "4937  2022-11-03 01:00:00  \n",
      "334   2022-11-03 01:00:01  \n",
      "865   2022-11-03 01:00:01  \n",
      "8025  2022-11-03 01:05:38  \n",
      "7138  2022-11-03 01:07:53  \n",
      "7099  2022-11-03 01:09:50  \n",
      "8152  2022-11-03 01:11:54  \n",
      "2910  2022-11-03 01:22:04  \n",
      "7684  2022-11-03 01:22:53  \n",
      "1659  2022-11-03 01:23:28  \n",
      "3897  2022-11-03 01:30:01  \n",
      "8175  2022-11-03 01:36:08  \n",
      "2323  2022-11-03 01:37:31  \n",
      "4695  2022-11-03 01:39:00  \n"
     ]
    }
   ],
   "source": [
    "with pd.option_context('display.max_colwidth', None):\n",
    "    print(df.sort_values('endTime')[['id','url','endTime']].head(20))"
   ]
  }
 ],
 "metadata": {
  "kernelspec": {
   "display_name": "Python 3",
   "language": "python",
   "name": "python3"
  },
  "language_info": {
   "codemirror_mode": {
    "name": "ipython",
    "version": 3
   },
   "file_extension": ".py",
   "mimetype": "text/x-python",
   "name": "python",
   "nbconvert_exporter": "python",
   "pygments_lexer": "ipython3",
   "version": "3.8.5"
  }
 },
 "nbformat": 4,
 "nbformat_minor": 4
}
