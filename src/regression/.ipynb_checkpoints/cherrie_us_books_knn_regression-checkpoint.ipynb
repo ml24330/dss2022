{
 "cells": [
  {
   "cell_type": "code",
   "execution_count": 1,
   "id": "21740da1",
   "metadata": {},
   "outputs": [],
   "source": [
    "from sklearn.model_selection import train_test_split\n",
    "from sklearn.neighbors import KNeighborsClassifier\n",
    "from sklearn.neighbors import KNeighborsRegressor\n",
    "from sklearn.metrics import mean_squared_error\n",
    "from math import sqrt\n",
    "\n",
    "import pandas as pd\n",
    "import numpy as np\n",
    "import matplotlib.pyplot as plt"
   ]
  },
  {
   "cell_type": "code",
   "execution_count": 2,
   "id": "6668d627",
   "metadata": {},
   "outputs": [],
   "source": [
    "df = pd.read_csv('./us_books.csv')\n",
    "\n",
    "names = ['id',\n",
    " 'listingIsTopRated',\n",
    " 'sellerFeedbackScore',\n",
    " 'sellerPositivePercent',\n",
    " 'sellerIsTopRated',\n",
    " 'endAtWeekend',\n",
    " 'endAtEvening',\n",
    " 'length',\n",
    " 'isBroken',\n",
    " 'isUsed',\n",
    " 'isSet',\n",
    " 'freeShipping']\n",
    "\n",
    "X = df[names]\n",
    "y = df['price']                      \n",
    "\n",
    "X_train, X_test, y_train, y_test = train_test_split(df[names], df['price'], test_size=0.3)"
   ]
  },
  {
   "cell_type": "code",
   "execution_count": 3,
   "id": "20d74a6d",
   "metadata": {},
   "outputs": [],
   "source": [
    "neigh = KNeighborsRegressor(n_neighbors=5)\n",
    "neigh.fit(X_train, y_train)\n",
    "y_preds = neigh.predict(X_test)"
   ]
  },
  {
   "cell_type": "code",
   "execution_count": 4,
   "id": "13cb9c61",
   "metadata": {},
   "outputs": [
    {
     "data": {
      "text/plain": [
       "'Mean Squared Error: 5801.094316532977'"
      ]
     },
     "execution_count": 4,
     "metadata": {},
     "output_type": "execute_result"
    }
   ],
   "source": [
    "mse = mean_squared_error(y_test, y_preds)\n",
    "f'Mean Squared Error: {mse}'"
   ]
  },
  {
   "cell_type": "code",
   "execution_count": 5,
   "id": "df0e39a5",
   "metadata": {},
   "outputs": [
    {
     "data": {
      "text/plain": [
       "'Root Mean Squared Error: 76.16491525980304'"
      ]
     },
     "execution_count": 5,
     "metadata": {},
     "output_type": "execute_result"
    }
   ],
   "source": [
    "rmse = sqrt(mse)\n",
    "f'Root Mean Squared Error: {rmse}'"
   ]
  }
 ],
 "metadata": {
  "kernelspec": {
   "display_name": "Python 3 (ipykernel)",
   "language": "python",
   "name": "python3"
  },
  "language_info": {
   "codemirror_mode": {
    "name": "ipython",
    "version": 3
   },
   "file_extension": ".py",
   "mimetype": "text/x-python",
   "name": "python",
   "nbconvert_exporter": "python",
   "pygments_lexer": "ipython3",
   "version": "3.9.12"
  }
 },
 "nbformat": 4,
 "nbformat_minor": 5
}
