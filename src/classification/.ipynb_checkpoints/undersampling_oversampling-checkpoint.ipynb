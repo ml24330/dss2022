{
 "cells": [
  {
   "cell_type": "code",
   "execution_count": 2,
   "id": "3b4888b5",
   "metadata": {},
   "outputs": [],
   "source": [
    "import pandas as pd\n",
    "from sklearn.utils import resample"
   ]
  },
  {
   "cell_type": "code",
   "execution_count": 3,
   "id": "f5fc83c0",
   "metadata": {},
   "outputs": [],
   "source": [
    "def downsample(majority_class, minority_class):\n",
    "    majority_class_downsample = resample(majority_class,\n",
    "                 replace=True,\n",
    "                 n_samples=len(minority_class),\n",
    "                 random_state=42)\n",
    "    downsampled = pd.concat([majority_class_downsample, minority_class])\n",
    "    return downsampled"
   ]
  },
  {
   "cell_type": "code",
   "execution_count": 4,
   "id": "914f8bb3",
   "metadata": {},
   "outputs": [],
   "source": [
    "def upsample(majority_class, minority_class):\n",
    "    minority_class_upsample = resample(minority_class,\n",
    "             replace=True,\n",
    "             n_samples=len(majority_class),\n",
    "             random_state=42)\n",
    "    upsampled = pd.concat([minority_class_upsample, majority_class])\n",
    "    return upsampled"
   ]
  }
 ],
 "metadata": {
  "kernelspec": {
   "display_name": "Python 3 (ipykernel)",
   "language": "python",
   "name": "python3"
  },
  "language_info": {
   "codemirror_mode": {
    "name": "ipython",
    "version": 3
   },
   "file_extension": ".py",
   "mimetype": "text/x-python",
   "name": "python",
   "nbconvert_exporter": "python",
   "pygments_lexer": "ipython3",
   "version": "3.9.12"
  }
 },
 "nbformat": 4,
 "nbformat_minor": 5
}
