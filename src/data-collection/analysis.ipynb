{
 "cells": [
  {
   "cell_type": "code",
   "execution_count": 112,
   "metadata": {},
   "outputs": [],
   "source": [
    "import pandas as pd\n",
    "from db_utils import Query, QueryAll, QueryAllFinished, UpdateItem\n",
    "\n",
    "data = QueryAll(\"clock_uk\")\n",
    "cols = [\"id\", \"title\", \"globalId\", \"categoryId\", \"categoryName\", \"url\", \"location\", \"shippingType\", \"shippingLocations\",\n",
    "                \"shippingTime\", \"startTime\", \"endTime\", \"returnsAccepted\", \"conditionId\", \"listingIsTopRated\", \n",
    "                \"sellerFeedbackScore\", \"sellerPositivePercent\", \"sellerName\", \"sellerIsTopRated\", \"price\", \"currency\", \"bids\"]"
   ]
  },
  {
   "cell_type": "code",
   "execution_count": 115,
   "metadata": {},
   "outputs": [],
   "source": [
    "df = pd.DataFrame(data, columns=cols)\n",
    "d = df[df.price != -1]\n",
    "dd = d[d.price != -2]"
   ]
  },
  {
   "cell_type": "code",
   "execution_count": 105,
   "metadata": {},
   "outputs": [
    {
     "data": {
      "text/html": [
       "<div>\n",
       "<style scoped>\n",
       "    .dataframe tbody tr th:only-of-type {\n",
       "        vertical-align: middle;\n",
       "    }\n",
       "\n",
       "    .dataframe tbody tr th {\n",
       "        vertical-align: top;\n",
       "    }\n",
       "\n",
       "    .dataframe thead th {\n",
       "        text-align: right;\n",
       "    }\n",
       "</style>\n",
       "<table border=\"1\" class=\"dataframe\">\n",
       "  <thead>\n",
       "    <tr style=\"text-align: right;\">\n",
       "      <th></th>\n",
       "      <th>id</th>\n",
       "      <th>title</th>\n",
       "      <th>globalId</th>\n",
       "      <th>categoryId</th>\n",
       "      <th>categoryName</th>\n",
       "      <th>url</th>\n",
       "      <th>location</th>\n",
       "      <th>shippingType</th>\n",
       "      <th>shippingLocations</th>\n",
       "      <th>shippingTime</th>\n",
       "      <th>...</th>\n",
       "      <th>returnsAccepted</th>\n",
       "      <th>conditionId</th>\n",
       "      <th>listingIsTopRated</th>\n",
       "      <th>sellerFeedbackScore</th>\n",
       "      <th>sellerPositivePercent</th>\n",
       "      <th>sellerName</th>\n",
       "      <th>sellerIsTopRated</th>\n",
       "      <th>price</th>\n",
       "      <th>currency</th>\n",
       "      <th>bids</th>\n",
       "    </tr>\n",
       "  </thead>\n",
       "  <tbody>\n",
       "    <tr>\n",
       "      <th>1743</th>\n",
       "      <td>394311699595</td>\n",
       "      <td>electric Küchenuhr Keramik Gehäuse Modell 955 ...</td>\n",
       "      <td>EBAY-DE</td>\n",
       "      <td>261608</td>\n",
       "      <td>Wanduhren</td>\n",
       "      <td>https://www.ebay.co.uk/itm/electric-Kuchenuhr-...</td>\n",
       "      <td>Germany</td>\n",
       "      <td>Flat</td>\n",
       "      <td>Worldwide</td>\n",
       "      <td>-1</td>\n",
       "      <td>...</td>\n",
       "      <td>-1</td>\n",
       "      <td>3000</td>\n",
       "      <td>0</td>\n",
       "      <td>853</td>\n",
       "      <td>98.9</td>\n",
       "      <td>sunset_reloaded</td>\n",
       "      <td>0</td>\n",
       "      <td>EUR 39.90</td>\n",
       "      <td>-1</td>\n",
       "      <td>0</td>\n",
       "    </tr>\n",
       "  </tbody>\n",
       "</table>\n",
       "<p>1 rows × 22 columns</p>\n",
       "</div>"
      ],
      "text/plain": [
       "                id                                              title  \\\n",
       "1743  394311699595  electric Küchenuhr Keramik Gehäuse Modell 955 ...   \n",
       "\n",
       "     globalId  categoryId categoryName  \\\n",
       "1743  EBAY-DE      261608    Wanduhren   \n",
       "\n",
       "                                                    url location shippingType  \\\n",
       "1743  https://www.ebay.co.uk/itm/electric-Kuchenuhr-...  Germany         Flat   \n",
       "\n",
       "     shippingLocations  shippingTime  ... returnsAccepted conditionId  \\\n",
       "1743         Worldwide            -1  ...              -1        3000   \n",
       "\n",
       "      listingIsTopRated  sellerFeedbackScore  sellerPositivePercent  \\\n",
       "1743                  0                  853                   98.9   \n",
       "\n",
       "           sellerName  sellerIsTopRated      price  currency bids  \n",
       "1743  sunset_reloaded                 0  EUR 39.90        -1    0  \n",
       "\n",
       "[1 rows x 22 columns]"
      ]
     },
     "execution_count": 105,
     "metadata": {},
     "output_type": "execute_result"
    }
   ],
   "source": [
    "df[df.id == 394311699595]"
   ]
  },
  {
   "cell_type": "code",
   "execution_count": 11,
   "metadata": {},
   "outputs": [
    {
     "name": "stdout",
     "output_type": "stream",
     "text": [
      "0                 https://www.ebay.com/itm/Harry-Potter-Harry-Potter-and-Sorcerers-Stone-1-J-K-Rowling-1999-/334610977936\n",
      "1                        https://www.ebay.com/itm/Harry-Potter-Ser-Harry-Potter-and-Goblet-Fire-J-K-Rowling-/334610979426\n",
      "2                          https://www.ebay.com/itm/Harry-Potter-and-Half-Blood-Prince-Book-6-Printing-2005-/334610971538\n",
      "3                                       https://www.ebay.com/itm/Harry-Potter-and-Order-Phoenix-J-K-Rowling-/334610969254\n",
      "4      https://www.ebay.com/itm/HARRY-POTTER-Hogwarts-Journal-Hardcover-Collectable-Book-w-Stickers-EC-RARE-/195443653237\n",
      "5     https://www.ebay.com/itm/Harry-Potter-Half-Blood-Prince-Advanced-Potion-Making-Book-Page-Prop-Card-P2-/385206799965\n",
      "6     https://www.ebay.com/itm/NECA-Professor-Severus-Snape-figure-Harry-Potter-TOOP-Series-2-Order-Phoenix-/134309878454\n",
      "7        https://www.ebay.com/itm/LEGO-Harry-Potter-Monster-Book-Monsters-30628-Promotional-Set-NIB-Retired-/314212470477\n",
      "8            https://www.ebay.com/itm/Funko-Pop-Lot-8-Movies-Retro-Toys-Books-Television-Furby-Harry-Potter-/144789538973\n",
      "9                   https://www.ebay.com/itm/Harry-Potter-and-Prisoner-Azkaban-Book-3-Paperback-J-K-Rowling-/325404800365\n",
      "10       https://www.ebay.com/itm/Harry-Potter-And-Goblet-Fire-Part-1-Cassette-Tapes-Jk-Rowling-Stephen-Fry-/195443455800\n",
      "11        https://www.ebay.com/itm/NECA-Bellatrix-Lestrange-figure-Harry-Potter-TOOP-Series-3-Order-Phoenix-/134309880256\n",
      "12        https://www.ebay.com/itm/Vans-Off-Wall-Realm-Backpack-Maroon-Skating-School-College-Book-Bag-Gift-/255802655538\n",
      "13            https://www.ebay.com/itm/Harry-Potter-and-Goblet-Fire-Part-2-Unabridged-Audiobook-7-Cassettes-/314210257153\n",
      "14     https://www.ebay.com/itm/1999-Harry-Potter-Boxed-Set-1-4-Paperback-First-American-Edition-Scholastic-/394315365300\n",
      "15             https://www.ebay.com/itm/True-First-and-1st-American-Edition-Harry-Potter-Order-Phoenix-2003-/394315365305\n",
      "16       https://www.ebay.com/itm/True-First-and-1st-American-Edition-Harry-Potter-And-Deathly-Hollows-2007-/394315365290\n",
      "17        https://www.ebay.com/itm/NECA-Death-Eaters-Order-Phoenix-figure-Harry-Potter-TOOP-Eater-Voldemort-/134309424073\n",
      "18                https://www.ebay.com/itm/NECA-Ron-Weasley-Order-Phoenix-figure-TOOP-Harry-Potter-Series-1-/134309418821\n",
      "Name: url, dtype: object\n"
     ]
    }
   ],
   "source": [
    "with pd.option_context('display.max_colwidth', None):\n",
    "    print(df.url)"
   ]
  }
 ],
 "metadata": {
  "kernelspec": {
   "display_name": "Python 3",
   "language": "python",
   "name": "python3"
  },
  "language_info": {
   "codemirror_mode": {
    "name": "ipython",
    "version": 3
   },
   "file_extension": ".py",
   "mimetype": "text/x-python",
   "name": "python",
   "nbconvert_exporter": "python",
   "pygments_lexer": "ipython3",
   "version": "3.8.5"
  }
 },
 "nbformat": 4,
 "nbformat_minor": 4
}
