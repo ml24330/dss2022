{
 "cells": [
  {
   "cell_type": "code",
   "execution_count": 54,
   "metadata": {},
   "outputs": [],
   "source": [
    "import pandas as pd\n",
    "from db_utils import Query, QueryAll, QueryAllFinished, UpdateItem\n",
    "\n",
    "data = QueryAll(\"clock_uk\")\n",
    "cols = [\"id\", \"title\", \"globalId\", \"categoryId\", \"categoryName\", \"url\", \"location\", \"shippingType\", \"shippingLocations\",\n",
    "                \"shippingTime\", \"startTime\", \"endTime\", \"returnsAccepted\", \"conditionId\", \"listingIsTopRated\", \n",
    "                \"sellerFeedbackScore\", \"sellerPositivePercent\", \"sellerName\", \"sellerIsTopRated\", \"price\", \"currency\", \"bids\"]"
   ]
  }
 ],
 "metadata": {
  "kernelspec": {
   "display_name": "Python 3",
   "language": "python",
   "name": "python3"
  },
  "language_info": {
   "codemirror_mode": {
    "name": "ipython",
    "version": 3
   },
   "file_extension": ".py",
   "mimetype": "text/x-python",
   "name": "python",
   "nbconvert_exporter": "python",
   "pygments_lexer": "ipython3",
   "version": "3.8.5"
  },
  "vscode": {
   "interpreter": {
    "hash": "1de952d6b3aa2f7bd66de62e70f531ceca6ac9c966b8ebf3d2e71f4766828835"
   }
  }
 },
 "nbformat": 4,
 "nbformat_minor": 4
}
