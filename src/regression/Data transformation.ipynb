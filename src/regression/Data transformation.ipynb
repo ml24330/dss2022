{
 "cells": [
  {
   "cell_type": "code",
   "execution_count": 117,
   "metadata": {},
   "outputs": [],
   "source": [
    "import pandas as pd\n",
    "\n",
    "uk_clocks = pd.read_csv('uk_clocks.csv')\n",
    "uk_clocks = uk_clocks[uk_clocks.isSold == 1].reset_index(drop=True)\n",
    "uk_clocks.to_csv('uk_clocks.csv', index=False)\n",
    "\n",
    "us_clocks = pd.read_csv('us_clocks.csv')\n",
    "us_clocks = us_clocks[us_clocks.isSold == 1].reset_index(drop=True)\n",
    "us_clocks.to_csv('us_clocks.csv', index=False)\n",
    "\n",
    "uk_books = pd.read_csv('uk_books.csv')\n",
    "uk_books = uk_books[uk_books.isSold == 1].reset_index(drop=True)\n",
    "uk_books.to_csv('uk_books.csv', index=False)\n",
    "\n",
    "us_books = pd.read_csv('us_books.csv')\n",
    "us_books = us_books[us_books.isSold == 1].reset_index(drop=True)\n",
    "us_books.to_csv('us_books.csv', index=False)"
   ]
  },
  {
   "cell_type": "code",
   "execution_count": null,
   "metadata": {},
   "outputs": [],
   "source": []
  }
 ],
 "metadata": {
  "kernelspec": {
   "display_name": "Python 3",
   "language": "python",
   "name": "python3"
  },
  "language_info": {
   "codemirror_mode": {
    "name": "ipython",
    "version": 3
   },
   "file_extension": ".py",
   "mimetype": "text/x-python",
   "name": "python",
   "nbconvert_exporter": "python",
   "pygments_lexer": "ipython3",
   "version": "3.8.5"
  }
 },
 "nbformat": 4,
 "nbformat_minor": 4
}
